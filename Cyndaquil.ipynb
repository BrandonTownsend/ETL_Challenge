{
 "metadata": {
  "language_info": {
   "codemirror_mode": {
    "name": "ipython",
    "version": 3
   },
   "file_extension": ".py",
   "mimetype": "text/x-python",
   "name": "python",
   "nbconvert_exporter": "python",
   "pygments_lexer": "ipython3",
   "version": "3.7.6-final"
  },
  "orig_nbformat": 2,
  "kernelspec": {
   "name": "python37564bit2c7114826dda4ed9a3e681c943ac3860",
   "display_name": "Python 3.7.5 64-bit"
  }
 },
 "nbformat": 4,
 "nbformat_minor": 2,
 "cells": [
  {
   "cell_type": "code",
   "execution_count": 1,
   "metadata": {},
   "outputs": [],
   "source": [
    "from mpl_toolkits.mplot3d import Axes3D\n",
    "from sklearn.preprocessing import StandardScaler\n",
    "import matplotlib.pyplot as plt\n",
    "import numpy as np\n",
    "import os \n",
    "import pandas as pd \n",
    "from xml.dom import minidom\n"
   ]
  },
  {
   "cell_type": "code",
   "execution_count": 2,
   "metadata": {
    "tags": []
   },
   "outputs": [
    {
     "output_type": "stream",
     "name": "stdout",
     "text": "b'<report skipped=\"0\" listed=\"50\">\\n<item id=\"10216\"><anime href=\"/encyclopedia/anime.php?id=10216\">Fullmetal Alchemist: Brotherhood (TV)</anime><nb_votes>5817</nb_votes><nb_seen>10861</nb_seen><straight_average>9.106200218200684</straight_average><weighted_average>9.09529972076416</weighted_average><bayesian_average>9.092020988464355</bayesian_average></item>\\n<item id=\"18171\"><anime href=\"/encyclopedia/anime.php?id=18171\">your name. (movie)</anime><nb_votes>1101</nb_votes><nb_seen>1482</nb_seen><straight_average>9.104499816894531</straight_average><weighted_average>9.0871000289917</weighted_average><bayesian_average>9.070018768310547</bayesian_average></item>\\n<item id=\"11770\"><anime href=\"/encyclopedia/anime.php?id=11770\">Steins;Gate (TV)</anime><nb_votes>4656</nb_votes><nb_seen>6812</nb_seen><straight_average>9.138099670410156</straight_average><weighted_average>9.059100151062012</weighted_average><bayesian_average>9.055099487304688</bayesian_average></item>\\n<item id=\"9701\"><anime href=\"/encyclopedia/anime.php?id=9701\">Clannad After Story (TV)</anime><nb_votes>5180</nb_votes><nb_seen>8361</nb_seen><straight_average>8.951000213623047</straight_average><weighted_average>9.055299758911133</weighted_average><bayesian_average>9.051711082458496</bayesian_average></item>\\n<item id=\"210\"><anime href=\"/encyclopedia/anime.php?id=210\">Rurouni Kenshin: Trust &amp; Betrayal (OAV)</anime><nb_votes>6649</nb_votes><nb_seen>10385</nb_seen><straight_average>8.923399925231934</straight_average><weighted_average>8.972299575805664</weighted_average><bayesian_average>8.96965217590332</bayesian_average></item>\\n<item id=\"9173\"><anime href=\"/encyclopedia/anime.php?id=9173\">Code Geass: Lelouch of the Rebellion R2 (TV)</anime><nb_votes>7870</nb_votes><nb_seen>12553</nb_seen><straight_average>9.01990032196045</straight_average><weighted_average>8.93179988861084</weighted_average><bayesian_average>8.929624557495117</bayesian_average></item>\\n<item id=\"377\"><anime href=\"/encyclopedia/anime.php?id=377\">Spirited Away (movie)</anime><nb_votes>10547</nb_votes><nb_seen>15398</nb_seen><straight_average>8.969799995422363</straight_average><weighted_average>8.926400184631348</weighted_average><bayesian_average>8.924782752990723</bayesian_average></item>\\n<item id=\"15895\"><anime href=\"/encyclopedia/anime.php?id=15895\">Mushishi: The Next Chapter (TV)</anime><nb_votes>512</nb_votes><nb_seen>848</nb_seen><straight_average>8.824199676513672</straight_average><weighted_average>8.933699607849121</weighted_average><bayesian_average>8.900931358337402</bayesian_average></item>\\n<item id=\"13\"><anime href=\"/encyclopedia/anime.php?id=13\">Cowboy Bebop (TV)</anime><nb_votes>12244</nb_votes><nb_seen>21028</nb_seen><straight_average>8.932900428771973</straight_average><weighted_average>8.89490032196045</weighted_average><bayesian_average>8.893537521362305</bayesian_average></item>\\n<item id=\"197\"><anime href=\"/encyclopedia/anime.php?id=197\">Princess Mononoke (movie)</anime><nb_votes>9835</nb_votes><nb_seen>15402</nb_seen><straight_average>8.928099632263184</straight_average><weighted_average>8.864999771118164</weighted_average><bayesian_average>8.8633394241333</bayesian_average></item>\\n<item id=\"16661\"><anime href=\"/encyclopedia/anime.php?id=16661\">Silent Voice (movie)</anime><nb_votes>560</nb_votes><nb_seen>765</nb_seen><straight_average>8.857099533081055</straight_average><weighted_average>8.888899803161621</weighted_average><bayesian_average>8.859820365905762</bayesian_average></item>\\n<item id=\"11120\"><anime href=\"/encyclopedia/anime.php?id=11120\">Disappearance of Haruhi Suzumiya (movie)</anime><nb_votes>2792</nb_votes><nb_seen>4029</nb_seen><straight_average>8.868599891662598</straight_average><weighted_average>8.861700057983398</weighted_average><bayesian_average>8.855884552001953</bayesian_average></item>\\n<item id=\"1786\"><anime href=\"/encyclopedia/anime.php?id=1786\">Legend of the Galactic Heroes (OAV)</anime><nb_votes>726</nb_votes><nb_seen>1141</nb_seen><straight_average>8.785099983215332</straight_average><weighted_average>8.834799766540527</weighted_average><bayesian_average>8.813140869140625</bayesian_average></item>\\n<item id=\"5923\"><anime href=\"/encyclopedia/anime.php?id=5923\">Mushi-Shi (TV)</anime><nb_votes>4995</nb_votes><nb_seen>8163</nb_seen><straight_average>8.803199768066406</straight_average><weighted_average>8.79259967803955</weighted_average><bayesian_average>8.789508819580078</bayesian_average></item>\\n<item id=\"6592\"><anime href=\"/encyclopedia/anime.php?id=6592\">Death Note (TV)</anime><nb_votes>12912</nb_votes><nb_seen>22218</nb_seen><straight_average>8.863200187683105</straight_average><weighted_average>8.781299591064453</weighted_average><bayesian_average>8.780112266540527</bayesian_average></item>\\n<item id=\"18952\"><anime href=\"/encyclopedia/anime.php?id=18952\">Made in Abyss (TV)</anime><nb_votes>644</nb_votes><nb_seen>883</nb_seen><straight_average>8.807499885559082</straight_average><weighted_average>8.79539966583252</weighted_average><bayesian_average>8.771754264831543</bayesian_average></item>\\n<item id=\"6113\"><anime href=\"/encyclopedia/anime.php?id=6113\">Maria Watches Over Us 3rd Season (OAV)</anime><nb_votes>726</nb_votes><nb_seen>1044</nb_seen><straight_average>8.7947998046875</straight_average><weighted_average>8.790200233459473</weighted_average><bayesian_average>8.769267082214355</bayesian_average></item>\\n<item id=\"4175\"><anime href=\"/encyclopedia/anime.php?id=4175\">Maria Watches Over Us Season 2: Printemps (TV)</anime><nb_votes>1343</nb_votes><nb_seen>1820</nb_seen><straight_average>8.829500198364258</straight_average><weighted_average>8.760100364685059</weighted_average><bayesian_average>8.7489652633667</bayesian_average></item>\\n<item id=\"6704\"><anime href=\"/encyclopedia/anime.php?id=6704\">Code Geass: Lelouch of the Rebellion (TV)</anime><nb_votes>9183</nb_votes><nb_seen>15214</nb_seen><straight_average>8.854299545288086</straight_average><weighted_average>8.74120044708252</weighted_average><bayesian_average>8.739583969116211</bayesian_average></item>\\n<item id=\"18888\"><anime href=\"/encyclopedia/anime.php?id=18888\">Descending Stories: Showa Genroku Rakugo Shinju (TV)</anime><nb_votes>182</nb_votes><nb_seen>260</nb_seen><straight_average>8.818699836730957</straight_average><weighted_average>8.812000274658203</weighted_average><bayesian_average>8.731019020080566</bayesian_average></item>\\n<item id=\"12398\"><anime href=\"/encyclopedia/anime.php?id=12398\">Bunny Drop (TV)</anime><nb_votes>1801</nb_votes><nb_seen>2667</nb_seen><straight_average>8.789600372314453</straight_average><weighted_average>8.729399681091309</weighted_average><bayesian_average>8.721281051635742</bayesian_average></item>\\n<item id=\"12368\"><anime href=\"/encyclopedia/anime.php?id=12368\">anohana: The Flower We Saw That Day (TV)</anime><nb_votes>3237</nb_votes><nb_seen>4879</nb_seen><straight_average>8.785900115966797</straight_average><weighted_average>8.724900245666504</weighted_average><bayesian_average>8.720386505126953</bayesian_average></item>\\n<item id=\"9210\"><anime href=\"/encyclopedia/anime.php?id=9210\">Maria Watches Over Us 4th Season (TV)</anime><nb_votes>511</nb_votes><nb_seen>722</nb_seen><straight_average>8.747599601745605</straight_average><weighted_average>8.748600006103516</weighted_average><bayesian_average>8.720015525817871</bayesian_average></item>\\n<item id=\"16644\"><anime href=\"/encyclopedia/anime.php?id=16644\">Gintama (TV 4/2015)</anime><nb_votes>151</nb_votes><nb_seen>291</nb_seen><straight_average>8.768199920654297</straight_average><weighted_average>8.811800003051758</weighted_average><bayesian_average>8.715432167053223</bayesian_average></item>\\n<item id=\"3750\"><anime href=\"/encyclopedia/anime.php?id=3750\">Monster (TV)</anime><nb_votes>3472</nb_votes><nb_seen>5782</nb_seen><straight_average>8.76669979095459</straight_average><weighted_average>8.715999603271484</weighted_average><bayesian_average>8.711820602416992</bayesian_average></item>\\n<item id=\"8421\"><anime href=\"/encyclopedia/anime.php?id=8421\">Evangelion: 2.0 You Can (Not) Advance (movie)</anime><nb_votes>2090</nb_votes><nb_seen>3359</nb_seen><straight_average>8.775099754333496</straight_average><weighted_average>8.714599609375</weighted_average><bayesian_average>8.707681655883789</bayesian_average></item>\\n<item id=\"12835\"><anime href=\"/encyclopedia/anime.php?id=12835\">Gintama\\' (TV 2/2011)</anime><nb_votes>432</nb_votes><nb_seen>888</nb_seen><straight_average>8.740699768066406</straight_average><weighted_average>8.739999771118164</weighted_average><bayesian_average>8.706562042236328</bayesian_average></item>\\n<item id=\"15223\"><anime href=\"/encyclopedia/anime.php?id=15223\">Gintama\\' (TV 3/2012)</anime><nb_votes>263</nb_votes><nb_seen>483</nb_seen><straight_average>8.543700218200684</straight_average><weighted_average>8.738800048828125</weighted_average><bayesian_average>8.684865951538086</bayesian_average></item>\\n<item id=\"8495\"><anime href=\"/encyclopedia/anime.php?id=8495\">Ghost in the Shell: Stand Alone Complex 2nd GIG (TV)</anime><nb_votes>2598</nb_votes><nb_seen>4893</nb_seen><straight_average>8.749799728393555</straight_average><weighted_average>8.675299644470215</weighted_average><bayesian_average>8.66990852355957</bayesian_average></item>\\n<item id=\"152\"><anime href=\"/encyclopedia/anime.php?id=152\">Grave of the Fireflies (movie)</anime><nb_votes>4593</nb_votes><nb_seen>6925</nb_seen><straight_average>8.707799911499023</straight_average><weighted_average>8.671600341796875</weighted_average><bayesian_average>8.668554306030273</bayesian_average></item>\\n<item id=\"10580\"><anime href=\"/encyclopedia/anime.php?id=10580\">Cross Game (TV)</anime><nb_votes>688</nb_votes><nb_seen>1060</nb_seen><straight_average>8.780500411987305</straight_average><weighted_average>8.676400184631348</weighted_average><bayesian_average>8.656281471252441</bayesian_average></item>\\n<item id=\"1139\"><anime href=\"/encyclopedia/anime.php?id=1139\">Fighting Spirit (TV)</anime><nb_votes>1628</nb_votes><nb_seen>2824</nb_seen><straight_average>8.746299743652344</straight_average><weighted_average>8.664299964904785</weighted_average><bayesian_average>8.655800819396973</bayesian_average></item>\\n<item id=\"2960\"><anime href=\"/encyclopedia/anime.php?id=2960\">Fullmetal Alchemist (TV)</anime><nb_votes>13436</nb_votes><nb_seen>23627</nb_seen><straight_average>8.728899955749512</straight_average><weighted_average>8.649900436401367</weighted_average><bayesian_average>8.648877143859863</bayesian_average></item>\\n<item id=\"10544\"><anime href=\"/encyclopedia/anime.php?id=10544\">Summer Wars (movie)</anime><nb_votes>3400</nb_votes><nb_seen>4573</nb_seen><straight_average>8.743800163269043</straight_average><weighted_average>8.652299880981445</weighted_average><bayesian_average>8.6482572555542</bayesian_average></item>\\n<item id=\"180\"><anime href=\"/encyclopedia/anime.php?id=180\">Nausica\\xc3\\xa4 of the Valley of the Wind (movie)</anime><nb_votes>5066</nb_votes><nb_seen>7898</nb_seen><straight_average>8.678999900817871</straight_average><weighted_average>8.639800071716309</weighted_average><bayesian_average>8.637113571166992</bayesian_average></item>\\n<item id=\"7010\"><anime href=\"/encyclopedia/anime.php?id=7010\">Nodame Cantabile (TV)</anime><nb_votes>2772</nb_votes><nb_seen>4331</nb_seen><straight_average>8.666299819946289</straight_average><weighted_average>8.641599655151367</weighted_average><bayesian_average>8.636691093444824</bayesian_average></item>\\n<item id=\"6733\"><anime href=\"/encyclopedia/anime.php?id=6733\">Girl Who Leapt Through Time (movie)</anime><nb_votes>5537</nb_votes><nb_seen>7766</nb_seen><straight_average>8.671099662780762</straight_average><weighted_average>8.637100219726562</weighted_average><bayesian_average>8.634647369384766</bayesian_average></item>\\n<item id=\"6696\"><anime href=\"/encyclopedia/anime.php?id=6696\">5 Centimeters Per Second (movie)</anime><nb_votes>5777</nb_votes><nb_seen>8203</nb_seen><straight_average>8.693099975585938</straight_average><weighted_average>8.624199867248535</weighted_average><bayesian_average>8.621875762939453</bayesian_average></item>\\n<item id=\"6698\"><anime href=\"/encyclopedia/anime.php?id=6698\">Gurren Lagann (TV)</anime><nb_votes>6976</nb_votes><nb_seen>11423</nb_seen><straight_average>8.735199928283691</straight_average><weighted_average>8.619600296020508</weighted_average><bayesian_average>8.617682456970215</bayesian_average></item>\\n<item id=\"13262\"><anime href=\"/encyclopedia/anime.php?id=13262\">Hunter \\xc3\\x97 Hunter (TV 2011)</anime><nb_votes>1043</nb_votes><nb_seen>1999</nb_seen><straight_average>8.69890022277832</straight_average><weighted_average>8.622900009155273</weighted_average><bayesian_average>8.610159873962402</bayesian_average></item>\\n<item id=\"7472\"><anime href=\"/encyclopedia/anime.php?id=7472\">Garden of Sinners (movie series)</anime><nb_votes>1702</nb_votes><nb_seen>2700</nb_seen><straight_average>8.7121000289917</straight_average><weighted_average>8.616600036621094</weighted_average><bayesian_average>8.60880184173584</bayesian_average></item>\\n<item id=\"13862\"><anime href=\"/encyclopedia/anime.php?id=13862\">Wolf Children (movie)</anime><nb_votes>1159</nb_votes><nb_seen>1631</nb_seen><straight_average>8.65310001373291</straight_average><weighted_average>8.613100051879883</weighted_average><bayesian_average>8.60172176361084</bayesian_average></item>\\n<item id=\"534\"><anime href=\"/encyclopedia/anime.php?id=534\">My Neighbor Totoro (movie)</anime><nb_votes>4686</nb_votes><nb_seen>7403</nb_seen><straight_average>8.653200149536133</straight_average><weighted_average>8.599699974060059</weighted_average><bayesian_average>8.596898078918457</bayesian_average></item>\\n<item id=\"7492\"><anime href=\"/encyclopedia/anime.php?id=7492\">Baccano! (TV)</anime><nb_votes>4198</nb_votes><nb_seen>6991</nb_seen><straight_average>8.673399925231934</straight_average><weighted_average>8.59119987487793</weighted_average><bayesian_average>8.58809757232666</bayesian_average></item>\\n<item id=\"14996\"><anime href=\"/encyclopedia/anime.php?id=14996\">Gintama: The Final Movie (movie)</anime><nb_votes>166</nb_votes><nb_seen>257</nb_seen><straight_average>8.710800170898438</straight_average><weighted_average>8.653900146484375</weighted_average><bayesian_average>8.576297760009766</bayesian_average></item>\\n<item id=\"6440\"><anime href=\"/encyclopedia/anime.php?id=6440\">Honey and Clover II (TV)</anime><nb_votes>2054</nb_votes><nb_seen>3089</nb_seen><straight_average>8.569100379943848</straight_average><weighted_average>8.580699920654297</weighted_average><bayesian_average>8.57443904876709</bayesian_average></item>\\n<item id=\"21812\"><anime href=\"/encyclopedia/anime.php?id=21812\">Attack on Titan (TV 4/2019)</anime><nb_votes>279</nb_votes><nb_seen>626</nb_seen><straight_average>8.677399635314941</straight_average><weighted_average>8.618800163269043</weighted_average><bayesian_average>8.572779655456543</bayesian_average></item>\\n<item id=\"13600\"><anime href=\"/encyclopedia/anime.php?id=13600\">Natsume\\'s Book of Friends (TV 4)</anime><nb_votes>579</nb_votes><nb_seen>1005</nb_seen><straight_average>8.644200325012207</straight_average><weighted_average>8.590100288391113</weighted_average><bayesian_average>8.568022727966309</bayesian_average></item>\\n<item id=\"10387\"><anime href=\"/encyclopedia/anime.php?id=10387\">Hajime no Ippo: New Challenger (TV)</anime><nb_votes>715</nb_votes><nb_seen>1206</nb_seen><straight_average>8.630800247192383</straight_average><weighted_average>8.576899528503418</weighted_average><bayesian_average>8.55916976928711</bayesian_average></item>\\n<item id=\"6431\"><anime href=\"/encyclopedia/anime.php?id=6431\">Kanon (TV 2/2006)</anime><nb_votes>3643</nb_votes><nb_seen>5693</nb_seen><straight_average>8.641799926757812</straight_average><weighted_average>8.559900283813477</weighted_average><bayesian_average>8.556429862976074</bayesian_average></item></report>'\n"
    }
   ],
   "source": [
    "from lxml import html, etree\n",
    "import requests\n",
    "anime_page = requests.get(\"https://www.animenewsnetwork.com/encyclopedia/reports.xml?id=172\")\n",
    "print(anime_page.content)\n"
   ]
  },
  {
   "cell_type": "code",
   "execution_count": 3,
   "metadata": {
    "tags": []
   },
   "outputs": [
    {
     "output_type": "stream",
     "name": "stdout",
     "text": "b'<report skipped=\"0\" listed=\"50\">\\n<item id=\"2298\"><manga href=\"/encyclopedia/manga.php?id=2298\">Berserk (manga)</manga><nb_votes>1255</nb_votes><nb_seen>2320</nb_seen><straight_average>9.289199829101562</straight_average><weighted_average>9.250699996948242</weighted_average><bayesian_average>9.245918273925781</bayesian_average></item>\\n<item id=\"1511\"><manga href=\"/encyclopedia/manga.php?id=1511\">Monster (manga)</manga><nb_votes>786</nb_votes><nb_seen>1321</nb_seen><straight_average>8.944000244140625</straight_average><weighted_average>9.217900276184082</weighted_average><bayesian_average>9.210445404052734</bayesian_average></item>\\n<item id=\"1264\"><manga href=\"/encyclopedia/manga.php?id=1264\">Nausica\\xc3\\xa4 of the Valley of the Wind (manga)</manga><nb_votes>630</nb_votes><nb_seen>1063</nb_seen><straight_average>9.176199913024902</straight_average><weighted_average>9.211299896240234</weighted_average><bayesian_average>9.202052116394043</bayesian_average></item>\\n<item id=\"6121\"><manga href=\"/encyclopedia/manga.php?id=6121\">Vinland Saga (manga)</manga><nb_votes>239</nb_votes><nb_seen>447</nb_seen><straight_average>9.204999923706055</straight_average><weighted_average>9.17770004272461</weighted_average><bayesian_average>9.154126167297363</bayesian_average></item>\\n<item id=\"3605\"><manga href=\"/encyclopedia/manga.php?id=3605\">Yokohama Kaidashi Kikou (manga)</manga><nb_votes>354</nb_votes><nb_seen>541</nb_seen><straight_average>8.412400245666504</straight_average><weighted_average>9.080599784851074</weighted_average><bayesian_average>9.065683364868164</bayesian_average></item>\\n<item id=\"3424\"><manga href=\"/encyclopedia/manga.php?id=3424\">20th Century Boys (manga)</manga><nb_votes>594</nb_votes><nb_seen>983</nb_seen><straight_average>8.749199867248535</straight_average><weighted_average>9.01669979095459</weighted_average><bayesian_average>9.008197784423828</bayesian_average></item>\\n<item id=\"2565\"><manga href=\"/encyclopedia/manga.php?id=2565\">Fullmetal Alchemist (manga)</manga><nb_votes>1604</nb_votes><nb_seen>3514</nb_seen><straight_average>8.945799827575684</straight_average><weighted_average>8.975000381469727</weighted_average><bayesian_average>8.971941947937012</bayesian_average></item>\\n<item id=\"11\"><manga href=\"/encyclopedia/manga.php?id=11\">Akira (manga)</manga><nb_votes>578</nb_votes><nb_seen>1130</nb_seen><straight_average>8.700699806213379</straight_average><weighted_average>8.934300422668457</weighted_average><bayesian_average>8.926130294799805</bayesian_average></item>\\n<item id=\"2966\"><manga href=\"/encyclopedia/manga.php?id=2966\">Yotsuba&amp;! (manga)</manga><nb_votes>758</nb_votes><nb_seen>1560</nb_seen><straight_average>8.887900352478027</straight_average><weighted_average>8.920900344848633</weighted_average><bayesian_average>8.9147310256958</bayesian_average></item>\\n<item id=\"1595\"><manga href=\"/encyclopedia/manga.php?id=1595\">Vagabond (manga)</manga><nb_votes>345</nb_votes><nb_seen>644</nb_seen><straight_average>8.973899841308594</straight_average><weighted_average>8.877099990844727</weighted_average><bayesian_average>8.864131927490234</bayesian_average></item>\\n<item id=\"1557\"><manga href=\"/encyclopedia/manga.php?id=1557\">GTO (manga)</manga><nb_votes>671</nb_votes><nb_seen>1344</nb_seen><straight_average>8.782400131225586</straight_average><weighted_average>8.85420036315918</weighted_average><bayesian_average>8.847630500793457</bayesian_average></item>\\n<item id=\"4354\"><manga href=\"/encyclopedia/manga.php?id=4354\">Death Note (manga)</manga><nb_votes>2587</nb_votes><nb_seen>4956</nb_seen><straight_average>8.857000350952148</straight_average><weighted_average>8.839699745178223</weighted_average><bayesian_average>8.838010787963867</bayesian_average></item>\\n<item id=\"9205\"><manga href=\"/encyclopedia/manga.php?id=9205\">Goodnight Punpun (manga)</manga><nb_votes>68</nb_votes><nb_seen>144</nb_seen><straight_average>8.941200256347656</straight_average><weighted_average>8.899399757385254</weighted_average><bayesian_average>8.835299491882324</bayesian_average></item>\\n<item id=\"3871\"><manga href=\"/encyclopedia/manga.php?id=3871\">Pluto (manga)</manga><nb_votes>305</nb_votes><nb_seen>483</nb_seen><straight_average>8.822999954223633</straight_average><weighted_average>8.835800170898438</weighted_average><bayesian_average>8.821687698364258</bayesian_average></item>\\n<item id=\"3069\"><manga href=\"/encyclopedia/manga.php?id=3069\">Hajime no Ippo (manga)</manga><nb_votes>172</nb_votes><nb_seen>409</nb_seen><straight_average>8.953499794006348</straight_average><weighted_average>8.846400260925293</weighted_average><bayesian_average>8.821382522583008</bayesian_average></item>\\n<item id=\"4779\"><manga href=\"/encyclopedia/manga.php?id=4779\">Mushishi (manga)</manga><nb_votes>261</nb_votes><nb_seen>557</nb_seen><straight_average>8.831399917602539</straight_average><weighted_average>8.816300392150879</weighted_average><bayesian_average>8.800138473510742</bayesian_average></item>\\n<item id=\"6040\"><manga href=\"/encyclopedia/manga.php?id=6040\">Cross Game (manga)</manga><nb_votes>116</nb_votes><nb_seen>196</nb_seen><straight_average>8.862099647521973</straight_average><weighted_average>8.82610034942627</weighted_average><bayesian_average>8.790083885192871</bayesian_average></item>\\n<item id=\"20344\"><manga href=\"/encyclopedia/manga.php?id=20344\">Kaguya-sama: Love is War (manga)</manga><nb_votes>8</nb_votes><nb_seen>18</nb_seen><straight_average>8.875</straight_average><weighted_average>9.309499740600586</weighted_average><bayesian_average>8.788199424743652</bayesian_average></item>\\n<item id=\"417\"><manga href=\"/encyclopedia/manga.php?id=417\">Phoenix (manga)</manga><nb_votes>69</nb_votes><nb_seen>172</nb_seen><straight_average>8.420299530029297</straight_average><weighted_average>8.835200309753418</weighted_average><bayesian_average>8.775496482849121</bayesian_average></item>\\n<item id=\"5160\"><manga href=\"/encyclopedia/manga.php?id=5160\">REAL (manga)</manga><nb_votes>60</nb_votes><nb_seen>130</nb_seen><straight_average>9.01669979095459</straight_average><weighted_average>8.836999893188477</weighted_average><bayesian_average>8.768787384033203</bayesian_average></item>\\n<item id=\"8751\"><manga href=\"/encyclopedia/manga.php?id=8751\">With the Light: Raising an Autistic Child (manga)</manga><nb_votes>34</nb_votes><nb_seen>70</nb_seen><straight_average>8.941200256347656</straight_average><weighted_average>8.876999855041504</weighted_average><bayesian_average>8.757905006408691</bayesian_average></item>\\n<item id=\"17218\"><manga href=\"/encyclopedia/manga.php?id=17218\">Erased (manga)</manga><nb_votes>27</nb_votes><nb_seen>50</nb_seen><straight_average>9</straight_average><weighted_average>8.90719985961914</weighted_average><bayesian_average>8.757315635681152</bayesian_average></item>\\n<item id=\"1863\"><manga href=\"/encyclopedia/manga.php?id=1863\">Skip Beat! (manga)</manga><nb_votes>391</nb_votes><nb_seen>1068</nb_seen><straight_average>8.890000343322754</straight_average><weighted_average>8.76509952545166</weighted_average><bayesian_average>8.754775047302246</bayesian_average></item>\\n<item id=\"1329\"><manga href=\"/encyclopedia/manga.php?id=1329\">Lone Wolf and Cub (manga, Kazuo Koike)</manga><nb_votes>142</nb_votes><nb_seen>341</nb_seen><straight_average>8.901399612426758</straight_average><weighted_average>8.780099868774414</weighted_average><bayesian_average>8.751757621765137</bayesian_average></item>\\n<item id=\"2335\"><manga href=\"/encyclopedia/manga.php?id=2335\">Fruits Basket (manga)</manga><nb_votes>1616</nb_votes><nb_seen>3735</nb_seen><straight_average>8.71660041809082</straight_average><weighted_average>8.751099586486816</weighted_average><bayesian_average>8.748617172241211</bayesian_average></item>\\n<item id=\"1628\"><manga href=\"/encyclopedia/manga.php?id=1628\">Mobile Suit Gundam: The Origin (manga)</manga><nb_votes>34</nb_votes><nb_seen>112</nb_seen><straight_average>8.882399559020996</straight_average><weighted_average>8.863800048828125</weighted_average><bayesian_average>8.746094703674316</bayesian_average></item>\\n<item id=\"3569\"><manga href=\"/encyclopedia/manga.php?id=3569\">Buddha (manga)</manga><nb_votes>126</nb_votes><nb_seen>248</nb_seen><straight_average>8.33329963684082</straight_average><weighted_average>8.775899887084961</weighted_average><bayesian_average>8.7441987991333</bayesian_average></item>\\n<item id=\"8450\"><manga href=\"/encyclopedia/manga.php?id=8450\">Kanojo no Omoide... (manga)</manga><nb_votes>11</nb_votes><nb_seen>21</nb_seen><straight_average>8.272700309753418</straight_average><weighted_average>9.084500312805176</weighted_average><bayesian_average>8.727459907531738</bayesian_average></item>\\n<item id=\"1520\"><manga href=\"/encyclopedia/manga.php?id=1520\">Sanctuary (manga by R. Ikegami)</manga><nb_votes>83</nb_votes><nb_seen>137</nb_seen><straight_average>8.674699783325195</straight_average><weighted_average>8.7701997756958</weighted_average><bayesian_average>8.723092079162598</bayesian_average></item>\\n<item id=\"1995\"><manga href=\"/encyclopedia/manga.php?id=1995\">Rurouni Kenshin (manga)</manga><nb_votes>1242</nb_votes><nb_seen>2569</nb_seen><straight_average>8.7923002243042</straight_average><weighted_average>8.725199699401855</weighted_average><bayesian_average>8.722054481506348</bayesian_average></item>\\n<item id=\"13515\"><manga href=\"/encyclopedia/manga.php?id=13515\">Drifting Life (manga)</manga><nb_votes>17</nb_votes><nb_seen>31</nb_seen><straight_average>8.411800384521484</straight_average><weighted_average>8.947199821472168</weighted_average><bayesian_average>8.718323707580566</bayesian_average></item>\\n<item id=\"13945\"><manga href=\"/encyclopedia/manga.php?id=13945\">Kids on the Slope (manga)</manga><nb_votes>35</nb_votes><nb_seen>58</nb_seen><straight_average>8.857099533081055</straight_average><weighted_average>8.823599815368652</weighted_average><bayesian_average>8.713035583496094</bayesian_average></item>\\n<item id=\"1998\"><manga href=\"/encyclopedia/manga.php?id=1998\">Glass no Kamen (manga)</manga><nb_votes>36</nb_votes><nb_seen>146</nb_seen><straight_average>8.527799606323242</straight_average><weighted_average>8.818599700927734</weighted_average><bayesian_average>8.711299896240234</bayesian_average></item>\\n<item id=\"8403\"><manga href=\"/encyclopedia/manga.php?id=8403\">Solanin (manga)</manga><nb_votes>195</nb_votes><nb_seen>270</nb_seen><straight_average>8.794899940490723</straight_average><weighted_average>8.729000091552734</weighted_average><bayesian_average>8.709233283996582</bayesian_average></item>\\n<item id=\"1612\"><manga href=\"/encyclopedia/manga.php?id=1612\">Blade of the Immortal (manga)</manga><nb_votes>385</nb_votes><nb_seen>845</nb_seen><straight_average>8.607799530029297</straight_average><weighted_average>8.717900276184082</weighted_average><bayesian_average>8.707901954650879</bayesian_average></item>\\n<item id=\"15892\"><manga href=\"/encyclopedia/manga.php?id=15892\">Silent Voice (manga)</manga><nb_votes>113</nb_votes><nb_seen>182</nb_seen><straight_average>8.761099815368652</straight_average><weighted_average>8.730400085449219</weighted_average><bayesian_average>8.696731567382812</bayesian_average></item>\\n<item id=\"1333\"><manga href=\"/encyclopedia/manga.php?id=1333\">Showa: A History of Japan (manga)</manga><nb_votes>6</nb_votes><nb_seen>11</nb_seen><straight_average>9.33329963684082</straight_average><weighted_average>9.319000244140625</weighted_average><bayesian_average>8.689640045166016</bayesian_average></item>\\n<item id=\"11126\"><manga href=\"/encyclopedia/manga.php?id=11126\">Bride\\'s Story (manga)</manga><nb_votes>68</nb_votes><nb_seen>166</nb_seen><straight_average>8.82349967956543</straight_average><weighted_average>8.73069953918457</weighted_average><bayesian_average>8.675971984863281</bayesian_average></item>\\n<item id=\"5564\"><manga href=\"/encyclopedia/manga.php?id=5564\">Steel Ball Run (manga)</manga><nb_votes>26</nb_votes><nb_seen>68</nb_seen><straight_average>8.46150016784668</straight_average><weighted_average>8.807299613952637</weighted_average><bayesian_average>8.665740013122559</bayesian_average></item>\\n<item id=\"7749\"><manga href=\"/encyclopedia/manga.php?id=7749\">Town of Evening Calm, Country of Cherry Blossoms (manga)</manga><nb_votes>100</nb_votes><nb_seen>129</nb_seen><straight_average>8.760000228881836</straight_average><weighted_average>8.697699546813965</weighted_average><bayesian_average>8.661080360412598</bayesian_average></item>\\n<item id=\"7919\"><manga href=\"/encyclopedia/manga.php?id=7919\">\\xc5\\x8coku: The Inner Chambers (manga)</manga><nb_votes>42</nb_votes><nb_seen>99</nb_seen><straight_average>8.714300155639648</straight_average><weighted_average>8.74470043182373</weighted_average><bayesian_average>8.657821655273438</bayesian_average></item>\\n<item id=\"9635\"><manga href=\"/encyclopedia/manga.php?id=9635\">Children of the Sea (manga)</manga><nb_votes>36</nb_votes><nb_seen>87</nb_seen><straight_average>8.722200393676758</straight_average><weighted_average>8.735600471496582</weighted_average><bayesian_average>8.636600494384766</bayesian_average></item>\\n<item id=\"1323\"><manga href=\"/encyclopedia/manga.php?id=1323\">Message to Adolf (manga)</manga><nb_votes>87</nb_votes><nb_seen>170</nb_seen><straight_average>8.540200233459473</straight_average><weighted_average>8.662400245666504</weighted_average><bayesian_average>8.622101783752441</bayesian_average></item>\\n<item id=\"5891\"><manga href=\"/encyclopedia/manga.php?id=5891\">Heart of Thomas (manga)</manga><nb_votes>30</nb_votes><nb_seen>44</nb_seen><straight_average>8.566699981689453</straight_average><weighted_average>8.73550033569336</weighted_average><bayesian_average>8.619041442871094</bayesian_average></item>\\n<item id=\"2405\"><manga href=\"/encyclopedia/manga.php?id=2405\">Saikano (manga)</manga><nb_votes>239</nb_votes><nb_seen>502</nb_seen><straight_average>8.682000160217285</straight_average><weighted_average>8.630900382995605</weighted_average><bayesian_average>8.616327285766602</bayesian_average></item>\\n<item id=\"5865\"><manga href=\"/encyclopedia/manga.php?id=5865\">Stigma (manga)</manga><nb_votes>41</nb_votes><nb_seen>68</nb_seen><straight_average>8.439000129699707</straight_average><weighted_average>8.688599586486816</weighted_average><bayesian_average>8.604777336120605</bayesian_average></item>\\n<item id=\"16625\"><manga href=\"/encyclopedia/manga.php?id=16625\">Ancient Magus\\' Bride (manga)</manga><nb_votes>28</nb_votes><nb_seen>105</nb_seen><straight_average>8.607099533081055</straight_average><weighted_average>8.725899696350098</weighted_average><bayesian_average>8.603362083435059</bayesian_average></item>\\n<item id=\"4169\"><manga href=\"/encyclopedia/manga.php?id=4169\">Genshiken (manga)</manga><nb_votes>426</nb_votes><nb_seen>894</nb_seen><straight_average>8.650199890136719</straight_average><weighted_average>8.593500137329102</weighted_average><bayesian_average>8.585612297058105</bayesian_average></item>\\n<item id=\"5283\"><manga href=\"/encyclopedia/manga.php?id=5283\">Historie (manga)</manga><nb_votes>54</nb_votes><nb_seen>98</nb_seen><straight_average>8.703700065612793</straight_average><weighted_average>8.644599914550781</weighted_average><bayesian_average>8.582599639892578</bayesian_average></item>\\n<item id=\"6252\"><manga href=\"/encyclopedia/manga.php?id=6252\">Ode to Kirihito (manga)</manga><nb_votes>80</nb_votes><nb_seen>120</nb_seen><straight_average>8.649999618530273</straight_average><weighted_average>8.622400283813477</weighted_average><bayesian_average>8.580647468566895</bayesian_average></item></report>'\n"
    }
   ],
   "source": [
    "from lxml import html, etree\n",
    "import requests\n",
    "manga_page = requests.get(\"https://www.animenewsnetwork.com/encyclopedia/reports.xml?id=173\")\n",
    "print(manga_page.content)"
   ]
  },
  {
   "cell_type": "code",
   "execution_count": 4,
   "metadata": {
    "tags": []
   },
   "outputs": [],
   "source": [
    "import xml.etree.ElementTree as etree\n",
    "\n",
    "tree = etree.parse(\"Anime report1.xml\")\n",
    "\n",
    "root = tree.getroot()\n",
    "\n",
    "columns = [\"anime\", \"nb_votes\", \"nb_seen\", \"straight_average\", \"weighted_average\", \"bayesian_average\"]\n",
    "\n",
    "anime_df = pd.DataFrame(columns = columns)\n",
    "\n",
    "for node in root: \n",
    "\n",
    "    anime = node.find(\"anime\").text if node is not None else None\n",
    "\n",
    "    votes = node.find(\"nb_votes\").text if node is not None else None\n",
    "\n",
    "    viewed = node.find(\"nb_seen\").text if node is not None else None\n",
    "\n",
    "    average = node.find(\"straight_average\").text if node is not None else None\n",
    "\n",
    "    weighted = node.find(\"weighted_average\").text if node is not None else None\n",
    "\n",
    "    bayesian = node.find(\"bayesian_average\").text if node is not None else None\n",
    "\n",
    "    anime_df = anime_df.append(pd.Series([anime, votes, viewed, average, weighted, bayesian], index = columns), ignore_index = True)"
   ]
  },
  {
   "cell_type": "code",
   "execution_count": 5,
   "metadata": {},
   "outputs": [
    {
     "output_type": "execute_result",
     "data": {
      "text/plain": "                                                anime nb_votes nb_seen  \\\n0               Fullmetal Alchemist: Brotherhood (TV)     5815   10858   \n1                                  your name. (movie)     1100    1481   \n2                                    Steins;Gate (TV)     4655    6811   \n3                            Clannad After Story (TV)     5180    8361   \n4             Rurouni Kenshin: Trust & Betrayal (OAV)     6649   10385   \n5        Code Geass: Lelouch of the Rebellion R2 (TV)     7868   12551   \n6                               Spirited Away (movie)    10546   15397   \n7                     Mushishi: The Next Chapter (TV)      512     848   \n8                                   Cowboy Bebop (TV)    12243   21026   \n9                           Princess Mononoke (movie)     9835   15401   \n10                               Silent Voice (movie)      559     764   \n11           Disappearance of Haruhi Suzumiya (movie)     2792    4029   \n12                Legend of the Galactic Heroes (OAV)      726    1141   \n13                                     Mushi-Shi (TV)     4995    8163   \n14                                    Death Note (TV)    12911   22216   \n15                                 Made in Abyss (TV)      644     883   \n16             Maria Watches Over Us 3rd Season (OAV)      726    1044   \n17     Maria Watches Over Us Season 2: Printemps (TV)     1343    1820   \n18          Code Geass: Lelouch of the Rebellion (TV)     9181   15212   \n19  Descending Stories: Showa Genroku Rakugo Shinj...      182     260   \n20                                    Bunny Drop (TV)     1801    2667   \n21           anohana: The Flower We Saw That Day (TV)     3235    4878   \n22              Maria Watches Over Us 4th Season (TV)      511     722   \n23                                Gintama (TV 4/2015)      151     291   \n24                                       Monster (TV)     3472    5781   \n25      Evangelion: 2.0 You Can (Not) Advance (movie)     2090    3359   \n26                               Gintama' (TV 2/2011)      432     888   \n27                               Gintama' (TV 3/2012)      262     482   \n28  Ghost in the Shell: Stand Alone Complex 2nd GI...     2597    4892   \n29                     Grave of the Fireflies (movie)     4593    6925   \n30                                    Cross Game (TV)      688    1060   \n31                               Fighting Spirit (TV)     1628    2824   \n32                           Fullmetal Alchemist (TV)    13436   23626   \n33                                Summer Wars (movie)     3400    4573   \n34         Nausicaä of the Valley of the Wind (movie)     5066    7898   \n35                              Nodame Cantabile (TV)     2772    4331   \n36                Girl Who Leapt Through Time (movie)     5537    7766   \n37                   5 Centimeters Per Second (movie)     5777    8203   \n38                                 Gurren Lagann (TV)     6975   11421   \n39                          Hunter × Hunter (TV 2011)     1043    1997   \n40                   Garden of Sinners (movie series)     1702    2700   \n41                              Wolf Children (movie)     1159    1631   \n42                         My Neighbor Totoro (movie)     4686    7403   \n43                                      Baccano! (TV)     4198    6990   \n44                   Gintama: The Final Movie (movie)      166     257   \n45                           Honey and Clover II (TV)     2053    3089   \n46                        Attack on Titan (TV 4/2019)      279     624   \n47                   Natsume's Book of Friends (TV 4)      579    1005   \n48                Hajime no Ippo: New Challenger (TV)      715    1206   \n49                                  Kanon (TV 2/2006)     3643    5693   \n\n     straight_average   weighted_average   bayesian_average  \n0   9.106100082397461  9.095100402832031  9.091821670532227  \n1   9.104499816894531  9.087200164794922   9.07010269165039  \n2   9.138099670410156  9.059100151062012  9.055098533630371  \n3   8.951000213623047  9.055299758911133  9.051711082458496  \n4   8.923399925231934  8.972299575805664   8.96965217590332  \n5   9.020099639892578  8.932000160217285  8.929823875427246  \n6   8.969799995422363  8.926199913024902  8.924582481384277  \n7   8.824199676513672  8.933699607849121  8.900931358337402  \n8   8.933099746704102  8.895099639892578  8.893735885620117  \n9   8.928099632263184  8.864999771118164    8.8633394241333  \n10  8.856900215148926  8.888799667358398  8.859671592712402  \n11  8.868599891662598  8.861599922180176   8.85578441619873  \n12  8.785099983215332  8.834799766540527  8.813140869140625  \n13  8.803199768066406   8.79259967803955  8.789508819580078  \n14  8.863300323486328  8.781499862670898  8.780312538146973  \n15  8.807499885559082   8.79539966583252  8.771754264831543  \n16    8.7947998046875  8.790200233459473  8.769267082214355  \n17  8.829500198364258  8.760100364685059    8.7489652633667  \n18  8.854399681091309   8.74120044708252  8.739583969116211  \n19  8.818699836730957  8.812000274658203  8.731019020080566  \n20  8.789600372314453  8.729399681091309  8.721281051635742  \n21  8.786100387573242  8.725099563598633  8.720582008361816  \n22  8.747599601745605  8.748600006103516  8.720015525817871  \n23  8.768199920654297  8.811699867248535  8.715338706970215  \n24   8.76669979095459  8.715999603271484  8.711820602416992  \n25  8.775099754333496     8.714599609375  8.707681655883789  \n26  8.740699768066406  8.739999771118164  8.706562042236328  \n27  8.561100006103516  8.741499900817871  8.687250137329102  \n28  8.749300003051758  8.675299644470215  8.669906616210938  \n29  8.707799911499023  8.671600341796875  8.668554306030273  \n30  8.780500411987305  8.676400184631348  8.656281471252441  \n31  8.746299743652344  8.664299964904785  8.655800819396973  \n32  8.728899955749512  8.649900436401367  8.648877143859863  \n33  8.743800163269043  8.652299880981445    8.6482572555542  \n34  8.678999900817871  8.639800071716309  8.637113571166992  \n35  8.666299819946289  8.641599655151367  8.636691093444824  \n36  8.671099662780762  8.637100219726562  8.634647369384766  \n37  8.693099975585938  8.624199867248535  8.621875762939453  \n38  8.735300064086914   8.61970043182373  8.617782592773438  \n39   8.69890022277832  8.622900009155273  8.610159873962402  \n40    8.7121000289917  8.616600036621094   8.60880184173584  \n41   8.65310001373291  8.613100051879883   8.60172176361084  \n42  8.653200149536133  8.599699974060059  8.596898078918457  \n43  8.673399925231934   8.59119987487793   8.58809757232666  \n44  8.710800170898438  8.653900146484375  8.576297760009766  \n45  8.569899559020996  8.581700325012207  8.575430870056152  \n46  8.677399635314941  8.618800163269043  8.572779655456543  \n47  8.644200325012207  8.590100288391113  8.568022727966309  \n48  8.630800247192383  8.576899528503418   8.55916976928711  \n49  8.641799926757812  8.559900283813477  8.556429862976074  ",
      "text/html": "<div>\n<style scoped>\n    .dataframe tbody tr th:only-of-type {\n        vertical-align: middle;\n    }\n\n    .dataframe tbody tr th {\n        vertical-align: top;\n    }\n\n    .dataframe thead th {\n        text-align: right;\n    }\n</style>\n<table border=\"1\" class=\"dataframe\">\n  <thead>\n    <tr style=\"text-align: right;\">\n      <th></th>\n      <th>anime</th>\n      <th>nb_votes</th>\n      <th>nb_seen</th>\n      <th>straight_average</th>\n      <th>weighted_average</th>\n      <th>bayesian_average</th>\n    </tr>\n  </thead>\n  <tbody>\n    <tr>\n      <th>0</th>\n      <td>Fullmetal Alchemist: Brotherhood (TV)</td>\n      <td>5815</td>\n      <td>10858</td>\n      <td>9.106100082397461</td>\n      <td>9.095100402832031</td>\n      <td>9.091821670532227</td>\n    </tr>\n    <tr>\n      <th>1</th>\n      <td>your name. (movie)</td>\n      <td>1100</td>\n      <td>1481</td>\n      <td>9.104499816894531</td>\n      <td>9.087200164794922</td>\n      <td>9.07010269165039</td>\n    </tr>\n    <tr>\n      <th>2</th>\n      <td>Steins;Gate (TV)</td>\n      <td>4655</td>\n      <td>6811</td>\n      <td>9.138099670410156</td>\n      <td>9.059100151062012</td>\n      <td>9.055098533630371</td>\n    </tr>\n    <tr>\n      <th>3</th>\n      <td>Clannad After Story (TV)</td>\n      <td>5180</td>\n      <td>8361</td>\n      <td>8.951000213623047</td>\n      <td>9.055299758911133</td>\n      <td>9.051711082458496</td>\n    </tr>\n    <tr>\n      <th>4</th>\n      <td>Rurouni Kenshin: Trust &amp; Betrayal (OAV)</td>\n      <td>6649</td>\n      <td>10385</td>\n      <td>8.923399925231934</td>\n      <td>8.972299575805664</td>\n      <td>8.96965217590332</td>\n    </tr>\n    <tr>\n      <th>5</th>\n      <td>Code Geass: Lelouch of the Rebellion R2 (TV)</td>\n      <td>7868</td>\n      <td>12551</td>\n      <td>9.020099639892578</td>\n      <td>8.932000160217285</td>\n      <td>8.929823875427246</td>\n    </tr>\n    <tr>\n      <th>6</th>\n      <td>Spirited Away (movie)</td>\n      <td>10546</td>\n      <td>15397</td>\n      <td>8.969799995422363</td>\n      <td>8.926199913024902</td>\n      <td>8.924582481384277</td>\n    </tr>\n    <tr>\n      <th>7</th>\n      <td>Mushishi: The Next Chapter (TV)</td>\n      <td>512</td>\n      <td>848</td>\n      <td>8.824199676513672</td>\n      <td>8.933699607849121</td>\n      <td>8.900931358337402</td>\n    </tr>\n    <tr>\n      <th>8</th>\n      <td>Cowboy Bebop (TV)</td>\n      <td>12243</td>\n      <td>21026</td>\n      <td>8.933099746704102</td>\n      <td>8.895099639892578</td>\n      <td>8.893735885620117</td>\n    </tr>\n    <tr>\n      <th>9</th>\n      <td>Princess Mononoke (movie)</td>\n      <td>9835</td>\n      <td>15401</td>\n      <td>8.928099632263184</td>\n      <td>8.864999771118164</td>\n      <td>8.8633394241333</td>\n    </tr>\n    <tr>\n      <th>10</th>\n      <td>Silent Voice (movie)</td>\n      <td>559</td>\n      <td>764</td>\n      <td>8.856900215148926</td>\n      <td>8.888799667358398</td>\n      <td>8.859671592712402</td>\n    </tr>\n    <tr>\n      <th>11</th>\n      <td>Disappearance of Haruhi Suzumiya (movie)</td>\n      <td>2792</td>\n      <td>4029</td>\n      <td>8.868599891662598</td>\n      <td>8.861599922180176</td>\n      <td>8.85578441619873</td>\n    </tr>\n    <tr>\n      <th>12</th>\n      <td>Legend of the Galactic Heroes (OAV)</td>\n      <td>726</td>\n      <td>1141</td>\n      <td>8.785099983215332</td>\n      <td>8.834799766540527</td>\n      <td>8.813140869140625</td>\n    </tr>\n    <tr>\n      <th>13</th>\n      <td>Mushi-Shi (TV)</td>\n      <td>4995</td>\n      <td>8163</td>\n      <td>8.803199768066406</td>\n      <td>8.79259967803955</td>\n      <td>8.789508819580078</td>\n    </tr>\n    <tr>\n      <th>14</th>\n      <td>Death Note (TV)</td>\n      <td>12911</td>\n      <td>22216</td>\n      <td>8.863300323486328</td>\n      <td>8.781499862670898</td>\n      <td>8.780312538146973</td>\n    </tr>\n    <tr>\n      <th>15</th>\n      <td>Made in Abyss (TV)</td>\n      <td>644</td>\n      <td>883</td>\n      <td>8.807499885559082</td>\n      <td>8.79539966583252</td>\n      <td>8.771754264831543</td>\n    </tr>\n    <tr>\n      <th>16</th>\n      <td>Maria Watches Over Us 3rd Season (OAV)</td>\n      <td>726</td>\n      <td>1044</td>\n      <td>8.7947998046875</td>\n      <td>8.790200233459473</td>\n      <td>8.769267082214355</td>\n    </tr>\n    <tr>\n      <th>17</th>\n      <td>Maria Watches Over Us Season 2: Printemps (TV)</td>\n      <td>1343</td>\n      <td>1820</td>\n      <td>8.829500198364258</td>\n      <td>8.760100364685059</td>\n      <td>8.7489652633667</td>\n    </tr>\n    <tr>\n      <th>18</th>\n      <td>Code Geass: Lelouch of the Rebellion (TV)</td>\n      <td>9181</td>\n      <td>15212</td>\n      <td>8.854399681091309</td>\n      <td>8.74120044708252</td>\n      <td>8.739583969116211</td>\n    </tr>\n    <tr>\n      <th>19</th>\n      <td>Descending Stories: Showa Genroku Rakugo Shinj...</td>\n      <td>182</td>\n      <td>260</td>\n      <td>8.818699836730957</td>\n      <td>8.812000274658203</td>\n      <td>8.731019020080566</td>\n    </tr>\n    <tr>\n      <th>20</th>\n      <td>Bunny Drop (TV)</td>\n      <td>1801</td>\n      <td>2667</td>\n      <td>8.789600372314453</td>\n      <td>8.729399681091309</td>\n      <td>8.721281051635742</td>\n    </tr>\n    <tr>\n      <th>21</th>\n      <td>anohana: The Flower We Saw That Day (TV)</td>\n      <td>3235</td>\n      <td>4878</td>\n      <td>8.786100387573242</td>\n      <td>8.725099563598633</td>\n      <td>8.720582008361816</td>\n    </tr>\n    <tr>\n      <th>22</th>\n      <td>Maria Watches Over Us 4th Season (TV)</td>\n      <td>511</td>\n      <td>722</td>\n      <td>8.747599601745605</td>\n      <td>8.748600006103516</td>\n      <td>8.720015525817871</td>\n    </tr>\n    <tr>\n      <th>23</th>\n      <td>Gintama (TV 4/2015)</td>\n      <td>151</td>\n      <td>291</td>\n      <td>8.768199920654297</td>\n      <td>8.811699867248535</td>\n      <td>8.715338706970215</td>\n    </tr>\n    <tr>\n      <th>24</th>\n      <td>Monster (TV)</td>\n      <td>3472</td>\n      <td>5781</td>\n      <td>8.76669979095459</td>\n      <td>8.715999603271484</td>\n      <td>8.711820602416992</td>\n    </tr>\n    <tr>\n      <th>25</th>\n      <td>Evangelion: 2.0 You Can (Not) Advance (movie)</td>\n      <td>2090</td>\n      <td>3359</td>\n      <td>8.775099754333496</td>\n      <td>8.714599609375</td>\n      <td>8.707681655883789</td>\n    </tr>\n    <tr>\n      <th>26</th>\n      <td>Gintama' (TV 2/2011)</td>\n      <td>432</td>\n      <td>888</td>\n      <td>8.740699768066406</td>\n      <td>8.739999771118164</td>\n      <td>8.706562042236328</td>\n    </tr>\n    <tr>\n      <th>27</th>\n      <td>Gintama' (TV 3/2012)</td>\n      <td>262</td>\n      <td>482</td>\n      <td>8.561100006103516</td>\n      <td>8.741499900817871</td>\n      <td>8.687250137329102</td>\n    </tr>\n    <tr>\n      <th>28</th>\n      <td>Ghost in the Shell: Stand Alone Complex 2nd GI...</td>\n      <td>2597</td>\n      <td>4892</td>\n      <td>8.749300003051758</td>\n      <td>8.675299644470215</td>\n      <td>8.669906616210938</td>\n    </tr>\n    <tr>\n      <th>29</th>\n      <td>Grave of the Fireflies (movie)</td>\n      <td>4593</td>\n      <td>6925</td>\n      <td>8.707799911499023</td>\n      <td>8.671600341796875</td>\n      <td>8.668554306030273</td>\n    </tr>\n    <tr>\n      <th>30</th>\n      <td>Cross Game (TV)</td>\n      <td>688</td>\n      <td>1060</td>\n      <td>8.780500411987305</td>\n      <td>8.676400184631348</td>\n      <td>8.656281471252441</td>\n    </tr>\n    <tr>\n      <th>31</th>\n      <td>Fighting Spirit (TV)</td>\n      <td>1628</td>\n      <td>2824</td>\n      <td>8.746299743652344</td>\n      <td>8.664299964904785</td>\n      <td>8.655800819396973</td>\n    </tr>\n    <tr>\n      <th>32</th>\n      <td>Fullmetal Alchemist (TV)</td>\n      <td>13436</td>\n      <td>23626</td>\n      <td>8.728899955749512</td>\n      <td>8.649900436401367</td>\n      <td>8.648877143859863</td>\n    </tr>\n    <tr>\n      <th>33</th>\n      <td>Summer Wars (movie)</td>\n      <td>3400</td>\n      <td>4573</td>\n      <td>8.743800163269043</td>\n      <td>8.652299880981445</td>\n      <td>8.6482572555542</td>\n    </tr>\n    <tr>\n      <th>34</th>\n      <td>Nausicaä of the Valley of the Wind (movie)</td>\n      <td>5066</td>\n      <td>7898</td>\n      <td>8.678999900817871</td>\n      <td>8.639800071716309</td>\n      <td>8.637113571166992</td>\n    </tr>\n    <tr>\n      <th>35</th>\n      <td>Nodame Cantabile (TV)</td>\n      <td>2772</td>\n      <td>4331</td>\n      <td>8.666299819946289</td>\n      <td>8.641599655151367</td>\n      <td>8.636691093444824</td>\n    </tr>\n    <tr>\n      <th>36</th>\n      <td>Girl Who Leapt Through Time (movie)</td>\n      <td>5537</td>\n      <td>7766</td>\n      <td>8.671099662780762</td>\n      <td>8.637100219726562</td>\n      <td>8.634647369384766</td>\n    </tr>\n    <tr>\n      <th>37</th>\n      <td>5 Centimeters Per Second (movie)</td>\n      <td>5777</td>\n      <td>8203</td>\n      <td>8.693099975585938</td>\n      <td>8.624199867248535</td>\n      <td>8.621875762939453</td>\n    </tr>\n    <tr>\n      <th>38</th>\n      <td>Gurren Lagann (TV)</td>\n      <td>6975</td>\n      <td>11421</td>\n      <td>8.735300064086914</td>\n      <td>8.61970043182373</td>\n      <td>8.617782592773438</td>\n    </tr>\n    <tr>\n      <th>39</th>\n      <td>Hunter × Hunter (TV 2011)</td>\n      <td>1043</td>\n      <td>1997</td>\n      <td>8.69890022277832</td>\n      <td>8.622900009155273</td>\n      <td>8.610159873962402</td>\n    </tr>\n    <tr>\n      <th>40</th>\n      <td>Garden of Sinners (movie series)</td>\n      <td>1702</td>\n      <td>2700</td>\n      <td>8.7121000289917</td>\n      <td>8.616600036621094</td>\n      <td>8.60880184173584</td>\n    </tr>\n    <tr>\n      <th>41</th>\n      <td>Wolf Children (movie)</td>\n      <td>1159</td>\n      <td>1631</td>\n      <td>8.65310001373291</td>\n      <td>8.613100051879883</td>\n      <td>8.60172176361084</td>\n    </tr>\n    <tr>\n      <th>42</th>\n      <td>My Neighbor Totoro (movie)</td>\n      <td>4686</td>\n      <td>7403</td>\n      <td>8.653200149536133</td>\n      <td>8.599699974060059</td>\n      <td>8.596898078918457</td>\n    </tr>\n    <tr>\n      <th>43</th>\n      <td>Baccano! (TV)</td>\n      <td>4198</td>\n      <td>6990</td>\n      <td>8.673399925231934</td>\n      <td>8.59119987487793</td>\n      <td>8.58809757232666</td>\n    </tr>\n    <tr>\n      <th>44</th>\n      <td>Gintama: The Final Movie (movie)</td>\n      <td>166</td>\n      <td>257</td>\n      <td>8.710800170898438</td>\n      <td>8.653900146484375</td>\n      <td>8.576297760009766</td>\n    </tr>\n    <tr>\n      <th>45</th>\n      <td>Honey and Clover II (TV)</td>\n      <td>2053</td>\n      <td>3089</td>\n      <td>8.569899559020996</td>\n      <td>8.581700325012207</td>\n      <td>8.575430870056152</td>\n    </tr>\n    <tr>\n      <th>46</th>\n      <td>Attack on Titan (TV 4/2019)</td>\n      <td>279</td>\n      <td>624</td>\n      <td>8.677399635314941</td>\n      <td>8.618800163269043</td>\n      <td>8.572779655456543</td>\n    </tr>\n    <tr>\n      <th>47</th>\n      <td>Natsume's Book of Friends (TV 4)</td>\n      <td>579</td>\n      <td>1005</td>\n      <td>8.644200325012207</td>\n      <td>8.590100288391113</td>\n      <td>8.568022727966309</td>\n    </tr>\n    <tr>\n      <th>48</th>\n      <td>Hajime no Ippo: New Challenger (TV)</td>\n      <td>715</td>\n      <td>1206</td>\n      <td>8.630800247192383</td>\n      <td>8.576899528503418</td>\n      <td>8.55916976928711</td>\n    </tr>\n    <tr>\n      <th>49</th>\n      <td>Kanon (TV 2/2006)</td>\n      <td>3643</td>\n      <td>5693</td>\n      <td>8.641799926757812</td>\n      <td>8.559900283813477</td>\n      <td>8.556429862976074</td>\n    </tr>\n  </tbody>\n</table>\n</div>"
     },
     "metadata": {},
     "execution_count": 5
    }
   ],
   "source": [
    "anime_df"
   ]
  },
  {
   "cell_type": "code",
   "execution_count": 6,
   "metadata": {},
   "outputs": [],
   "source": [
    "import xml.etree.ElementTree as etree\n",
    "\n",
    "tree = etree.parse(\"Manga report1.xml\")\n",
    "\n",
    "root = tree.getroot()\n",
    "\n",
    "columns = [\"manga\", \"nb_votes\", \"nb_seen\", \"straight_average\", \"weighted_average\", \"bayesian_average\"]\n",
    "\n",
    "manga_df = pd.DataFrame(columns = columns)\n",
    "\n",
    "for node in root: \n",
    "    manga = node.find(\"manga\").text if node is not None else None\n",
    "\n",
    "    votes = node.find(\"nb_votes\").text if node is not None else None\n",
    "\n",
    "    viewed = node.find(\"nb_seen\").text if node is not None else None\n",
    "\n",
    "    average = node.find(\"straight_average\").text if node is not None else None\n",
    "\n",
    "    weighted = node.find(\"weighted_average\").text if node is not None else None\n",
    "\n",
    "    bayesian = node.find(\"bayesian_average\").text if node is not None else None\n",
    "\n",
    "    manga_df = manga_df.append(pd.Series([manga, votes, viewed, average, weighted, bayesian], index = columns), ignore_index = True)"
   ]
  },
  {
   "cell_type": "code",
   "execution_count": 7,
   "metadata": {},
   "outputs": [
    {
     "output_type": "execute_result",
     "data": {
      "text/plain": "                                                manga nb_votes nb_seen  \\\n0                                     Berserk (manga)     1255    2320   \n1                                     Monster (manga)      786    1321   \n2          Nausicaä of the Valley of the Wind (manga)      630    1063   \n3                                Vinland Saga (manga)      239     447   \n4                     Yokohama Kaidashi Kikou (manga)      354     541   \n5                           20th Century Boys (manga)      594     983   \n6                         Fullmetal Alchemist (manga)     1604    3514   \n7                                       Akira (manga)      578    1130   \n8                                   Yotsuba&! (manga)      758    1560   \n9                                    Vagabond (manga)      345     644   \n10                                        GTO (manga)      671    1344   \n11                                 Death Note (manga)     2587    4956   \n12                           Goodnight Punpun (manga)       68     144   \n13                                      Pluto (manga)      305     483   \n14                             Hajime no Ippo (manga)      172     409   \n15                                   Mushishi (manga)      261     557   \n16                                 Cross Game (manga)      116     196   \n17                   Kaguya-sama: Love is War (manga)        8      18   \n18                                    Phoenix (manga)       69     172   \n19                                       REAL (manga)       60     130   \n20  With the Light: Raising an Autistic Child (manga)       34      70   \n21                                     Erased (manga)       27      50   \n22                                 Skip Beat! (manga)      391    1068   \n23             Lone Wolf and Cub (manga, Kazuo Koike)      142     341   \n24                              Fruits Basket (manga)     1616    3735   \n25             Mobile Suit Gundam: The Origin (manga)       34     112   \n26                                     Buddha (manga)      126     248   \n27                        Kanojo no Omoide... (manga)       11      21   \n28                    Sanctuary (manga by R. Ikegami)       83     137   \n29                            Rurouni Kenshin (manga)     1242    2569   \n30                              Drifting Life (manga)       17      31   \n31                          Kids on the Slope (manga)       35      58   \n32                             Glass no Kamen (manga)       36     146   \n33                                    Solanin (manga)      195     270   \n34                      Blade of the Immortal (manga)      385     845   \n35                               Silent Voice (manga)      113     182   \n36                  Showa: A History of Japan (manga)        6      11   \n37                              Bride's Story (manga)       68     166   \n38                             Steel Ball Run (manga)       26      68   \n39  Town of Evening Calm, Country of Cherry Blosso...      100     129   \n40                   Ōoku: The Inner Chambers (manga)       42      99   \n41                        Children of the Sea (manga)       36      87   \n42                           Message to Adolf (manga)       87     170   \n43                            Heart of Thomas (manga)       30      44   \n44                                    Saikano (manga)      239     502   \n45                                     Stigma (manga)       41      68   \n46                       Ancient Magus' Bride (manga)       28     105   \n47                                  Genshiken (manga)      426     894   \n48                                   Historie (manga)       54      98   \n49                            Ode to Kirihito (manga)       80     120   \n\n     straight_average   weighted_average   bayesian_average  \n0   9.289199829101562  9.250699996948242  9.245918273925781  \n1   8.944000244140625  9.217900276184082  9.210445404052734  \n2   9.176199913024902  9.211299896240234  9.202052116394043  \n3   9.204999923706055  9.177800178527832  9.154224395751953  \n4   8.412400245666504  9.080599784851074  9.065683364868164  \n5   8.749199867248535   9.01669979095459  9.008197784423828  \n6   8.945799827575684  8.975000381469727  8.971941947937012  \n7   8.700699806213379  8.934300422668457  8.926130294799805  \n8   8.887900352478027  8.920900344848633    8.9147310256958  \n9   8.973899841308594  8.877099990844727  8.864131927490234  \n10  8.782400131225586   8.85420036315918  8.847630500793457  \n11  8.857000350952148  8.839699745178223  8.838010787963867  \n12  8.941200256347656  8.899399757385254  8.835299491882324  \n13  8.822999954223633  8.835800170898438  8.821687698364258  \n14  8.953499794006348  8.846400260925293  8.821382522583008  \n15  8.831399917602539  8.816300392150879  8.800138473510742  \n16  8.862099647521973   8.82610034942627  8.790083885192871  \n17              8.875  9.309499740600586  8.788199424743652  \n18  8.420299530029297  8.835200309753418  8.775496482849121  \n19   9.01669979095459  8.836899757385254  8.768693923950195  \n20  8.941200256347656   8.87720012664795  8.758084297180176  \n21                  9   8.90719985961914  8.757315635681152  \n22  8.890000343322754   8.76509952545166  8.754775047302246  \n23  8.901399612426758  8.780099868774414  8.751757621765137  \n24   8.71660041809082  8.751099586486816  8.748617172241211  \n25  8.882399559020996   8.86359977722168  8.745915412902832  \n26   8.33329963684082  8.775899887084961    8.7441987991333  \n27  8.272700309753418  9.084500312805176  8.727459907531738  \n28  8.674699783325195    8.7701997756958  8.723092079162598  \n29    8.7923002243042  8.725099563598633  8.721955299377441  \n30  8.411800384521484  8.947199821472168  8.718323707580566  \n31  8.857099533081055  8.823599815368652  8.713035583496094  \n32  8.527799606323242  8.818599700927734  8.711299896240234  \n33  8.794899940490723  8.729000091552734  8.709233283996582  \n34  8.607799530029297  8.717900276184082  8.707901954650879  \n35  8.761099815368652  8.730400085449219  8.696731567382812  \n36   9.33329963684082  9.319000244140625  8.689640045166016  \n37   8.82349967956543   8.73069953918457  8.675971984863281  \n38   8.46150016784668  8.807299613952637  8.665740013122559  \n39  8.760000228881836  8.697799682617188  8.661176681518555  \n40  8.714300155639648   8.74470043182373  8.657821655273438  \n41  8.722200393676758  8.735600471496582  8.636600494384766  \n42  8.540200233459473  8.662400245666504  8.622101783752441  \n43  8.566699981689453   8.73550033569336  8.619041442871094  \n44  8.682000160217285  8.630900382995605  8.616327285766602  \n45  8.439000129699707  8.688599586486816  8.604777336120605  \n46  8.607099533081055  8.725899696350098  8.603362083435059  \n47  8.650199890136719  8.593500137329102  8.585612297058105  \n48  8.703700065612793  8.644599914550781  8.582599639892578  \n49  8.649999618530273    8.6225004196167  8.580742835998535  ",
      "text/html": "<div>\n<style scoped>\n    .dataframe tbody tr th:only-of-type {\n        vertical-align: middle;\n    }\n\n    .dataframe tbody tr th {\n        vertical-align: top;\n    }\n\n    .dataframe thead th {\n        text-align: right;\n    }\n</style>\n<table border=\"1\" class=\"dataframe\">\n  <thead>\n    <tr style=\"text-align: right;\">\n      <th></th>\n      <th>manga</th>\n      <th>nb_votes</th>\n      <th>nb_seen</th>\n      <th>straight_average</th>\n      <th>weighted_average</th>\n      <th>bayesian_average</th>\n    </tr>\n  </thead>\n  <tbody>\n    <tr>\n      <th>0</th>\n      <td>Berserk (manga)</td>\n      <td>1255</td>\n      <td>2320</td>\n      <td>9.289199829101562</td>\n      <td>9.250699996948242</td>\n      <td>9.245918273925781</td>\n    </tr>\n    <tr>\n      <th>1</th>\n      <td>Monster (manga)</td>\n      <td>786</td>\n      <td>1321</td>\n      <td>8.944000244140625</td>\n      <td>9.217900276184082</td>\n      <td>9.210445404052734</td>\n    </tr>\n    <tr>\n      <th>2</th>\n      <td>Nausicaä of the Valley of the Wind (manga)</td>\n      <td>630</td>\n      <td>1063</td>\n      <td>9.176199913024902</td>\n      <td>9.211299896240234</td>\n      <td>9.202052116394043</td>\n    </tr>\n    <tr>\n      <th>3</th>\n      <td>Vinland Saga (manga)</td>\n      <td>239</td>\n      <td>447</td>\n      <td>9.204999923706055</td>\n      <td>9.177800178527832</td>\n      <td>9.154224395751953</td>\n    </tr>\n    <tr>\n      <th>4</th>\n      <td>Yokohama Kaidashi Kikou (manga)</td>\n      <td>354</td>\n      <td>541</td>\n      <td>8.412400245666504</td>\n      <td>9.080599784851074</td>\n      <td>9.065683364868164</td>\n    </tr>\n    <tr>\n      <th>5</th>\n      <td>20th Century Boys (manga)</td>\n      <td>594</td>\n      <td>983</td>\n      <td>8.749199867248535</td>\n      <td>9.01669979095459</td>\n      <td>9.008197784423828</td>\n    </tr>\n    <tr>\n      <th>6</th>\n      <td>Fullmetal Alchemist (manga)</td>\n      <td>1604</td>\n      <td>3514</td>\n      <td>8.945799827575684</td>\n      <td>8.975000381469727</td>\n      <td>8.971941947937012</td>\n    </tr>\n    <tr>\n      <th>7</th>\n      <td>Akira (manga)</td>\n      <td>578</td>\n      <td>1130</td>\n      <td>8.700699806213379</td>\n      <td>8.934300422668457</td>\n      <td>8.926130294799805</td>\n    </tr>\n    <tr>\n      <th>8</th>\n      <td>Yotsuba&amp;! (manga)</td>\n      <td>758</td>\n      <td>1560</td>\n      <td>8.887900352478027</td>\n      <td>8.920900344848633</td>\n      <td>8.9147310256958</td>\n    </tr>\n    <tr>\n      <th>9</th>\n      <td>Vagabond (manga)</td>\n      <td>345</td>\n      <td>644</td>\n      <td>8.973899841308594</td>\n      <td>8.877099990844727</td>\n      <td>8.864131927490234</td>\n    </tr>\n    <tr>\n      <th>10</th>\n      <td>GTO (manga)</td>\n      <td>671</td>\n      <td>1344</td>\n      <td>8.782400131225586</td>\n      <td>8.85420036315918</td>\n      <td>8.847630500793457</td>\n    </tr>\n    <tr>\n      <th>11</th>\n      <td>Death Note (manga)</td>\n      <td>2587</td>\n      <td>4956</td>\n      <td>8.857000350952148</td>\n      <td>8.839699745178223</td>\n      <td>8.838010787963867</td>\n    </tr>\n    <tr>\n      <th>12</th>\n      <td>Goodnight Punpun (manga)</td>\n      <td>68</td>\n      <td>144</td>\n      <td>8.941200256347656</td>\n      <td>8.899399757385254</td>\n      <td>8.835299491882324</td>\n    </tr>\n    <tr>\n      <th>13</th>\n      <td>Pluto (manga)</td>\n      <td>305</td>\n      <td>483</td>\n      <td>8.822999954223633</td>\n      <td>8.835800170898438</td>\n      <td>8.821687698364258</td>\n    </tr>\n    <tr>\n      <th>14</th>\n      <td>Hajime no Ippo (manga)</td>\n      <td>172</td>\n      <td>409</td>\n      <td>8.953499794006348</td>\n      <td>8.846400260925293</td>\n      <td>8.821382522583008</td>\n    </tr>\n    <tr>\n      <th>15</th>\n      <td>Mushishi (manga)</td>\n      <td>261</td>\n      <td>557</td>\n      <td>8.831399917602539</td>\n      <td>8.816300392150879</td>\n      <td>8.800138473510742</td>\n    </tr>\n    <tr>\n      <th>16</th>\n      <td>Cross Game (manga)</td>\n      <td>116</td>\n      <td>196</td>\n      <td>8.862099647521973</td>\n      <td>8.82610034942627</td>\n      <td>8.790083885192871</td>\n    </tr>\n    <tr>\n      <th>17</th>\n      <td>Kaguya-sama: Love is War (manga)</td>\n      <td>8</td>\n      <td>18</td>\n      <td>8.875</td>\n      <td>9.309499740600586</td>\n      <td>8.788199424743652</td>\n    </tr>\n    <tr>\n      <th>18</th>\n      <td>Phoenix (manga)</td>\n      <td>69</td>\n      <td>172</td>\n      <td>8.420299530029297</td>\n      <td>8.835200309753418</td>\n      <td>8.775496482849121</td>\n    </tr>\n    <tr>\n      <th>19</th>\n      <td>REAL (manga)</td>\n      <td>60</td>\n      <td>130</td>\n      <td>9.01669979095459</td>\n      <td>8.836899757385254</td>\n      <td>8.768693923950195</td>\n    </tr>\n    <tr>\n      <th>20</th>\n      <td>With the Light: Raising an Autistic Child (manga)</td>\n      <td>34</td>\n      <td>70</td>\n      <td>8.941200256347656</td>\n      <td>8.87720012664795</td>\n      <td>8.758084297180176</td>\n    </tr>\n    <tr>\n      <th>21</th>\n      <td>Erased (manga)</td>\n      <td>27</td>\n      <td>50</td>\n      <td>9</td>\n      <td>8.90719985961914</td>\n      <td>8.757315635681152</td>\n    </tr>\n    <tr>\n      <th>22</th>\n      <td>Skip Beat! (manga)</td>\n      <td>391</td>\n      <td>1068</td>\n      <td>8.890000343322754</td>\n      <td>8.76509952545166</td>\n      <td>8.754775047302246</td>\n    </tr>\n    <tr>\n      <th>23</th>\n      <td>Lone Wolf and Cub (manga, Kazuo Koike)</td>\n      <td>142</td>\n      <td>341</td>\n      <td>8.901399612426758</td>\n      <td>8.780099868774414</td>\n      <td>8.751757621765137</td>\n    </tr>\n    <tr>\n      <th>24</th>\n      <td>Fruits Basket (manga)</td>\n      <td>1616</td>\n      <td>3735</td>\n      <td>8.71660041809082</td>\n      <td>8.751099586486816</td>\n      <td>8.748617172241211</td>\n    </tr>\n    <tr>\n      <th>25</th>\n      <td>Mobile Suit Gundam: The Origin (manga)</td>\n      <td>34</td>\n      <td>112</td>\n      <td>8.882399559020996</td>\n      <td>8.86359977722168</td>\n      <td>8.745915412902832</td>\n    </tr>\n    <tr>\n      <th>26</th>\n      <td>Buddha (manga)</td>\n      <td>126</td>\n      <td>248</td>\n      <td>8.33329963684082</td>\n      <td>8.775899887084961</td>\n      <td>8.7441987991333</td>\n    </tr>\n    <tr>\n      <th>27</th>\n      <td>Kanojo no Omoide... (manga)</td>\n      <td>11</td>\n      <td>21</td>\n      <td>8.272700309753418</td>\n      <td>9.084500312805176</td>\n      <td>8.727459907531738</td>\n    </tr>\n    <tr>\n      <th>28</th>\n      <td>Sanctuary (manga by R. Ikegami)</td>\n      <td>83</td>\n      <td>137</td>\n      <td>8.674699783325195</td>\n      <td>8.7701997756958</td>\n      <td>8.723092079162598</td>\n    </tr>\n    <tr>\n      <th>29</th>\n      <td>Rurouni Kenshin (manga)</td>\n      <td>1242</td>\n      <td>2569</td>\n      <td>8.7923002243042</td>\n      <td>8.725099563598633</td>\n      <td>8.721955299377441</td>\n    </tr>\n    <tr>\n      <th>30</th>\n      <td>Drifting Life (manga)</td>\n      <td>17</td>\n      <td>31</td>\n      <td>8.411800384521484</td>\n      <td>8.947199821472168</td>\n      <td>8.718323707580566</td>\n    </tr>\n    <tr>\n      <th>31</th>\n      <td>Kids on the Slope (manga)</td>\n      <td>35</td>\n      <td>58</td>\n      <td>8.857099533081055</td>\n      <td>8.823599815368652</td>\n      <td>8.713035583496094</td>\n    </tr>\n    <tr>\n      <th>32</th>\n      <td>Glass no Kamen (manga)</td>\n      <td>36</td>\n      <td>146</td>\n      <td>8.527799606323242</td>\n      <td>8.818599700927734</td>\n      <td>8.711299896240234</td>\n    </tr>\n    <tr>\n      <th>33</th>\n      <td>Solanin (manga)</td>\n      <td>195</td>\n      <td>270</td>\n      <td>8.794899940490723</td>\n      <td>8.729000091552734</td>\n      <td>8.709233283996582</td>\n    </tr>\n    <tr>\n      <th>34</th>\n      <td>Blade of the Immortal (manga)</td>\n      <td>385</td>\n      <td>845</td>\n      <td>8.607799530029297</td>\n      <td>8.717900276184082</td>\n      <td>8.707901954650879</td>\n    </tr>\n    <tr>\n      <th>35</th>\n      <td>Silent Voice (manga)</td>\n      <td>113</td>\n      <td>182</td>\n      <td>8.761099815368652</td>\n      <td>8.730400085449219</td>\n      <td>8.696731567382812</td>\n    </tr>\n    <tr>\n      <th>36</th>\n      <td>Showa: A History of Japan (manga)</td>\n      <td>6</td>\n      <td>11</td>\n      <td>9.33329963684082</td>\n      <td>9.319000244140625</td>\n      <td>8.689640045166016</td>\n    </tr>\n    <tr>\n      <th>37</th>\n      <td>Bride's Story (manga)</td>\n      <td>68</td>\n      <td>166</td>\n      <td>8.82349967956543</td>\n      <td>8.73069953918457</td>\n      <td>8.675971984863281</td>\n    </tr>\n    <tr>\n      <th>38</th>\n      <td>Steel Ball Run (manga)</td>\n      <td>26</td>\n      <td>68</td>\n      <td>8.46150016784668</td>\n      <td>8.807299613952637</td>\n      <td>8.665740013122559</td>\n    </tr>\n    <tr>\n      <th>39</th>\n      <td>Town of Evening Calm, Country of Cherry Blosso...</td>\n      <td>100</td>\n      <td>129</td>\n      <td>8.760000228881836</td>\n      <td>8.697799682617188</td>\n      <td>8.661176681518555</td>\n    </tr>\n    <tr>\n      <th>40</th>\n      <td>Ōoku: The Inner Chambers (manga)</td>\n      <td>42</td>\n      <td>99</td>\n      <td>8.714300155639648</td>\n      <td>8.74470043182373</td>\n      <td>8.657821655273438</td>\n    </tr>\n    <tr>\n      <th>41</th>\n      <td>Children of the Sea (manga)</td>\n      <td>36</td>\n      <td>87</td>\n      <td>8.722200393676758</td>\n      <td>8.735600471496582</td>\n      <td>8.636600494384766</td>\n    </tr>\n    <tr>\n      <th>42</th>\n      <td>Message to Adolf (manga)</td>\n      <td>87</td>\n      <td>170</td>\n      <td>8.540200233459473</td>\n      <td>8.662400245666504</td>\n      <td>8.622101783752441</td>\n    </tr>\n    <tr>\n      <th>43</th>\n      <td>Heart of Thomas (manga)</td>\n      <td>30</td>\n      <td>44</td>\n      <td>8.566699981689453</td>\n      <td>8.73550033569336</td>\n      <td>8.619041442871094</td>\n    </tr>\n    <tr>\n      <th>44</th>\n      <td>Saikano (manga)</td>\n      <td>239</td>\n      <td>502</td>\n      <td>8.682000160217285</td>\n      <td>8.630900382995605</td>\n      <td>8.616327285766602</td>\n    </tr>\n    <tr>\n      <th>45</th>\n      <td>Stigma (manga)</td>\n      <td>41</td>\n      <td>68</td>\n      <td>8.439000129699707</td>\n      <td>8.688599586486816</td>\n      <td>8.604777336120605</td>\n    </tr>\n    <tr>\n      <th>46</th>\n      <td>Ancient Magus' Bride (manga)</td>\n      <td>28</td>\n      <td>105</td>\n      <td>8.607099533081055</td>\n      <td>8.725899696350098</td>\n      <td>8.603362083435059</td>\n    </tr>\n    <tr>\n      <th>47</th>\n      <td>Genshiken (manga)</td>\n      <td>426</td>\n      <td>894</td>\n      <td>8.650199890136719</td>\n      <td>8.593500137329102</td>\n      <td>8.585612297058105</td>\n    </tr>\n    <tr>\n      <th>48</th>\n      <td>Historie (manga)</td>\n      <td>54</td>\n      <td>98</td>\n      <td>8.703700065612793</td>\n      <td>8.644599914550781</td>\n      <td>8.582599639892578</td>\n    </tr>\n    <tr>\n      <th>49</th>\n      <td>Ode to Kirihito (manga)</td>\n      <td>80</td>\n      <td>120</td>\n      <td>8.649999618530273</td>\n      <td>8.6225004196167</td>\n      <td>8.580742835998535</td>\n    </tr>\n  </tbody>\n</table>\n</div>"
     },
     "metadata": {},
     "execution_count": 7
    }
   ],
   "source": [
    "manga_df"
   ]
  },
  {
   "cell_type": "code",
   "execution_count": 8,
   "metadata": {},
   "outputs": [
    {
     "output_type": "execute_result",
     "data": {
      "text/plain": "   anime_id                              name  \\\n0     32281                    Kimi no Na wa.   \n1      5114  Fullmetal Alchemist: Brotherhood   \n2     28977                          Gintama°   \n3      9253                       Steins;Gate   \n4      9969                     Gintama&#039;   \n\n                                               genre   type episodes  rating  \\\n0               Drama, Romance, School, Supernatural  Movie        1    9.37   \n1  Action, Adventure, Drama, Fantasy, Magic, Mili...     TV       64    9.26   \n2  Action, Comedy, Historical, Parody, Samurai, S...     TV       51    9.25   \n3                                   Sci-Fi, Thriller     TV       24    9.17   \n4  Action, Comedy, Historical, Parody, Samurai, S...     TV       51    9.16   \n\n   members  \n0   200630  \n1   793665  \n2   114262  \n3   673572  \n4   151266  ",
      "text/html": "<div>\n<style scoped>\n    .dataframe tbody tr th:only-of-type {\n        vertical-align: middle;\n    }\n\n    .dataframe tbody tr th {\n        vertical-align: top;\n    }\n\n    .dataframe thead th {\n        text-align: right;\n    }\n</style>\n<table border=\"1\" class=\"dataframe\">\n  <thead>\n    <tr style=\"text-align: right;\">\n      <th></th>\n      <th>anime_id</th>\n      <th>name</th>\n      <th>genre</th>\n      <th>type</th>\n      <th>episodes</th>\n      <th>rating</th>\n      <th>members</th>\n    </tr>\n  </thead>\n  <tbody>\n    <tr>\n      <th>0</th>\n      <td>32281</td>\n      <td>Kimi no Na wa.</td>\n      <td>Drama, Romance, School, Supernatural</td>\n      <td>Movie</td>\n      <td>1</td>\n      <td>9.37</td>\n      <td>200630</td>\n    </tr>\n    <tr>\n      <th>1</th>\n      <td>5114</td>\n      <td>Fullmetal Alchemist: Brotherhood</td>\n      <td>Action, Adventure, Drama, Fantasy, Magic, Mili...</td>\n      <td>TV</td>\n      <td>64</td>\n      <td>9.26</td>\n      <td>793665</td>\n    </tr>\n    <tr>\n      <th>2</th>\n      <td>28977</td>\n      <td>Gintama°</td>\n      <td>Action, Comedy, Historical, Parody, Samurai, S...</td>\n      <td>TV</td>\n      <td>51</td>\n      <td>9.25</td>\n      <td>114262</td>\n    </tr>\n    <tr>\n      <th>3</th>\n      <td>9253</td>\n      <td>Steins;Gate</td>\n      <td>Sci-Fi, Thriller</td>\n      <td>TV</td>\n      <td>24</td>\n      <td>9.17</td>\n      <td>673572</td>\n    </tr>\n    <tr>\n      <th>4</th>\n      <td>9969</td>\n      <td>Gintama&amp;#039;</td>\n      <td>Action, Comedy, Historical, Parody, Samurai, S...</td>\n      <td>TV</td>\n      <td>51</td>\n      <td>9.16</td>\n      <td>151266</td>\n    </tr>\n  </tbody>\n</table>\n</div>"
     },
     "metadata": {},
     "execution_count": 8
    }
   ],
   "source": [
    "csv_anime= \"resources/anime.csv\"\n",
    "data_df = pd.read_csv(csv_anime)\n",
    "data_df.head()"
   ]
  },
  {
   "cell_type": "code",
   "execution_count": 9,
   "metadata": {},
   "outputs": [],
   "source": [
    "data_df[\"genre\"] = data_df.genre.astype(str)"
   ]
  },
  {
   "cell_type": "code",
   "execution_count": 10,
   "metadata": {},
   "outputs": [
    {
     "output_type": "execute_result",
     "data": {
      "text/plain": "anime_id      int64\nname         object\ngenre        object\ntype         object\nepisodes     object\nrating      float64\nmembers       int64\ndtype: object"
     },
     "metadata": {},
     "execution_count": 10
    }
   ],
   "source": [
    "data_df.dtypes"
   ]
  },
  {
   "cell_type": "code",
   "execution_count": 11,
   "metadata": {},
   "outputs": [
    {
     "output_type": "execute_result",
     "data": {
      "text/plain": "                                      anime nb_votes nb_seen  \\\n0     Fullmetal Alchemist: Brotherhood (TV)     5815   10858   \n1                        your name. (movie)     1100    1481   \n2                          Steins;Gate (TV)     4655    6811   \n3                  Clannad After Story (TV)     5180    8361   \n4   Rurouni Kenshin: Trust & Betrayal (OAV)     6649   10385   \n..                                      ...      ...     ...   \n95                                      NaN       41      68   \n96                                      NaN       28     105   \n97                                      NaN      426     894   \n98                                      NaN       54      98   \n99                                      NaN       80     120   \n\n     straight_average   weighted_average   bayesian_average  \\\n0   9.106100082397461  9.095100402832031  9.091821670532227   \n1   9.104499816894531  9.087200164794922   9.07010269165039   \n2   9.138099670410156  9.059100151062012  9.055098533630371   \n3   8.951000213623047  9.055299758911133  9.051711082458496   \n4   8.923399925231934  8.972299575805664   8.96965217590332   \n..                ...                ...                ...   \n95  8.439000129699707  8.688599586486816  8.604777336120605   \n96  8.607099533081055  8.725899696350098  8.603362083435059   \n97  8.650199890136719  8.593500137329102  8.585612297058105   \n98  8.703700065612793  8.644599914550781  8.582599639892578   \n99  8.649999618530273    8.6225004196167  8.580742835998535   \n\n                           manga  \n0                            NaN  \n1                            NaN  \n2                            NaN  \n3                            NaN  \n4                            NaN  \n..                           ...  \n95                Stigma (manga)  \n96  Ancient Magus' Bride (manga)  \n97             Genshiken (manga)  \n98              Historie (manga)  \n99       Ode to Kirihito (manga)  \n\n[100 rows x 7 columns]",
      "text/html": "<div>\n<style scoped>\n    .dataframe tbody tr th:only-of-type {\n        vertical-align: middle;\n    }\n\n    .dataframe tbody tr th {\n        vertical-align: top;\n    }\n\n    .dataframe thead th {\n        text-align: right;\n    }\n</style>\n<table border=\"1\" class=\"dataframe\">\n  <thead>\n    <tr style=\"text-align: right;\">\n      <th></th>\n      <th>anime</th>\n      <th>nb_votes</th>\n      <th>nb_seen</th>\n      <th>straight_average</th>\n      <th>weighted_average</th>\n      <th>bayesian_average</th>\n      <th>manga</th>\n    </tr>\n  </thead>\n  <tbody>\n    <tr>\n      <th>0</th>\n      <td>Fullmetal Alchemist: Brotherhood (TV)</td>\n      <td>5815</td>\n      <td>10858</td>\n      <td>9.106100082397461</td>\n      <td>9.095100402832031</td>\n      <td>9.091821670532227</td>\n      <td>NaN</td>\n    </tr>\n    <tr>\n      <th>1</th>\n      <td>your name. (movie)</td>\n      <td>1100</td>\n      <td>1481</td>\n      <td>9.104499816894531</td>\n      <td>9.087200164794922</td>\n      <td>9.07010269165039</td>\n      <td>NaN</td>\n    </tr>\n    <tr>\n      <th>2</th>\n      <td>Steins;Gate (TV)</td>\n      <td>4655</td>\n      <td>6811</td>\n      <td>9.138099670410156</td>\n      <td>9.059100151062012</td>\n      <td>9.055098533630371</td>\n      <td>NaN</td>\n    </tr>\n    <tr>\n      <th>3</th>\n      <td>Clannad After Story (TV)</td>\n      <td>5180</td>\n      <td>8361</td>\n      <td>8.951000213623047</td>\n      <td>9.055299758911133</td>\n      <td>9.051711082458496</td>\n      <td>NaN</td>\n    </tr>\n    <tr>\n      <th>4</th>\n      <td>Rurouni Kenshin: Trust &amp; Betrayal (OAV)</td>\n      <td>6649</td>\n      <td>10385</td>\n      <td>8.923399925231934</td>\n      <td>8.972299575805664</td>\n      <td>8.96965217590332</td>\n      <td>NaN</td>\n    </tr>\n    <tr>\n      <th>...</th>\n      <td>...</td>\n      <td>...</td>\n      <td>...</td>\n      <td>...</td>\n      <td>...</td>\n      <td>...</td>\n      <td>...</td>\n    </tr>\n    <tr>\n      <th>95</th>\n      <td>NaN</td>\n      <td>41</td>\n      <td>68</td>\n      <td>8.439000129699707</td>\n      <td>8.688599586486816</td>\n      <td>8.604777336120605</td>\n      <td>Stigma (manga)</td>\n    </tr>\n    <tr>\n      <th>96</th>\n      <td>NaN</td>\n      <td>28</td>\n      <td>105</td>\n      <td>8.607099533081055</td>\n      <td>8.725899696350098</td>\n      <td>8.603362083435059</td>\n      <td>Ancient Magus' Bride (manga)</td>\n    </tr>\n    <tr>\n      <th>97</th>\n      <td>NaN</td>\n      <td>426</td>\n      <td>894</td>\n      <td>8.650199890136719</td>\n      <td>8.593500137329102</td>\n      <td>8.585612297058105</td>\n      <td>Genshiken (manga)</td>\n    </tr>\n    <tr>\n      <th>98</th>\n      <td>NaN</td>\n      <td>54</td>\n      <td>98</td>\n      <td>8.703700065612793</td>\n      <td>8.644599914550781</td>\n      <td>8.582599639892578</td>\n      <td>Historie (manga)</td>\n    </tr>\n    <tr>\n      <th>99</th>\n      <td>NaN</td>\n      <td>80</td>\n      <td>120</td>\n      <td>8.649999618530273</td>\n      <td>8.6225004196167</td>\n      <td>8.580742835998535</td>\n      <td>Ode to Kirihito (manga)</td>\n    </tr>\n  </tbody>\n</table>\n<p>100 rows × 7 columns</p>\n</div>"
     },
     "metadata": {},
     "execution_count": 11
    }
   ],
   "source": [
    "list_df = anime_df.merge(manga_df, how='outer')\n",
    "list_df\n"
   ]
  },
  {
   "cell_type": "code",
   "execution_count": 12,
   "metadata": {},
   "outputs": [
    {
     "output_type": "execute_result",
     "data": {
      "text/plain": "anime               object\nnb_votes            object\nnb_seen             object\nstraight_average    object\nweighted_average    object\nbayesian_average    object\nmanga               object\ndtype: object"
     },
     "metadata": {},
     "execution_count": 12
    }
   ],
   "source": [
    "list_df.dtypes"
   ]
  },
  {
   "cell_type": "code",
   "execution_count": 13,
   "metadata": {},
   "outputs": [],
   "source": [
    "list_df[\"nb_votes\"] = list_df.nb_votes.astype(float)"
   ]
  },
  {
   "cell_type": "code",
   "execution_count": 14,
   "metadata": {},
   "outputs": [],
   "source": [
    "list_df[\"nb_seen\"] = list_df.nb_seen.astype(float)"
   ]
  },
  {
   "cell_type": "code",
   "execution_count": 15,
   "metadata": {},
   "outputs": [],
   "source": [
    "list_df[\"straight_average\"] = list_df.straight_average.astype(float)"
   ]
  },
  {
   "cell_type": "code",
   "execution_count": 16,
   "metadata": {},
   "outputs": [],
   "source": [
    "list_df[\"weighted_average\"] = list_df.weighted_average.astype(float)"
   ]
  },
  {
   "cell_type": "code",
   "execution_count": 17,
   "metadata": {},
   "outputs": [],
   "source": [
    "list_df[\"bayesian_average\"] = list_df.bayesian_average.astype(float)"
   ]
  },
  {
   "cell_type": "code",
   "execution_count": 18,
   "metadata": {},
   "outputs": [
    {
     "output_type": "execute_result",
     "data": {
      "text/plain": "anime                object\nnb_votes            float64\nnb_seen             float64\nstraight_average    float64\nweighted_average    float64\nbayesian_average    float64\nmanga                object\ndtype: object"
     },
     "metadata": {},
     "execution_count": 18
    }
   ],
   "source": [
    "list_df.dtypes"
   ]
  },
  {
   "cell_type": "code",
   "execution_count": 19,
   "metadata": {},
   "outputs": [
    {
     "output_type": "execute_result",
     "data": {
      "text/plain": "               anime  nb_votes  nb_seen  straight_average  weighted_average  \\\n86               NaN       6.0     11.0            9.3333            9.3190   \n50               NaN    1255.0   2320.0            9.2892            9.2507   \n53               NaN     239.0    447.0            9.2050            9.1778   \n52               NaN     630.0   1063.0            9.1762            9.2113   \n2   Steins;Gate (TV)    4655.0   6811.0            9.1381            9.0591   \n..               ...       ...      ...               ...               ...   \n68               NaN      69.0    172.0            8.4203            8.8352   \n54               NaN     354.0    541.0            8.4124            9.0806   \n80               NaN      17.0     31.0            8.4118            8.9472   \n76               NaN     126.0    248.0            8.3333            8.7759   \n77               NaN      11.0     21.0            8.2727            9.0845   \n\n    bayesian_average                                       manga  \n86          8.689640           Showa: A History of Japan (manga)  \n50          9.245918                             Berserk (manga)  \n53          9.154224                        Vinland Saga (manga)  \n52          9.202052  Nausicaä of the Valley of the Wind (manga)  \n2           9.055099                                         NaN  \n..               ...                                         ...  \n68          8.775496                             Phoenix (manga)  \n54          9.065683             Yokohama Kaidashi Kikou (manga)  \n80          8.718324                       Drifting Life (manga)  \n76          8.744199                              Buddha (manga)  \n77          8.727460                 Kanojo no Omoide... (manga)  \n\n[100 rows x 7 columns]",
      "text/html": "<div>\n<style scoped>\n    .dataframe tbody tr th:only-of-type {\n        vertical-align: middle;\n    }\n\n    .dataframe tbody tr th {\n        vertical-align: top;\n    }\n\n    .dataframe thead th {\n        text-align: right;\n    }\n</style>\n<table border=\"1\" class=\"dataframe\">\n  <thead>\n    <tr style=\"text-align: right;\">\n      <th></th>\n      <th>anime</th>\n      <th>nb_votes</th>\n      <th>nb_seen</th>\n      <th>straight_average</th>\n      <th>weighted_average</th>\n      <th>bayesian_average</th>\n      <th>manga</th>\n    </tr>\n  </thead>\n  <tbody>\n    <tr>\n      <th>86</th>\n      <td>NaN</td>\n      <td>6.0</td>\n      <td>11.0</td>\n      <td>9.3333</td>\n      <td>9.3190</td>\n      <td>8.689640</td>\n      <td>Showa: A History of Japan (manga)</td>\n    </tr>\n    <tr>\n      <th>50</th>\n      <td>NaN</td>\n      <td>1255.0</td>\n      <td>2320.0</td>\n      <td>9.2892</td>\n      <td>9.2507</td>\n      <td>9.245918</td>\n      <td>Berserk (manga)</td>\n    </tr>\n    <tr>\n      <th>53</th>\n      <td>NaN</td>\n      <td>239.0</td>\n      <td>447.0</td>\n      <td>9.2050</td>\n      <td>9.1778</td>\n      <td>9.154224</td>\n      <td>Vinland Saga (manga)</td>\n    </tr>\n    <tr>\n      <th>52</th>\n      <td>NaN</td>\n      <td>630.0</td>\n      <td>1063.0</td>\n      <td>9.1762</td>\n      <td>9.2113</td>\n      <td>9.202052</td>\n      <td>Nausicaä of the Valley of the Wind (manga)</td>\n    </tr>\n    <tr>\n      <th>2</th>\n      <td>Steins;Gate (TV)</td>\n      <td>4655.0</td>\n      <td>6811.0</td>\n      <td>9.1381</td>\n      <td>9.0591</td>\n      <td>9.055099</td>\n      <td>NaN</td>\n    </tr>\n    <tr>\n      <th>...</th>\n      <td>...</td>\n      <td>...</td>\n      <td>...</td>\n      <td>...</td>\n      <td>...</td>\n      <td>...</td>\n      <td>...</td>\n    </tr>\n    <tr>\n      <th>68</th>\n      <td>NaN</td>\n      <td>69.0</td>\n      <td>172.0</td>\n      <td>8.4203</td>\n      <td>8.8352</td>\n      <td>8.775496</td>\n      <td>Phoenix (manga)</td>\n    </tr>\n    <tr>\n      <th>54</th>\n      <td>NaN</td>\n      <td>354.0</td>\n      <td>541.0</td>\n      <td>8.4124</td>\n      <td>9.0806</td>\n      <td>9.065683</td>\n      <td>Yokohama Kaidashi Kikou (manga)</td>\n    </tr>\n    <tr>\n      <th>80</th>\n      <td>NaN</td>\n      <td>17.0</td>\n      <td>31.0</td>\n      <td>8.4118</td>\n      <td>8.9472</td>\n      <td>8.718324</td>\n      <td>Drifting Life (manga)</td>\n    </tr>\n    <tr>\n      <th>76</th>\n      <td>NaN</td>\n      <td>126.0</td>\n      <td>248.0</td>\n      <td>8.3333</td>\n      <td>8.7759</td>\n      <td>8.744199</td>\n      <td>Buddha (manga)</td>\n    </tr>\n    <tr>\n      <th>77</th>\n      <td>NaN</td>\n      <td>11.0</td>\n      <td>21.0</td>\n      <td>8.2727</td>\n      <td>9.0845</td>\n      <td>8.727460</td>\n      <td>Kanojo no Omoide... (manga)</td>\n    </tr>\n  </tbody>\n</table>\n<p>100 rows × 7 columns</p>\n</div>"
     },
     "metadata": {},
     "execution_count": 19
    }
   ],
   "source": [
    "list_df.sort_values(by=['straight_average'], inplace=True, ascending=False)\n",
    "list_df"
   ]
  },
  {
   "cell_type": "code",
   "execution_count": 20,
   "metadata": {},
   "outputs": [
    {
     "output_type": "execute_result",
     "data": {
      "text/plain": "               anime                                       manga  nb_votes  \\\n86               NaN           Showa: A History of Japan (manga)       6.0   \n50               NaN                             Berserk (manga)    1255.0   \n53               NaN                        Vinland Saga (manga)     239.0   \n52               NaN  Nausicaä of the Valley of the Wind (manga)     630.0   \n2   Steins;Gate (TV)                                         NaN    4655.0   \n..               ...                                         ...       ...   \n68               NaN                             Phoenix (manga)      69.0   \n54               NaN             Yokohama Kaidashi Kikou (manga)     354.0   \n80               NaN                       Drifting Life (manga)      17.0   \n76               NaN                              Buddha (manga)     126.0   \n77               NaN                 Kanojo no Omoide... (manga)      11.0   \n\n    nb_seen  straight_average  weighted_average  bayesian_average  \n86     11.0            9.3333            9.3190          8.689640  \n50   2320.0            9.2892            9.2507          9.245918  \n53    447.0            9.2050            9.1778          9.154224  \n52   1063.0            9.1762            9.2113          9.202052  \n2    6811.0            9.1381            9.0591          9.055099  \n..      ...               ...               ...               ...  \n68    172.0            8.4203            8.8352          8.775496  \n54    541.0            8.4124            9.0806          9.065683  \n80     31.0            8.4118            8.9472          8.718324  \n76    248.0            8.3333            8.7759          8.744199  \n77     21.0            8.2727            9.0845          8.727460  \n\n[100 rows x 7 columns]",
      "text/html": "<div>\n<style scoped>\n    .dataframe tbody tr th:only-of-type {\n        vertical-align: middle;\n    }\n\n    .dataframe tbody tr th {\n        vertical-align: top;\n    }\n\n    .dataframe thead th {\n        text-align: right;\n    }\n</style>\n<table border=\"1\" class=\"dataframe\">\n  <thead>\n    <tr style=\"text-align: right;\">\n      <th></th>\n      <th>anime</th>\n      <th>manga</th>\n      <th>nb_votes</th>\n      <th>nb_seen</th>\n      <th>straight_average</th>\n      <th>weighted_average</th>\n      <th>bayesian_average</th>\n    </tr>\n  </thead>\n  <tbody>\n    <tr>\n      <th>86</th>\n      <td>NaN</td>\n      <td>Showa: A History of Japan (manga)</td>\n      <td>6.0</td>\n      <td>11.0</td>\n      <td>9.3333</td>\n      <td>9.3190</td>\n      <td>8.689640</td>\n    </tr>\n    <tr>\n      <th>50</th>\n      <td>NaN</td>\n      <td>Berserk (manga)</td>\n      <td>1255.0</td>\n      <td>2320.0</td>\n      <td>9.2892</td>\n      <td>9.2507</td>\n      <td>9.245918</td>\n    </tr>\n    <tr>\n      <th>53</th>\n      <td>NaN</td>\n      <td>Vinland Saga (manga)</td>\n      <td>239.0</td>\n      <td>447.0</td>\n      <td>9.2050</td>\n      <td>9.1778</td>\n      <td>9.154224</td>\n    </tr>\n    <tr>\n      <th>52</th>\n      <td>NaN</td>\n      <td>Nausicaä of the Valley of the Wind (manga)</td>\n      <td>630.0</td>\n      <td>1063.0</td>\n      <td>9.1762</td>\n      <td>9.2113</td>\n      <td>9.202052</td>\n    </tr>\n    <tr>\n      <th>2</th>\n      <td>Steins;Gate (TV)</td>\n      <td>NaN</td>\n      <td>4655.0</td>\n      <td>6811.0</td>\n      <td>9.1381</td>\n      <td>9.0591</td>\n      <td>9.055099</td>\n    </tr>\n    <tr>\n      <th>...</th>\n      <td>...</td>\n      <td>...</td>\n      <td>...</td>\n      <td>...</td>\n      <td>...</td>\n      <td>...</td>\n      <td>...</td>\n    </tr>\n    <tr>\n      <th>68</th>\n      <td>NaN</td>\n      <td>Phoenix (manga)</td>\n      <td>69.0</td>\n      <td>172.0</td>\n      <td>8.4203</td>\n      <td>8.8352</td>\n      <td>8.775496</td>\n    </tr>\n    <tr>\n      <th>54</th>\n      <td>NaN</td>\n      <td>Yokohama Kaidashi Kikou (manga)</td>\n      <td>354.0</td>\n      <td>541.0</td>\n      <td>8.4124</td>\n      <td>9.0806</td>\n      <td>9.065683</td>\n    </tr>\n    <tr>\n      <th>80</th>\n      <td>NaN</td>\n      <td>Drifting Life (manga)</td>\n      <td>17.0</td>\n      <td>31.0</td>\n      <td>8.4118</td>\n      <td>8.9472</td>\n      <td>8.718324</td>\n    </tr>\n    <tr>\n      <th>76</th>\n      <td>NaN</td>\n      <td>Buddha (manga)</td>\n      <td>126.0</td>\n      <td>248.0</td>\n      <td>8.3333</td>\n      <td>8.7759</td>\n      <td>8.744199</td>\n    </tr>\n    <tr>\n      <th>77</th>\n      <td>NaN</td>\n      <td>Kanojo no Omoide... (manga)</td>\n      <td>11.0</td>\n      <td>21.0</td>\n      <td>8.2727</td>\n      <td>9.0845</td>\n      <td>8.727460</td>\n    </tr>\n  </tbody>\n</table>\n<p>100 rows × 7 columns</p>\n</div>"
     },
     "metadata": {},
     "execution_count": 20
    }
   ],
   "source": [
    "list_df2= list_df[['anime', 'manga', 'nb_votes', 'nb_seen', 'straight_average', 'weighted_average', 'bayesian_average']]\n",
    "list_df2"
   ]
  },
  {
   "cell_type": "code",
   "execution_count": 21,
   "metadata": {},
   "outputs": [
    {
     "output_type": "execute_result",
     "data": {
      "text/plain": "                        anime                              manga  nb_votes  \\\n32   Fullmetal Alchemist (TV)                                NaN   13436.0   \n14            Death Note (TV)                                NaN   12911.0   \n8           Cowboy Bebop (TV)                                NaN   12243.0   \n9   Princess Mononoke (movie)                                NaN    9835.0   \n6       Spirited Away (movie)                                NaN   10546.0   \n..                        ...                                ...       ...   \n93                        NaN            Heart of Thomas (manga)      30.0   \n80                        NaN              Drifting Life (manga)      17.0   \n77                        NaN        Kanojo no Omoide... (manga)      11.0   \n67                        NaN   Kaguya-sama: Love is War (manga)       8.0   \n86                        NaN  Showa: A History of Japan (manga)       6.0   \n\n    nb_seen  straight_average  weighted_average  bayesian_average  \n32  23626.0            8.7289            8.6499          8.648877  \n14  22216.0            8.8633            8.7815          8.780313  \n8   21026.0            8.9331            8.8951          8.893736  \n9   15401.0            8.9281            8.8650          8.863339  \n6   15397.0            8.9698            8.9262          8.924582  \n..      ...               ...               ...               ...  \n93     44.0            8.5667            8.7355          8.619041  \n80     31.0            8.4118            8.9472          8.718324  \n77     21.0            8.2727            9.0845          8.727460  \n67     18.0            8.8750            9.3095          8.788199  \n86     11.0            9.3333            9.3190          8.689640  \n\n[100 rows x 7 columns]",
      "text/html": "<div>\n<style scoped>\n    .dataframe tbody tr th:only-of-type {\n        vertical-align: middle;\n    }\n\n    .dataframe tbody tr th {\n        vertical-align: top;\n    }\n\n    .dataframe thead th {\n        text-align: right;\n    }\n</style>\n<table border=\"1\" class=\"dataframe\">\n  <thead>\n    <tr style=\"text-align: right;\">\n      <th></th>\n      <th>anime</th>\n      <th>manga</th>\n      <th>nb_votes</th>\n      <th>nb_seen</th>\n      <th>straight_average</th>\n      <th>weighted_average</th>\n      <th>bayesian_average</th>\n    </tr>\n  </thead>\n  <tbody>\n    <tr>\n      <th>32</th>\n      <td>Fullmetal Alchemist (TV)</td>\n      <td>NaN</td>\n      <td>13436.0</td>\n      <td>23626.0</td>\n      <td>8.7289</td>\n      <td>8.6499</td>\n      <td>8.648877</td>\n    </tr>\n    <tr>\n      <th>14</th>\n      <td>Death Note (TV)</td>\n      <td>NaN</td>\n      <td>12911.0</td>\n      <td>22216.0</td>\n      <td>8.8633</td>\n      <td>8.7815</td>\n      <td>8.780313</td>\n    </tr>\n    <tr>\n      <th>8</th>\n      <td>Cowboy Bebop (TV)</td>\n      <td>NaN</td>\n      <td>12243.0</td>\n      <td>21026.0</td>\n      <td>8.9331</td>\n      <td>8.8951</td>\n      <td>8.893736</td>\n    </tr>\n    <tr>\n      <th>9</th>\n      <td>Princess Mononoke (movie)</td>\n      <td>NaN</td>\n      <td>9835.0</td>\n      <td>15401.0</td>\n      <td>8.9281</td>\n      <td>8.8650</td>\n      <td>8.863339</td>\n    </tr>\n    <tr>\n      <th>6</th>\n      <td>Spirited Away (movie)</td>\n      <td>NaN</td>\n      <td>10546.0</td>\n      <td>15397.0</td>\n      <td>8.9698</td>\n      <td>8.9262</td>\n      <td>8.924582</td>\n    </tr>\n    <tr>\n      <th>...</th>\n      <td>...</td>\n      <td>...</td>\n      <td>...</td>\n      <td>...</td>\n      <td>...</td>\n      <td>...</td>\n      <td>...</td>\n    </tr>\n    <tr>\n      <th>93</th>\n      <td>NaN</td>\n      <td>Heart of Thomas (manga)</td>\n      <td>30.0</td>\n      <td>44.0</td>\n      <td>8.5667</td>\n      <td>8.7355</td>\n      <td>8.619041</td>\n    </tr>\n    <tr>\n      <th>80</th>\n      <td>NaN</td>\n      <td>Drifting Life (manga)</td>\n      <td>17.0</td>\n      <td>31.0</td>\n      <td>8.4118</td>\n      <td>8.9472</td>\n      <td>8.718324</td>\n    </tr>\n    <tr>\n      <th>77</th>\n      <td>NaN</td>\n      <td>Kanojo no Omoide... (manga)</td>\n      <td>11.0</td>\n      <td>21.0</td>\n      <td>8.2727</td>\n      <td>9.0845</td>\n      <td>8.727460</td>\n    </tr>\n    <tr>\n      <th>67</th>\n      <td>NaN</td>\n      <td>Kaguya-sama: Love is War (manga)</td>\n      <td>8.0</td>\n      <td>18.0</td>\n      <td>8.8750</td>\n      <td>9.3095</td>\n      <td>8.788199</td>\n    </tr>\n    <tr>\n      <th>86</th>\n      <td>NaN</td>\n      <td>Showa: A History of Japan (manga)</td>\n      <td>6.0</td>\n      <td>11.0</td>\n      <td>9.3333</td>\n      <td>9.3190</td>\n      <td>8.689640</td>\n    </tr>\n  </tbody>\n</table>\n<p>100 rows × 7 columns</p>\n</div>"
     },
     "metadata": {},
     "execution_count": 21
    }
   ],
   "source": [
    "list_df2.sort_values(by=['nb_seen', 'straight_average'], inplace=True, ascending=False)\n",
    "list_df2"
   ]
  },
  {
   "cell_type": "code",
   "execution_count": 22,
   "metadata": {},
   "outputs": [],
   "source": [
    ">>> list_df2.to_html('Mergedlist.html')"
   ]
  },
  {
   "cell_type": "code",
   "execution_count": 23,
   "metadata": {},
   "outputs": [],
   "source": [
    "anime_df2=anime_df"
   ]
  },
  {
   "cell_type": "code",
   "execution_count": 24,
   "metadata": {},
   "outputs": [],
   "source": [
    "anime_df2[\"nb_votes\"] = anime_df2.nb_votes.astype(float)\n",
    "anime_df2[\"nb_seen\"] = anime_df2.nb_seen.astype(float)\n",
    "anime_df2[\"straight_average\"] = anime_df2.straight_average.astype(float)"
   ]
  },
  {
   "cell_type": "code",
   "execution_count": 25,
   "metadata": {},
   "outputs": [
    {
     "output_type": "display_data",
     "data": {
      "application/vnd.plotly.v1+json": {
       "config": {
        "plotlyServerURL": "https://plot.ly"
       },
       "data": [
        {
         "branchvalues": "total",
         "customdata": [
          [
           8203,
           5777,
           8.693099975585938
          ],
          [
           624,
           279,
           8.677399635314941
          ],
          [
           6990,
           4198,
           8.673399925231934
          ],
          [
           2667,
           1801,
           8.789600372314453
          ],
          [
           8361,
           5180,
           8.951000213623047
          ],
          [
           15212,
           9181,
           8.854399681091309
          ],
          [
           12551,
           7868,
           9.020099639892578
          ],
          [
           21026,
           12243,
           8.933099746704102
          ],
          [
           1060,
           688,
           8.780500411987305
          ],
          [
           22216,
           12911,
           8.863300323486328
          ],
          [
           260,
           182,
           8.818699836730957
          ],
          [
           4029,
           2792,
           8.868599891662598
          ],
          [
           3359,
           2090,
           8.775099754333496
          ],
          [
           2824,
           1628,
           8.746299743652344
          ],
          [
           23626,
           13436,
           8.728899955749512
          ],
          [
           10858,
           5815,
           9.106100082397461
          ],
          [
           2700,
           1702,
           8.7121000289917
          ],
          [
           4892,
           2597,
           8.749300003051758
          ],
          [
           291,
           151,
           8.768199920654297
          ],
          [
           888,
           432,
           8.740699768066406
          ],
          [
           482,
           262,
           8.561100006103516
          ],
          [
           257,
           166,
           8.710800170898438
          ],
          [
           7766,
           5537,
           8.671099662780762
          ],
          [
           6925,
           4593,
           8.707799911499023
          ],
          [
           11421,
           6975,
           8.735300064086914
          ],
          [
           1206,
           715,
           8.630800247192383
          ],
          [
           3089,
           2053,
           8.569899559020996
          ],
          [
           1997,
           1043,
           8.69890022277832
          ],
          [
           5693,
           3643,
           8.641799926757812
          ],
          [
           1141,
           726,
           8.785099983215332
          ],
          [
           883,
           644,
           8.807499885559082
          ],
          [
           1044,
           726,
           8.7947998046875
          ],
          [
           722,
           511,
           8.747599601745605
          ],
          [
           1820,
           1343,
           8.829500198364258
          ],
          [
           5781,
           3472,
           8.76669979095459
          ],
          [
           8163,
           4995,
           8.803199768066406
          ],
          [
           848,
           512,
           8.824199676513672
          ],
          [
           7403,
           4686,
           8.653200149536133
          ],
          [
           1005,
           579,
           8.644200325012207
          ],
          [
           7898,
           5066,
           8.678999900817871
          ],
          [
           4331,
           2772,
           8.666299819946289
          ],
          [
           15401,
           9835,
           8.928099632263184
          ],
          [
           10385,
           6649,
           8.923399925231934
          ],
          [
           764,
           559,
           8.856900215148926
          ],
          [
           15397,
           10546,
           8.969799995422363
          ],
          [
           6811,
           4655,
           9.138099670410156
          ],
          [
           4573,
           3400,
           8.743800163269043
          ],
          [
           1631,
           1159,
           8.65310001373291
          ],
          [
           4878,
           3235,
           8.786100387573242
          ],
          [
           1481,
           1100,
           9.104499816894531
          ]
         ],
         "domain": {
          "x": [
           0,
           1
          ],
          "y": [
           0,
           1
          ]
         },
         "hovertemplate": "labels=%{label}<br>nb_seen=%{customdata[0]}<br>parent=%{parent}<br>id=%{id}<br>nb_votes=%{customdata[1]}<br>straight_average=%{color}<extra></extra>",
         "ids": [
          "5 Centimeters Per Second (movie)",
          "Attack on Titan (TV 4/2019)",
          "Baccano! (TV)",
          "Bunny Drop (TV)",
          "Clannad After Story (TV)",
          "Code Geass: Lelouch of the Rebellion (TV)",
          "Code Geass: Lelouch of the Rebellion R2 (TV)",
          "Cowboy Bebop (TV)",
          "Cross Game (TV)",
          "Death Note (TV)",
          "Descending Stories: Showa Genroku Rakugo Shinju (TV)",
          "Disappearance of Haruhi Suzumiya (movie)",
          "Evangelion: 2.0 You Can (Not) Advance (movie)",
          "Fighting Spirit (TV)",
          "Fullmetal Alchemist (TV)",
          "Fullmetal Alchemist: Brotherhood (TV)",
          "Garden of Sinners (movie series)",
          "Ghost in the Shell: Stand Alone Complex 2nd GIG (TV)",
          "Gintama (TV 4/2015)",
          "Gintama' (TV 2/2011)",
          "Gintama' (TV 3/2012)",
          "Gintama: The Final Movie (movie)",
          "Girl Who Leapt Through Time (movie)",
          "Grave of the Fireflies (movie)",
          "Gurren Lagann (TV)",
          "Hajime no Ippo: New Challenger (TV)",
          "Honey and Clover II (TV)",
          "Hunter × Hunter (TV 2011)",
          "Kanon (TV 2/2006)",
          "Legend of the Galactic Heroes (OAV)",
          "Made in Abyss (TV)",
          "Maria Watches Over Us 3rd Season (OAV)",
          "Maria Watches Over Us 4th Season (TV)",
          "Maria Watches Over Us Season 2: Printemps (TV)",
          "Monster (TV)",
          "Mushi-Shi (TV)",
          "Mushishi: The Next Chapter (TV)",
          "My Neighbor Totoro (movie)",
          "Natsume's Book of Friends (TV 4)",
          "Nausicaä of the Valley of the Wind (movie)",
          "Nodame Cantabile (TV)",
          "Princess Mononoke (movie)",
          "Rurouni Kenshin: Trust & Betrayal (OAV)",
          "Silent Voice (movie)",
          "Spirited Away (movie)",
          "Steins;Gate (TV)",
          "Summer Wars (movie)",
          "Wolf Children (movie)",
          "anohana: The Flower We Saw That Day (TV)",
          "your name. (movie)"
         ],
         "labels": [
          "5 Centimeters Per Second (movie)",
          "Attack on Titan (TV 4/2019)",
          "Baccano! (TV)",
          "Bunny Drop (TV)",
          "Clannad After Story (TV)",
          "Code Geass: Lelouch of the Rebellion (TV)",
          "Code Geass: Lelouch of the Rebellion R2 (TV)",
          "Cowboy Bebop (TV)",
          "Cross Game (TV)",
          "Death Note (TV)",
          "Descending Stories: Showa Genroku Rakugo Shinju (TV)",
          "Disappearance of Haruhi Suzumiya (movie)",
          "Evangelion: 2.0 You Can (Not) Advance (movie)",
          "Fighting Spirit (TV)",
          "Fullmetal Alchemist (TV)",
          "Fullmetal Alchemist: Brotherhood (TV)",
          "Garden of Sinners (movie series)",
          "Ghost in the Shell: Stand Alone Complex 2nd GIG (TV)",
          "Gintama (TV 4/2015)",
          "Gintama' (TV 2/2011)",
          "Gintama' (TV 3/2012)",
          "Gintama: The Final Movie (movie)",
          "Girl Who Leapt Through Time (movie)",
          "Grave of the Fireflies (movie)",
          "Gurren Lagann (TV)",
          "Hajime no Ippo: New Challenger (TV)",
          "Honey and Clover II (TV)",
          "Hunter × Hunter (TV 2011)",
          "Kanon (TV 2/2006)",
          "Legend of the Galactic Heroes (OAV)",
          "Made in Abyss (TV)",
          "Maria Watches Over Us 3rd Season (OAV)",
          "Maria Watches Over Us 4th Season (TV)",
          "Maria Watches Over Us Season 2: Printemps (TV)",
          "Monster (TV)",
          "Mushi-Shi (TV)",
          "Mushishi: The Next Chapter (TV)",
          "My Neighbor Totoro (movie)",
          "Natsume's Book of Friends (TV 4)",
          "Nausicaä of the Valley of the Wind (movie)",
          "Nodame Cantabile (TV)",
          "Princess Mononoke (movie)",
          "Rurouni Kenshin: Trust & Betrayal (OAV)",
          "Silent Voice (movie)",
          "Spirited Away (movie)",
          "Steins;Gate (TV)",
          "Summer Wars (movie)",
          "Wolf Children (movie)",
          "anohana: The Flower We Saw That Day (TV)",
          "your name. (movie)"
         ],
         "marker": {
          "coloraxis": "coloraxis",
          "colors": [
           8.693099975585938,
           8.677399635314941,
           8.673399925231934,
           8.789600372314453,
           8.951000213623047,
           8.854399681091309,
           9.020099639892578,
           8.933099746704102,
           8.780500411987305,
           8.863300323486328,
           8.818699836730957,
           8.868599891662598,
           8.775099754333496,
           8.746299743652344,
           8.728899955749512,
           9.106100082397461,
           8.7121000289917,
           8.749300003051758,
           8.768199920654297,
           8.740699768066406,
           8.561100006103516,
           8.710800170898438,
           8.671099662780762,
           8.707799911499023,
           8.735300064086914,
           8.630800247192383,
           8.569899559020996,
           8.69890022277832,
           8.641799926757812,
           8.785099983215332,
           8.807499885559082,
           8.7947998046875,
           8.747599601745605,
           8.829500198364258,
           8.76669979095459,
           8.803199768066406,
           8.824199676513672,
           8.653200149536133,
           8.644200325012207,
           8.678999900817871,
           8.666299819946289,
           8.928099632263184,
           8.923399925231934,
           8.856900215148926,
           8.969799995422363,
           9.138099670410156,
           8.743800163269043,
           8.65310001373291,
           8.786100387573242,
           9.104499816894531
          ]
         },
         "name": "",
         "parents": [
          "",
          "",
          "",
          "",
          "",
          "",
          "",
          "",
          "",
          "",
          "",
          "",
          "",
          "",
          "",
          "",
          "",
          "",
          "",
          "",
          "",
          "",
          "",
          "",
          "",
          "",
          "",
          "",
          "",
          "",
          "",
          "",
          "",
          "",
          "",
          "",
          "",
          "",
          "",
          "",
          "",
          "",
          "",
          "",
          "",
          "",
          "",
          "",
          "",
          ""
         ],
         "type": "treemap",
         "values": [
          8203,
          624,
          6990,
          2667,
          8361,
          15212,
          12551,
          21026,
          1060,
          22216,
          260,
          4029,
          3359,
          2824,
          23626,
          10858,
          2700,
          4892,
          291,
          888,
          482,
          257,
          7766,
          6925,
          11421,
          1206,
          3089,
          1997,
          5693,
          1141,
          883,
          1044,
          722,
          1820,
          5781,
          8163,
          848,
          7403,
          1005,
          7898,
          4331,
          15401,
          10385,
          764,
          15397,
          6811,
          4573,
          1631,
          4878,
          1481
         ]
        }
       ],
       "layout": {
        "coloraxis": {
         "cmid": 8.785649948120117,
         "colorbar": {
          "title": {
           "text": "straight_average"
          }
         },
         "colorscale": [
          [
           0,
           "rgb(103,0,31)"
          ],
          [
           0.1,
           "rgb(178,24,43)"
          ],
          [
           0.2,
           "rgb(214,96,77)"
          ],
          [
           0.3,
           "rgb(244,165,130)"
          ],
          [
           0.4,
           "rgb(253,219,199)"
          ],
          [
           0.5,
           "rgb(247,247,247)"
          ],
          [
           0.6,
           "rgb(209,229,240)"
          ],
          [
           0.7,
           "rgb(146,197,222)"
          ],
          [
           0.8,
           "rgb(67,147,195)"
          ],
          [
           0.9,
           "rgb(33,102,172)"
          ],
          [
           1,
           "rgb(5,48,97)"
          ]
         ]
        },
        "legend": {
         "tracegroupgap": 0
        },
        "margin": {
         "t": 60
        },
        "template": {
         "data": {
          "bar": [
           {
            "error_x": {
             "color": "#2a3f5f"
            },
            "error_y": {
             "color": "#2a3f5f"
            },
            "marker": {
             "line": {
              "color": "#E5ECF6",
              "width": 0.5
             }
            },
            "type": "bar"
           }
          ],
          "barpolar": [
           {
            "marker": {
             "line": {
              "color": "#E5ECF6",
              "width": 0.5
             }
            },
            "type": "barpolar"
           }
          ],
          "carpet": [
           {
            "aaxis": {
             "endlinecolor": "#2a3f5f",
             "gridcolor": "white",
             "linecolor": "white",
             "minorgridcolor": "white",
             "startlinecolor": "#2a3f5f"
            },
            "baxis": {
             "endlinecolor": "#2a3f5f",
             "gridcolor": "white",
             "linecolor": "white",
             "minorgridcolor": "white",
             "startlinecolor": "#2a3f5f"
            },
            "type": "carpet"
           }
          ],
          "choropleth": [
           {
            "colorbar": {
             "outlinewidth": 0,
             "ticks": ""
            },
            "type": "choropleth"
           }
          ],
          "contour": [
           {
            "colorbar": {
             "outlinewidth": 0,
             "ticks": ""
            },
            "colorscale": [
             [
              0,
              "#0d0887"
             ],
             [
              0.1111111111111111,
              "#46039f"
             ],
             [
              0.2222222222222222,
              "#7201a8"
             ],
             [
              0.3333333333333333,
              "#9c179e"
             ],
             [
              0.4444444444444444,
              "#bd3786"
             ],
             [
              0.5555555555555556,
              "#d8576b"
             ],
             [
              0.6666666666666666,
              "#ed7953"
             ],
             [
              0.7777777777777778,
              "#fb9f3a"
             ],
             [
              0.8888888888888888,
              "#fdca26"
             ],
             [
              1,
              "#f0f921"
             ]
            ],
            "type": "contour"
           }
          ],
          "contourcarpet": [
           {
            "colorbar": {
             "outlinewidth": 0,
             "ticks": ""
            },
            "type": "contourcarpet"
           }
          ],
          "heatmap": [
           {
            "colorbar": {
             "outlinewidth": 0,
             "ticks": ""
            },
            "colorscale": [
             [
              0,
              "#0d0887"
             ],
             [
              0.1111111111111111,
              "#46039f"
             ],
             [
              0.2222222222222222,
              "#7201a8"
             ],
             [
              0.3333333333333333,
              "#9c179e"
             ],
             [
              0.4444444444444444,
              "#bd3786"
             ],
             [
              0.5555555555555556,
              "#d8576b"
             ],
             [
              0.6666666666666666,
              "#ed7953"
             ],
             [
              0.7777777777777778,
              "#fb9f3a"
             ],
             [
              0.8888888888888888,
              "#fdca26"
             ],
             [
              1,
              "#f0f921"
             ]
            ],
            "type": "heatmap"
           }
          ],
          "heatmapgl": [
           {
            "colorbar": {
             "outlinewidth": 0,
             "ticks": ""
            },
            "colorscale": [
             [
              0,
              "#0d0887"
             ],
             [
              0.1111111111111111,
              "#46039f"
             ],
             [
              0.2222222222222222,
              "#7201a8"
             ],
             [
              0.3333333333333333,
              "#9c179e"
             ],
             [
              0.4444444444444444,
              "#bd3786"
             ],
             [
              0.5555555555555556,
              "#d8576b"
             ],
             [
              0.6666666666666666,
              "#ed7953"
             ],
             [
              0.7777777777777778,
              "#fb9f3a"
             ],
             [
              0.8888888888888888,
              "#fdca26"
             ],
             [
              1,
              "#f0f921"
             ]
            ],
            "type": "heatmapgl"
           }
          ],
          "histogram": [
           {
            "marker": {
             "colorbar": {
              "outlinewidth": 0,
              "ticks": ""
             }
            },
            "type": "histogram"
           }
          ],
          "histogram2d": [
           {
            "colorbar": {
             "outlinewidth": 0,
             "ticks": ""
            },
            "colorscale": [
             [
              0,
              "#0d0887"
             ],
             [
              0.1111111111111111,
              "#46039f"
             ],
             [
              0.2222222222222222,
              "#7201a8"
             ],
             [
              0.3333333333333333,
              "#9c179e"
             ],
             [
              0.4444444444444444,
              "#bd3786"
             ],
             [
              0.5555555555555556,
              "#d8576b"
             ],
             [
              0.6666666666666666,
              "#ed7953"
             ],
             [
              0.7777777777777778,
              "#fb9f3a"
             ],
             [
              0.8888888888888888,
              "#fdca26"
             ],
             [
              1,
              "#f0f921"
             ]
            ],
            "type": "histogram2d"
           }
          ],
          "histogram2dcontour": [
           {
            "colorbar": {
             "outlinewidth": 0,
             "ticks": ""
            },
            "colorscale": [
             [
              0,
              "#0d0887"
             ],
             [
              0.1111111111111111,
              "#46039f"
             ],
             [
              0.2222222222222222,
              "#7201a8"
             ],
             [
              0.3333333333333333,
              "#9c179e"
             ],
             [
              0.4444444444444444,
              "#bd3786"
             ],
             [
              0.5555555555555556,
              "#d8576b"
             ],
             [
              0.6666666666666666,
              "#ed7953"
             ],
             [
              0.7777777777777778,
              "#fb9f3a"
             ],
             [
              0.8888888888888888,
              "#fdca26"
             ],
             [
              1,
              "#f0f921"
             ]
            ],
            "type": "histogram2dcontour"
           }
          ],
          "mesh3d": [
           {
            "colorbar": {
             "outlinewidth": 0,
             "ticks": ""
            },
            "type": "mesh3d"
           }
          ],
          "parcoords": [
           {
            "line": {
             "colorbar": {
              "outlinewidth": 0,
              "ticks": ""
             }
            },
            "type": "parcoords"
           }
          ],
          "pie": [
           {
            "automargin": true,
            "type": "pie"
           }
          ],
          "scatter": [
           {
            "marker": {
             "colorbar": {
              "outlinewidth": 0,
              "ticks": ""
             }
            },
            "type": "scatter"
           }
          ],
          "scatter3d": [
           {
            "line": {
             "colorbar": {
              "outlinewidth": 0,
              "ticks": ""
             }
            },
            "marker": {
             "colorbar": {
              "outlinewidth": 0,
              "ticks": ""
             }
            },
            "type": "scatter3d"
           }
          ],
          "scattercarpet": [
           {
            "marker": {
             "colorbar": {
              "outlinewidth": 0,
              "ticks": ""
             }
            },
            "type": "scattercarpet"
           }
          ],
          "scattergeo": [
           {
            "marker": {
             "colorbar": {
              "outlinewidth": 0,
              "ticks": ""
             }
            },
            "type": "scattergeo"
           }
          ],
          "scattergl": [
           {
            "marker": {
             "colorbar": {
              "outlinewidth": 0,
              "ticks": ""
             }
            },
            "type": "scattergl"
           }
          ],
          "scattermapbox": [
           {
            "marker": {
             "colorbar": {
              "outlinewidth": 0,
              "ticks": ""
             }
            },
            "type": "scattermapbox"
           }
          ],
          "scatterpolar": [
           {
            "marker": {
             "colorbar": {
              "outlinewidth": 0,
              "ticks": ""
             }
            },
            "type": "scatterpolar"
           }
          ],
          "scatterpolargl": [
           {
            "marker": {
             "colorbar": {
              "outlinewidth": 0,
              "ticks": ""
             }
            },
            "type": "scatterpolargl"
           }
          ],
          "scatterternary": [
           {
            "marker": {
             "colorbar": {
              "outlinewidth": 0,
              "ticks": ""
             }
            },
            "type": "scatterternary"
           }
          ],
          "surface": [
           {
            "colorbar": {
             "outlinewidth": 0,
             "ticks": ""
            },
            "colorscale": [
             [
              0,
              "#0d0887"
             ],
             [
              0.1111111111111111,
              "#46039f"
             ],
             [
              0.2222222222222222,
              "#7201a8"
             ],
             [
              0.3333333333333333,
              "#9c179e"
             ],
             [
              0.4444444444444444,
              "#bd3786"
             ],
             [
              0.5555555555555556,
              "#d8576b"
             ],
             [
              0.6666666666666666,
              "#ed7953"
             ],
             [
              0.7777777777777778,
              "#fb9f3a"
             ],
             [
              0.8888888888888888,
              "#fdca26"
             ],
             [
              1,
              "#f0f921"
             ]
            ],
            "type": "surface"
           }
          ],
          "table": [
           {
            "cells": {
             "fill": {
              "color": "#EBF0F8"
             },
             "line": {
              "color": "white"
             }
            },
            "header": {
             "fill": {
              "color": "#C8D4E3"
             },
             "line": {
              "color": "white"
             }
            },
            "type": "table"
           }
          ]
         },
         "layout": {
          "annotationdefaults": {
           "arrowcolor": "#2a3f5f",
           "arrowhead": 0,
           "arrowwidth": 1
          },
          "coloraxis": {
           "colorbar": {
            "outlinewidth": 0,
            "ticks": ""
           }
          },
          "colorscale": {
           "diverging": [
            [
             0,
             "#8e0152"
            ],
            [
             0.1,
             "#c51b7d"
            ],
            [
             0.2,
             "#de77ae"
            ],
            [
             0.3,
             "#f1b6da"
            ],
            [
             0.4,
             "#fde0ef"
            ],
            [
             0.5,
             "#f7f7f7"
            ],
            [
             0.6,
             "#e6f5d0"
            ],
            [
             0.7,
             "#b8e186"
            ],
            [
             0.8,
             "#7fbc41"
            ],
            [
             0.9,
             "#4d9221"
            ],
            [
             1,
             "#276419"
            ]
           ],
           "sequential": [
            [
             0,
             "#0d0887"
            ],
            [
             0.1111111111111111,
             "#46039f"
            ],
            [
             0.2222222222222222,
             "#7201a8"
            ],
            [
             0.3333333333333333,
             "#9c179e"
            ],
            [
             0.4444444444444444,
             "#bd3786"
            ],
            [
             0.5555555555555556,
             "#d8576b"
            ],
            [
             0.6666666666666666,
             "#ed7953"
            ],
            [
             0.7777777777777778,
             "#fb9f3a"
            ],
            [
             0.8888888888888888,
             "#fdca26"
            ],
            [
             1,
             "#f0f921"
            ]
           ],
           "sequentialminus": [
            [
             0,
             "#0d0887"
            ],
            [
             0.1111111111111111,
             "#46039f"
            ],
            [
             0.2222222222222222,
             "#7201a8"
            ],
            [
             0.3333333333333333,
             "#9c179e"
            ],
            [
             0.4444444444444444,
             "#bd3786"
            ],
            [
             0.5555555555555556,
             "#d8576b"
            ],
            [
             0.6666666666666666,
             "#ed7953"
            ],
            [
             0.7777777777777778,
             "#fb9f3a"
            ],
            [
             0.8888888888888888,
             "#fdca26"
            ],
            [
             1,
             "#f0f921"
            ]
           ]
          },
          "colorway": [
           "#636efa",
           "#EF553B",
           "#00cc96",
           "#ab63fa",
           "#FFA15A",
           "#19d3f3",
           "#FF6692",
           "#B6E880",
           "#FF97FF",
           "#FECB52"
          ],
          "font": {
           "color": "#2a3f5f"
          },
          "geo": {
           "bgcolor": "white",
           "lakecolor": "white",
           "landcolor": "#E5ECF6",
           "showlakes": true,
           "showland": true,
           "subunitcolor": "white"
          },
          "hoverlabel": {
           "align": "left"
          },
          "hovermode": "closest",
          "mapbox": {
           "style": "light"
          },
          "paper_bgcolor": "white",
          "plot_bgcolor": "#E5ECF6",
          "polar": {
           "angularaxis": {
            "gridcolor": "white",
            "linecolor": "white",
            "ticks": ""
           },
           "bgcolor": "#E5ECF6",
           "radialaxis": {
            "gridcolor": "white",
            "linecolor": "white",
            "ticks": ""
           }
          },
          "scene": {
           "xaxis": {
            "backgroundcolor": "#E5ECF6",
            "gridcolor": "white",
            "gridwidth": 2,
            "linecolor": "white",
            "showbackground": true,
            "ticks": "",
            "zerolinecolor": "white"
           },
           "yaxis": {
            "backgroundcolor": "#E5ECF6",
            "gridcolor": "white",
            "gridwidth": 2,
            "linecolor": "white",
            "showbackground": true,
            "ticks": "",
            "zerolinecolor": "white"
           },
           "zaxis": {
            "backgroundcolor": "#E5ECF6",
            "gridcolor": "white",
            "gridwidth": 2,
            "linecolor": "white",
            "showbackground": true,
            "ticks": "",
            "zerolinecolor": "white"
           }
          },
          "shapedefaults": {
           "line": {
            "color": "#2a3f5f"
           }
          },
          "ternary": {
           "aaxis": {
            "gridcolor": "white",
            "linecolor": "white",
            "ticks": ""
           },
           "baxis": {
            "gridcolor": "white",
            "linecolor": "white",
            "ticks": ""
           },
           "bgcolor": "#E5ECF6",
           "caxis": {
            "gridcolor": "white",
            "linecolor": "white",
            "ticks": ""
           }
          },
          "title": {
           "x": 0.05
          },
          "xaxis": {
           "automargin": true,
           "gridcolor": "white",
           "linecolor": "white",
           "ticks": "",
           "title": {
            "standoff": 15
           },
           "zerolinecolor": "white",
           "zerolinewidth": 2
          },
          "yaxis": {
           "automargin": true,
           "gridcolor": "white",
           "linecolor": "white",
           "ticks": "",
           "title": {
            "standoff": 15
           },
           "zerolinecolor": "white",
           "zerolinewidth": 2
          }
         }
        }
       }
      }
     },
     "metadata": {}
    }
   ],
   "source": [
    "import plotly.express as px\n",
    "import numpy as np\n",
    "\n",
    "fig = px.treemap(anime_df2, path=['anime'], values='nb_seen',\n",
    "                  color='straight_average', hover_data=['nb_seen', 'nb_votes'],\n",
    "                  color_continuous_scale='RdBu',\n",
    "                  color_continuous_midpoint=np.average(anime_df2['straight_average']))\n",
    "fig.show()\n",
    "fig.write_html('anime treemap.html', auto_open=True)\n"
   ]
  },
  {
   "cell_type": "code",
   "execution_count": 26,
   "metadata": {},
   "outputs": [],
   "source": [
    "manga_df2=manga_df"
   ]
  },
  {
   "cell_type": "code",
   "execution_count": 27,
   "metadata": {},
   "outputs": [],
   "source": [
    "manga_df2[\"nb_votes\"] = manga_df2.nb_votes.astype(float)\n",
    "manga_df2[\"nb_seen\"] = manga_df2.nb_seen.astype(float)\n",
    "manga_df2[\"straight_average\"] = manga_df2.straight_average.astype(float)"
   ]
  },
  {
   "cell_type": "code",
   "execution_count": 28,
   "metadata": {},
   "outputs": [
    {
     "output_type": "display_data",
     "data": {
      "application/vnd.plotly.v1+json": {
       "config": {
        "plotlyServerURL": "https://plot.ly"
       },
       "data": [
        {
         "branchvalues": "total",
         "customdata": [
          [
           983,
           594,
           8.749199867248535
          ],
          [
           1130,
           578,
           8.700699806213379
          ],
          [
           105,
           28,
           8.607099533081055
          ],
          [
           2320,
           1255,
           9.289199829101562
          ],
          [
           845,
           385,
           8.607799530029297
          ],
          [
           166,
           68,
           8.82349967956543
          ],
          [
           248,
           126,
           8.33329963684082
          ],
          [
           87,
           36,
           8.722200393676758
          ],
          [
           196,
           116,
           8.862099647521973
          ],
          [
           4956,
           2587,
           8.857000350952148
          ],
          [
           31,
           17,
           8.411800384521484
          ],
          [
           50,
           27,
           9
          ],
          [
           3735,
           1616,
           8.71660041809082
          ],
          [
           3514,
           1604,
           8.945799827575684
          ],
          [
           1344,
           671,
           8.782400131225586
          ],
          [
           894,
           426,
           8.650199890136719
          ],
          [
           146,
           36,
           8.527799606323242
          ],
          [
           144,
           68,
           8.941200256347656
          ],
          [
           409,
           172,
           8.953499794006348
          ],
          [
           44,
           30,
           8.566699981689453
          ],
          [
           98,
           54,
           8.703700065612793
          ],
          [
           18,
           8,
           8.875
          ],
          [
           21,
           11,
           8.272700309753418
          ],
          [
           58,
           35,
           8.857099533081055
          ],
          [
           341,
           142,
           8.901399612426758
          ],
          [
           170,
           87,
           8.540200233459473
          ],
          [
           112,
           34,
           8.882399559020996
          ],
          [
           1321,
           786,
           8.944000244140625
          ],
          [
           557,
           261,
           8.831399917602539
          ],
          [
           1063,
           630,
           9.176199913024902
          ],
          [
           120,
           80,
           8.649999618530273
          ],
          [
           172,
           69,
           8.420299530029297
          ],
          [
           483,
           305,
           8.822999954223633
          ],
          [
           130,
           60,
           9.01669979095459
          ],
          [
           2569,
           1242,
           8.7923002243042
          ],
          [
           502,
           239,
           8.682000160217285
          ],
          [
           137,
           83,
           8.674699783325195
          ],
          [
           11,
           6,
           9.33329963684082
          ],
          [
           182,
           113,
           8.761099815368652
          ],
          [
           1068,
           391,
           8.890000343322754
          ],
          [
           270,
           195,
           8.794899940490723
          ],
          [
           68,
           26,
           8.46150016784668
          ],
          [
           68,
           41,
           8.439000129699707
          ],
          [
           129,
           100,
           8.760000228881836
          ],
          [
           644,
           345,
           8.973899841308594
          ],
          [
           447,
           239,
           9.204999923706055
          ],
          [
           70,
           34,
           8.941200256347656
          ],
          [
           541,
           354,
           8.412400245666504
          ],
          [
           1560,
           758,
           8.887900352478027
          ],
          [
           99,
           42,
           8.714300155639648
          ]
         ],
         "domain": {
          "x": [
           0,
           1
          ],
          "y": [
           0,
           1
          ]
         },
         "hovertemplate": "labels=%{label}<br>nb_seen=%{customdata[0]}<br>parent=%{parent}<br>id=%{id}<br>nb_votes=%{customdata[1]}<br>straight_average=%{color}<extra></extra>",
         "ids": [
          "20th Century Boys (manga)",
          "Akira (manga)",
          "Ancient Magus' Bride (manga)",
          "Berserk (manga)",
          "Blade of the Immortal (manga)",
          "Bride's Story (manga)",
          "Buddha (manga)",
          "Children of the Sea (manga)",
          "Cross Game (manga)",
          "Death Note (manga)",
          "Drifting Life (manga)",
          "Erased (manga)",
          "Fruits Basket (manga)",
          "Fullmetal Alchemist (manga)",
          "GTO (manga)",
          "Genshiken (manga)",
          "Glass no Kamen (manga)",
          "Goodnight Punpun (manga)",
          "Hajime no Ippo (manga)",
          "Heart of Thomas (manga)",
          "Historie (manga)",
          "Kaguya-sama: Love is War (manga)",
          "Kanojo no Omoide... (manga)",
          "Kids on the Slope (manga)",
          "Lone Wolf and Cub (manga, Kazuo Koike)",
          "Message to Adolf (manga)",
          "Mobile Suit Gundam: The Origin (manga)",
          "Monster (manga)",
          "Mushishi (manga)",
          "Nausicaä of the Valley of the Wind (manga)",
          "Ode to Kirihito (manga)",
          "Phoenix (manga)",
          "Pluto (manga)",
          "REAL (manga)",
          "Rurouni Kenshin (manga)",
          "Saikano (manga)",
          "Sanctuary (manga by R. Ikegami)",
          "Showa: A History of Japan (manga)",
          "Silent Voice (manga)",
          "Skip Beat! (manga)",
          "Solanin (manga)",
          "Steel Ball Run (manga)",
          "Stigma (manga)",
          "Town of Evening Calm, Country of Cherry Blossoms (manga)",
          "Vagabond (manga)",
          "Vinland Saga (manga)",
          "With the Light: Raising an Autistic Child (manga)",
          "Yokohama Kaidashi Kikou (manga)",
          "Yotsuba&! (manga)",
          "Ōoku: The Inner Chambers (manga)"
         ],
         "labels": [
          "20th Century Boys (manga)",
          "Akira (manga)",
          "Ancient Magus' Bride (manga)",
          "Berserk (manga)",
          "Blade of the Immortal (manga)",
          "Bride's Story (manga)",
          "Buddha (manga)",
          "Children of the Sea (manga)",
          "Cross Game (manga)",
          "Death Note (manga)",
          "Drifting Life (manga)",
          "Erased (manga)",
          "Fruits Basket (manga)",
          "Fullmetal Alchemist (manga)",
          "GTO (manga)",
          "Genshiken (manga)",
          "Glass no Kamen (manga)",
          "Goodnight Punpun (manga)",
          "Hajime no Ippo (manga)",
          "Heart of Thomas (manga)",
          "Historie (manga)",
          "Kaguya-sama: Love is War (manga)",
          "Kanojo no Omoide... (manga)",
          "Kids on the Slope (manga)",
          "Lone Wolf and Cub (manga, Kazuo Koike)",
          "Message to Adolf (manga)",
          "Mobile Suit Gundam: The Origin (manga)",
          "Monster (manga)",
          "Mushishi (manga)",
          "Nausicaä of the Valley of the Wind (manga)",
          "Ode to Kirihito (manga)",
          "Phoenix (manga)",
          "Pluto (manga)",
          "REAL (manga)",
          "Rurouni Kenshin (manga)",
          "Saikano (manga)",
          "Sanctuary (manga by R. Ikegami)",
          "Showa: A History of Japan (manga)",
          "Silent Voice (manga)",
          "Skip Beat! (manga)",
          "Solanin (manga)",
          "Steel Ball Run (manga)",
          "Stigma (manga)",
          "Town of Evening Calm, Country of Cherry Blossoms (manga)",
          "Vagabond (manga)",
          "Vinland Saga (manga)",
          "With the Light: Raising an Autistic Child (manga)",
          "Yokohama Kaidashi Kikou (manga)",
          "Yotsuba&! (manga)",
          "Ōoku: The Inner Chambers (manga)"
         ],
         "marker": {
          "coloraxis": "coloraxis",
          "colors": [
           8.749199867248535,
           8.700699806213379,
           8.607099533081055,
           9.289199829101562,
           8.607799530029297,
           8.82349967956543,
           8.33329963684082,
           8.722200393676758,
           8.862099647521973,
           8.857000350952148,
           8.411800384521484,
           9,
           8.71660041809082,
           8.945799827575684,
           8.782400131225586,
           8.650199890136719,
           8.527799606323242,
           8.941200256347656,
           8.953499794006348,
           8.566699981689453,
           8.703700065612793,
           8.875,
           8.272700309753418,
           8.857099533081055,
           8.901399612426758,
           8.540200233459473,
           8.882399559020996,
           8.944000244140625,
           8.831399917602539,
           9.176199913024902,
           8.649999618530273,
           8.420299530029297,
           8.822999954223633,
           9.01669979095459,
           8.7923002243042,
           8.682000160217285,
           8.674699783325195,
           9.33329963684082,
           8.761099815368652,
           8.890000343322754,
           8.794899940490723,
           8.46150016784668,
           8.439000129699707,
           8.760000228881836,
           8.973899841308594,
           9.204999923706055,
           8.941200256347656,
           8.412400245666504,
           8.887900352478027,
           8.714300155639648
          ]
         },
         "name": "",
         "parents": [
          "",
          "",
          "",
          "",
          "",
          "",
          "",
          "",
          "",
          "",
          "",
          "",
          "",
          "",
          "",
          "",
          "",
          "",
          "",
          "",
          "",
          "",
          "",
          "",
          "",
          "",
          "",
          "",
          "",
          "",
          "",
          "",
          "",
          "",
          "",
          "",
          "",
          "",
          "",
          "",
          "",
          "",
          "",
          "",
          "",
          "",
          "",
          "",
          "",
          ""
         ],
         "type": "treemap",
         "values": [
          983,
          1130,
          105,
          2320,
          845,
          166,
          248,
          87,
          196,
          4956,
          31,
          50,
          3735,
          3514,
          1344,
          894,
          146,
          144,
          409,
          44,
          98,
          18,
          21,
          58,
          341,
          170,
          112,
          1321,
          557,
          1063,
          120,
          172,
          483,
          130,
          2569,
          502,
          137,
          11,
          182,
          1068,
          270,
          68,
          68,
          129,
          644,
          447,
          70,
          541,
          1560,
          99
         ]
        }
       ],
       "layout": {
        "coloraxis": {
         "cmid": 8.785649948120117,
         "colorbar": {
          "title": {
           "text": "straight_average"
          }
         },
         "colorscale": [
          [
           0,
           "rgb(103,0,31)"
          ],
          [
           0.1,
           "rgb(178,24,43)"
          ],
          [
           0.2,
           "rgb(214,96,77)"
          ],
          [
           0.3,
           "rgb(244,165,130)"
          ],
          [
           0.4,
           "rgb(253,219,199)"
          ],
          [
           0.5,
           "rgb(247,247,247)"
          ],
          [
           0.6,
           "rgb(209,229,240)"
          ],
          [
           0.7,
           "rgb(146,197,222)"
          ],
          [
           0.8,
           "rgb(67,147,195)"
          ],
          [
           0.9,
           "rgb(33,102,172)"
          ],
          [
           1,
           "rgb(5,48,97)"
          ]
         ]
        },
        "legend": {
         "tracegroupgap": 0
        },
        "margin": {
         "t": 60
        },
        "template": {
         "data": {
          "bar": [
           {
            "error_x": {
             "color": "#2a3f5f"
            },
            "error_y": {
             "color": "#2a3f5f"
            },
            "marker": {
             "line": {
              "color": "#E5ECF6",
              "width": 0.5
             }
            },
            "type": "bar"
           }
          ],
          "barpolar": [
           {
            "marker": {
             "line": {
              "color": "#E5ECF6",
              "width": 0.5
             }
            },
            "type": "barpolar"
           }
          ],
          "carpet": [
           {
            "aaxis": {
             "endlinecolor": "#2a3f5f",
             "gridcolor": "white",
             "linecolor": "white",
             "minorgridcolor": "white",
             "startlinecolor": "#2a3f5f"
            },
            "baxis": {
             "endlinecolor": "#2a3f5f",
             "gridcolor": "white",
             "linecolor": "white",
             "minorgridcolor": "white",
             "startlinecolor": "#2a3f5f"
            },
            "type": "carpet"
           }
          ],
          "choropleth": [
           {
            "colorbar": {
             "outlinewidth": 0,
             "ticks": ""
            },
            "type": "choropleth"
           }
          ],
          "contour": [
           {
            "colorbar": {
             "outlinewidth": 0,
             "ticks": ""
            },
            "colorscale": [
             [
              0,
              "#0d0887"
             ],
             [
              0.1111111111111111,
              "#46039f"
             ],
             [
              0.2222222222222222,
              "#7201a8"
             ],
             [
              0.3333333333333333,
              "#9c179e"
             ],
             [
              0.4444444444444444,
              "#bd3786"
             ],
             [
              0.5555555555555556,
              "#d8576b"
             ],
             [
              0.6666666666666666,
              "#ed7953"
             ],
             [
              0.7777777777777778,
              "#fb9f3a"
             ],
             [
              0.8888888888888888,
              "#fdca26"
             ],
             [
              1,
              "#f0f921"
             ]
            ],
            "type": "contour"
           }
          ],
          "contourcarpet": [
           {
            "colorbar": {
             "outlinewidth": 0,
             "ticks": ""
            },
            "type": "contourcarpet"
           }
          ],
          "heatmap": [
           {
            "colorbar": {
             "outlinewidth": 0,
             "ticks": ""
            },
            "colorscale": [
             [
              0,
              "#0d0887"
             ],
             [
              0.1111111111111111,
              "#46039f"
             ],
             [
              0.2222222222222222,
              "#7201a8"
             ],
             [
              0.3333333333333333,
              "#9c179e"
             ],
             [
              0.4444444444444444,
              "#bd3786"
             ],
             [
              0.5555555555555556,
              "#d8576b"
             ],
             [
              0.6666666666666666,
              "#ed7953"
             ],
             [
              0.7777777777777778,
              "#fb9f3a"
             ],
             [
              0.8888888888888888,
              "#fdca26"
             ],
             [
              1,
              "#f0f921"
             ]
            ],
            "type": "heatmap"
           }
          ],
          "heatmapgl": [
           {
            "colorbar": {
             "outlinewidth": 0,
             "ticks": ""
            },
            "colorscale": [
             [
              0,
              "#0d0887"
             ],
             [
              0.1111111111111111,
              "#46039f"
             ],
             [
              0.2222222222222222,
              "#7201a8"
             ],
             [
              0.3333333333333333,
              "#9c179e"
             ],
             [
              0.4444444444444444,
              "#bd3786"
             ],
             [
              0.5555555555555556,
              "#d8576b"
             ],
             [
              0.6666666666666666,
              "#ed7953"
             ],
             [
              0.7777777777777778,
              "#fb9f3a"
             ],
             [
              0.8888888888888888,
              "#fdca26"
             ],
             [
              1,
              "#f0f921"
             ]
            ],
            "type": "heatmapgl"
           }
          ],
          "histogram": [
           {
            "marker": {
             "colorbar": {
              "outlinewidth": 0,
              "ticks": ""
             }
            },
            "type": "histogram"
           }
          ],
          "histogram2d": [
           {
            "colorbar": {
             "outlinewidth": 0,
             "ticks": ""
            },
            "colorscale": [
             [
              0,
              "#0d0887"
             ],
             [
              0.1111111111111111,
              "#46039f"
             ],
             [
              0.2222222222222222,
              "#7201a8"
             ],
             [
              0.3333333333333333,
              "#9c179e"
             ],
             [
              0.4444444444444444,
              "#bd3786"
             ],
             [
              0.5555555555555556,
              "#d8576b"
             ],
             [
              0.6666666666666666,
              "#ed7953"
             ],
             [
              0.7777777777777778,
              "#fb9f3a"
             ],
             [
              0.8888888888888888,
              "#fdca26"
             ],
             [
              1,
              "#f0f921"
             ]
            ],
            "type": "histogram2d"
           }
          ],
          "histogram2dcontour": [
           {
            "colorbar": {
             "outlinewidth": 0,
             "ticks": ""
            },
            "colorscale": [
             [
              0,
              "#0d0887"
             ],
             [
              0.1111111111111111,
              "#46039f"
             ],
             [
              0.2222222222222222,
              "#7201a8"
             ],
             [
              0.3333333333333333,
              "#9c179e"
             ],
             [
              0.4444444444444444,
              "#bd3786"
             ],
             [
              0.5555555555555556,
              "#d8576b"
             ],
             [
              0.6666666666666666,
              "#ed7953"
             ],
             [
              0.7777777777777778,
              "#fb9f3a"
             ],
             [
              0.8888888888888888,
              "#fdca26"
             ],
             [
              1,
              "#f0f921"
             ]
            ],
            "type": "histogram2dcontour"
           }
          ],
          "mesh3d": [
           {
            "colorbar": {
             "outlinewidth": 0,
             "ticks": ""
            },
            "type": "mesh3d"
           }
          ],
          "parcoords": [
           {
            "line": {
             "colorbar": {
              "outlinewidth": 0,
              "ticks": ""
             }
            },
            "type": "parcoords"
           }
          ],
          "pie": [
           {
            "automargin": true,
            "type": "pie"
           }
          ],
          "scatter": [
           {
            "marker": {
             "colorbar": {
              "outlinewidth": 0,
              "ticks": ""
             }
            },
            "type": "scatter"
           }
          ],
          "scatter3d": [
           {
            "line": {
             "colorbar": {
              "outlinewidth": 0,
              "ticks": ""
             }
            },
            "marker": {
             "colorbar": {
              "outlinewidth": 0,
              "ticks": ""
             }
            },
            "type": "scatter3d"
           }
          ],
          "scattercarpet": [
           {
            "marker": {
             "colorbar": {
              "outlinewidth": 0,
              "ticks": ""
             }
            },
            "type": "scattercarpet"
           }
          ],
          "scattergeo": [
           {
            "marker": {
             "colorbar": {
              "outlinewidth": 0,
              "ticks": ""
             }
            },
            "type": "scattergeo"
           }
          ],
          "scattergl": [
           {
            "marker": {
             "colorbar": {
              "outlinewidth": 0,
              "ticks": ""
             }
            },
            "type": "scattergl"
           }
          ],
          "scattermapbox": [
           {
            "marker": {
             "colorbar": {
              "outlinewidth": 0,
              "ticks": ""
             }
            },
            "type": "scattermapbox"
           }
          ],
          "scatterpolar": [
           {
            "marker": {
             "colorbar": {
              "outlinewidth": 0,
              "ticks": ""
             }
            },
            "type": "scatterpolar"
           }
          ],
          "scatterpolargl": [
           {
            "marker": {
             "colorbar": {
              "outlinewidth": 0,
              "ticks": ""
             }
            },
            "type": "scatterpolargl"
           }
          ],
          "scatterternary": [
           {
            "marker": {
             "colorbar": {
              "outlinewidth": 0,
              "ticks": ""
             }
            },
            "type": "scatterternary"
           }
          ],
          "surface": [
           {
            "colorbar": {
             "outlinewidth": 0,
             "ticks": ""
            },
            "colorscale": [
             [
              0,
              "#0d0887"
             ],
             [
              0.1111111111111111,
              "#46039f"
             ],
             [
              0.2222222222222222,
              "#7201a8"
             ],
             [
              0.3333333333333333,
              "#9c179e"
             ],
             [
              0.4444444444444444,
              "#bd3786"
             ],
             [
              0.5555555555555556,
              "#d8576b"
             ],
             [
              0.6666666666666666,
              "#ed7953"
             ],
             [
              0.7777777777777778,
              "#fb9f3a"
             ],
             [
              0.8888888888888888,
              "#fdca26"
             ],
             [
              1,
              "#f0f921"
             ]
            ],
            "type": "surface"
           }
          ],
          "table": [
           {
            "cells": {
             "fill": {
              "color": "#EBF0F8"
             },
             "line": {
              "color": "white"
             }
            },
            "header": {
             "fill": {
              "color": "#C8D4E3"
             },
             "line": {
              "color": "white"
             }
            },
            "type": "table"
           }
          ]
         },
         "layout": {
          "annotationdefaults": {
           "arrowcolor": "#2a3f5f",
           "arrowhead": 0,
           "arrowwidth": 1
          },
          "coloraxis": {
           "colorbar": {
            "outlinewidth": 0,
            "ticks": ""
           }
          },
          "colorscale": {
           "diverging": [
            [
             0,
             "#8e0152"
            ],
            [
             0.1,
             "#c51b7d"
            ],
            [
             0.2,
             "#de77ae"
            ],
            [
             0.3,
             "#f1b6da"
            ],
            [
             0.4,
             "#fde0ef"
            ],
            [
             0.5,
             "#f7f7f7"
            ],
            [
             0.6,
             "#e6f5d0"
            ],
            [
             0.7,
             "#b8e186"
            ],
            [
             0.8,
             "#7fbc41"
            ],
            [
             0.9,
             "#4d9221"
            ],
            [
             1,
             "#276419"
            ]
           ],
           "sequential": [
            [
             0,
             "#0d0887"
            ],
            [
             0.1111111111111111,
             "#46039f"
            ],
            [
             0.2222222222222222,
             "#7201a8"
            ],
            [
             0.3333333333333333,
             "#9c179e"
            ],
            [
             0.4444444444444444,
             "#bd3786"
            ],
            [
             0.5555555555555556,
             "#d8576b"
            ],
            [
             0.6666666666666666,
             "#ed7953"
            ],
            [
             0.7777777777777778,
             "#fb9f3a"
            ],
            [
             0.8888888888888888,
             "#fdca26"
            ],
            [
             1,
             "#f0f921"
            ]
           ],
           "sequentialminus": [
            [
             0,
             "#0d0887"
            ],
            [
             0.1111111111111111,
             "#46039f"
            ],
            [
             0.2222222222222222,
             "#7201a8"
            ],
            [
             0.3333333333333333,
             "#9c179e"
            ],
            [
             0.4444444444444444,
             "#bd3786"
            ],
            [
             0.5555555555555556,
             "#d8576b"
            ],
            [
             0.6666666666666666,
             "#ed7953"
            ],
            [
             0.7777777777777778,
             "#fb9f3a"
            ],
            [
             0.8888888888888888,
             "#fdca26"
            ],
            [
             1,
             "#f0f921"
            ]
           ]
          },
          "colorway": [
           "#636efa",
           "#EF553B",
           "#00cc96",
           "#ab63fa",
           "#FFA15A",
           "#19d3f3",
           "#FF6692",
           "#B6E880",
           "#FF97FF",
           "#FECB52"
          ],
          "font": {
           "color": "#2a3f5f"
          },
          "geo": {
           "bgcolor": "white",
           "lakecolor": "white",
           "landcolor": "#E5ECF6",
           "showlakes": true,
           "showland": true,
           "subunitcolor": "white"
          },
          "hoverlabel": {
           "align": "left"
          },
          "hovermode": "closest",
          "mapbox": {
           "style": "light"
          },
          "paper_bgcolor": "white",
          "plot_bgcolor": "#E5ECF6",
          "polar": {
           "angularaxis": {
            "gridcolor": "white",
            "linecolor": "white",
            "ticks": ""
           },
           "bgcolor": "#E5ECF6",
           "radialaxis": {
            "gridcolor": "white",
            "linecolor": "white",
            "ticks": ""
           }
          },
          "scene": {
           "xaxis": {
            "backgroundcolor": "#E5ECF6",
            "gridcolor": "white",
            "gridwidth": 2,
            "linecolor": "white",
            "showbackground": true,
            "ticks": "",
            "zerolinecolor": "white"
           },
           "yaxis": {
            "backgroundcolor": "#E5ECF6",
            "gridcolor": "white",
            "gridwidth": 2,
            "linecolor": "white",
            "showbackground": true,
            "ticks": "",
            "zerolinecolor": "white"
           },
           "zaxis": {
            "backgroundcolor": "#E5ECF6",
            "gridcolor": "white",
            "gridwidth": 2,
            "linecolor": "white",
            "showbackground": true,
            "ticks": "",
            "zerolinecolor": "white"
           }
          },
          "shapedefaults": {
           "line": {
            "color": "#2a3f5f"
           }
          },
          "ternary": {
           "aaxis": {
            "gridcolor": "white",
            "linecolor": "white",
            "ticks": ""
           },
           "baxis": {
            "gridcolor": "white",
            "linecolor": "white",
            "ticks": ""
           },
           "bgcolor": "#E5ECF6",
           "caxis": {
            "gridcolor": "white",
            "linecolor": "white",
            "ticks": ""
           }
          },
          "title": {
           "x": 0.05
          },
          "xaxis": {
           "automargin": true,
           "gridcolor": "white",
           "linecolor": "white",
           "ticks": "",
           "title": {
            "standoff": 15
           },
           "zerolinecolor": "white",
           "zerolinewidth": 2
          },
          "yaxis": {
           "automargin": true,
           "gridcolor": "white",
           "linecolor": "white",
           "ticks": "",
           "title": {
            "standoff": 15
           },
           "zerolinecolor": "white",
           "zerolinewidth": 2
          }
         }
        }
       }
      }
     },
     "metadata": {}
    }
   ],
   "source": [
    "fig = px.treemap(manga_df2, path=['manga'], values='nb_seen',\n",
    "                  color='straight_average', hover_data=['nb_seen', 'nb_votes'],\n",
    "                  color_continuous_scale='RdBu',\n",
    "                  color_continuous_midpoint=np.average(anime_df2['straight_average']))\n",
    "fig.show()\n",
    "fig.write_html('manga treemap.html', auto_open=True)"
   ]
  },
  {
   "cell_type": "code",
   "execution_count": 41,
   "metadata": {
    "tags": []
   },
   "outputs": [
    {
     "output_type": "stream",
     "name": "stdout",
     "text": "There are 307131 words in the combination of all review.\n"
    },
    {
     "output_type": "display_data",
     "data": {
      "text/plain": "<Figure size 432x288 with 1 Axes>",
      "image/svg+xml": "<?xml version=\"1.0\" encoding=\"utf-8\" standalone=\"no\"?>\r\n<!DOCTYPE svg PUBLIC \"-//W3C//DTD SVG 1.1//EN\"\r\n  \"http://www.w3.org/Graphics/SVG/1.1/DTD/svg11.dtd\">\r\n<!-- Created with matplotlib (https://matplotlib.org/) -->\r\n<svg height=\"181.8pt\" version=\"1.1\" viewBox=\"0 0 349.2 181.8\" width=\"349.2pt\" xmlns=\"http://www.w3.org/2000/svg\" xmlns:xlink=\"http://www.w3.org/1999/xlink\">\r\n <defs>\r\n  <style type=\"text/css\">\r\n*{stroke-linecap:butt;stroke-linejoin:round;}\r\n  </style>\r\n </defs>\r\n <g id=\"figure_1\">\r\n  <g id=\"patch_1\">\r\n   <path d=\"M 0 181.8 \r\nL 349.2 181.8 \r\nL 349.2 0 \r\nL 0 0 \r\nz\r\n\" style=\"fill:none;\"/>\r\n  </g>\r\n  <g id=\"axes_1\">\r\n   <g clip-path=\"url(#pf8936bca6f)\">\r\n    <image height=\"168\" id=\"imagea6c5291e07\" transform=\"scale(1 -1)translate(0 -168)\" width=\"335\" x=\"7.2\" xlink:href=\"data:image/png;base64,\r\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\" y=\"-6.6\"/>\r\n   </g>\r\n  </g>\r\n </g>\r\n <defs>\r\n  <clipPath id=\"pf8936bca6f\">\r\n   <rect height=\"167.4\" width=\"334.8\" x=\"7.2\" y=\"7.2\"/>\r\n  </clipPath>\r\n </defs>\r\n</svg>\r\n",
      "image/png": "[encoded data removed]"
     },
     "metadata": {
      "needs_background": "light"
     }
    },
    {
     "output_type": "execute_result",
     "data": {
      "text/plain": "<wordcloud.wordcloud.WordCloud at 0x24526354048>"
     },
     "metadata": {},
     "execution_count": 41
    }
   ],
   "source": [
    "from os import path\n",
    "from PIL import Image\n",
    "from wordcloud import WordCloud, STOPWORDS, ImageColorGenerator\n",
    "\n",
    "text = \" \".join(review for review in data_df.genre)\n",
    "print (\"There are {} words in the combination of all review.\".format(len(text)))\n",
    "\n",
    "# Create and generate a word cloud image:\n",
    "wordcloud = WordCloud().generate(text)\n",
    "\n",
    "# Display the generated image:\n",
    "plt.imshow(wordcloud, interpolation='bilinear')\n",
    "plt.axis(\"off\")\n",
    "#fig= plt.figure(figsize=(100,100))\n",
    "#plt.savefig(\"Word_Cloud.png\", format=\"png\")\n",
    "plt.show()\n",
    "wordcloud.to_file(\"Word_Cloud.png\")\n",
    "\n"
   ]
  },
  {
   "cell_type": "code",
   "execution_count": 42,
   "metadata": {},
   "outputs": [
    {
     "output_type": "display_data",
     "data": {
      "text/plain": "<Figure size 432x288 with 1 Axes>",
      "image/svg+xml": "<?xml version=\"1.0\" encoding=\"utf-8\" standalone=\"no\"?>\r\n<!DOCTYPE svg PUBLIC \"-//W3C//DTD SVG 1.1//EN\"\r\n  \"http://www.w3.org/Graphics/SVG/1.1/DTD/svg11.dtd\">\r\n<!-- Created with matplotlib (https://matplotlib.org/) -->\r\n<svg height=\"181.8pt\" version=\"1.1\" viewBox=\"0 0 349.2 181.8\" width=\"349.2pt\" xmlns=\"http://www.w3.org/2000/svg\" xmlns:xlink=\"http://www.w3.org/1999/xlink\">\r\n <defs>\r\n  <style type=\"text/css\">\r\n*{stroke-linecap:butt;stroke-linejoin:round;}\r\n  </style>\r\n </defs>\r\n <g id=\"figure_1\">\r\n  <g id=\"patch_1\">\r\n   <path d=\"M 0 181.8 \r\nL 349.2 181.8 \r\nL 349.2 0 \r\nL 0 0 \r\nz\r\n\" style=\"fill:none;\"/>\r\n  </g>\r\n  <g id=\"axes_1\">\r\n   <g clip-path=\"url(#pe64d482a54)\">\r\n    <image height=\"168\" id=\"image831c8cb17c\" transform=\"scale(1 -1)translate(0 -168)\" width=\"335\" x=\"7.2\" xlink:href=\"data:image/png;base64,\r\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\" y=\"-6.6\"/>\r\n   </g>\r\n  </g>\r\n </g>\r\n <defs>\r\n  <clipPath id=\"pe64d482a54\">\r\n   <rect height=\"167.4\" width=\"334.8\" x=\"7.2\" y=\"7.2\"/>\r\n  </clipPath>\r\n </defs>\r\n</svg>\r\n",
      "image/png": "[encoded data removed]"
     },
     "metadata": {
      "needs_background": "light"
     }
    },
    {
     "output_type": "execute_result",
     "data": {
      "text/plain": "<wordcloud.wordcloud.WordCloud at 0x2452635ad48>"
     },
     "metadata": {},
     "execution_count": 42
    }
   ],
   "source": [
    "wordcloud = WordCloud(max_font_size=50, max_words=100, background_color=\"white\").generate(text)\n",
    "plt.figure()\n",
    "plt.imshow(wordcloud, interpolation=\"bilinear\")\n",
    "plt.axis(\"off\")\n",
    "plt.show()\n",
    "wordcloud.to_file(\"Word_Cloud2.png\")"
   ]
  },
  {
   "cell_type": "code",
   "execution_count": 31,
   "metadata": {},
   "outputs": [],
   "source": [
    "#ETL Challenge process background\n",
    "#1.\tI downloaded the top 50 anime and manga titles from animenewsnetwork\n",
    "#a.\t\"https://www.animenewsnetwork.com/encyclopedia/reports.xml?id=172\"\n",
    "#b.\t\"https://www.animenewsnetwork.com/encyclopedia/reports.xml?id=173\")\n",
    "#2.\tUsing the xml.etree.Elementree module I converted both XMLs to Dataframes\n",
    "#3.\tUsing panda df.merge, I outer merged both converted Dataframes into one list_df Dataframe\n",
    "#4.\tI then used dtypes to determine the type of each column\n",
    "#5.\tFor all columns which had numerical values I converted the columns from objects to float64 types\n",
    "#6.\tNext I moved the Manga name column from the end next to the Anime name column\n",
    "#7.\tFinally I sorted the final Dataframe by nb_seen first and straight_average second, to ensure that any potential outliers are not being used for the top anime and manga categories\n",
    "#8. I also made two plotly treemaps, one for anime and for manga, the treemap allows you to see the information for the top 50 animes and the top 50 mangas in order visually.  They were exported in html format to allow for them to be added to the webpage we created\n",
    "#9.  I created a wordcloud using the genre information within the .csv file to visually demostrate what genre's categories are the most popular (note: there are over 300k words used in the .csv document)\n"
   ]
  }
 ]
}
