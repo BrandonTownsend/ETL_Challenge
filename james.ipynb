{
 "metadata": {
  "language_info": {
   "codemirror_mode": {
    "name": "ipython",
    "version": 3
   },
   "file_extension": ".py",
   "mimetype": "text/x-python",
   "name": "python",
   "nbconvert_exporter": "python",
   "pygments_lexer": "ipython3",
   "version": "3.7.6-final"
  },
  "orig_nbformat": 2,
  "kernelspec": {
   "name": "python37564bit2c7114826dda4ed9a3e681c943ac3860",
   "display_name": "Python 3.7.5 64-bit"
  }
 },
 "nbformat": 4,
 "nbformat_minor": 2,
 "cells": [
  {
   "cell_type": "code",
   "execution_count": 1,
   "metadata": {},
   "outputs": [],
   "source": [
    "from mpl_toolkits.mplot3d import Axes3D\n",
    "from sklearn.preprocessing import StandardScaler\n",
    "import matplotlib.pyplot as plt\n",
    "import numpy as np\n",
    "import os \n",
    "import pandas as pd \n",
    "from xml.dom import minidom\n"
   ]
  },
  {
   "cell_type": "code",
   "execution_count": 2,
   "metadata": {
    "tags": []
   },
   "outputs": [
    {
     "output_type": "stream",
     "name": "stdout",
     "text": "b'<report skipped=\"0\" listed=\"50\">\\n<item id=\"10216\"><anime href=\"/encyclopedia/anime.php?id=10216\">Fullmetal Alchemist: Brotherhood (TV)</anime><nb_votes>5817</nb_votes><nb_seen>10861</nb_seen><straight_average>9.106200218200684</straight_average><weighted_average>9.09529972076416</weighted_average><bayesian_average>9.092020988464355</bayesian_average></item>\\n<item id=\"18171\"><anime href=\"/encyclopedia/anime.php?id=18171\">your name. (movie)</anime><nb_votes>1101</nb_votes><nb_seen>1482</nb_seen><straight_average>9.104499816894531</straight_average><weighted_average>9.0871000289917</weighted_average><bayesian_average>9.070018768310547</bayesian_average></item>\\n<item id=\"11770\"><anime href=\"/encyclopedia/anime.php?id=11770\">Steins;Gate (TV)</anime><nb_votes>4656</nb_votes><nb_seen>6812</nb_seen><straight_average>9.138099670410156</straight_average><weighted_average>9.059100151062012</weighted_average><bayesian_average>9.055099487304688</bayesian_average></item>\\n<item id=\"9701\"><anime href=\"/encyclopedia/anime.php?id=9701\">Clannad After Story (TV)</anime><nb_votes>5180</nb_votes><nb_seen>8361</nb_seen><straight_average>8.951000213623047</straight_average><weighted_average>9.055299758911133</weighted_average><bayesian_average>9.051711082458496</bayesian_average></item>\\n<item id=\"210\"><anime href=\"/encyclopedia/anime.php?id=210\">Rurouni Kenshin: Trust &amp; Betrayal (OAV)</anime><nb_votes>6649</nb_votes><nb_seen>10385</nb_seen><straight_average>8.923399925231934</straight_average><weighted_average>8.972299575805664</weighted_average><bayesian_average>8.96965217590332</bayesian_average></item>\\n<item id=\"9173\"><anime href=\"/encyclopedia/anime.php?id=9173\">Code Geass: Lelouch of the Rebellion R2 (TV)</anime><nb_votes>7870</nb_votes><nb_seen>12553</nb_seen><straight_average>9.01990032196045</straight_average><weighted_average>8.93179988861084</weighted_average><bayesian_average>8.929624557495117</bayesian_average></item>\\n<item id=\"377\"><anime href=\"/encyclopedia/anime.php?id=377\">Spirited Away (movie)</anime><nb_votes>10547</nb_votes><nb_seen>15398</nb_seen><straight_average>8.969799995422363</straight_average><weighted_average>8.926400184631348</weighted_average><bayesian_average>8.924782752990723</bayesian_average></item>\\n<item id=\"15895\"><anime href=\"/encyclopedia/anime.php?id=15895\">Mushishi: The Next Chapter (TV)</anime><nb_votes>512</nb_votes><nb_seen>848</nb_seen><straight_average>8.824199676513672</straight_average><weighted_average>8.933699607849121</weighted_average><bayesian_average>8.900931358337402</bayesian_average></item>\\n<item id=\"13\"><anime href=\"/encyclopedia/anime.php?id=13\">Cowboy Bebop (TV)</anime><nb_votes>12244</nb_votes><nb_seen>21028</nb_seen><straight_average>8.932900428771973</straight_average><weighted_average>8.89490032196045</weighted_average><bayesian_average>8.893537521362305</bayesian_average></item>\\n<item id=\"197\"><anime href=\"/encyclopedia/anime.php?id=197\">Princess Mononoke (movie)</anime><nb_votes>9835</nb_votes><nb_seen>15402</nb_seen><straight_average>8.928099632263184</straight_average><weighted_average>8.864999771118164</weighted_average><bayesian_average>8.8633394241333</bayesian_average></item>\\n<item id=\"16661\"><anime href=\"/encyclopedia/anime.php?id=16661\">Silent Voice (movie)</anime><nb_votes>560</nb_votes><nb_seen>765</nb_seen><straight_average>8.857099533081055</straight_average><weighted_average>8.888899803161621</weighted_average><bayesian_average>8.859820365905762</bayesian_average></item>\\n<item id=\"11120\"><anime href=\"/encyclopedia/anime.php?id=11120\">Disappearance of Haruhi Suzumiya (movie)</anime><nb_votes>2792</nb_votes><nb_seen>4029</nb_seen><straight_average>8.868599891662598</straight_average><weighted_average>8.861700057983398</weighted_average><bayesian_average>8.855884552001953</bayesian_average></item>\\n<item id=\"1786\"><anime href=\"/encyclopedia/anime.php?id=1786\">Legend of the Galactic Heroes (OAV)</anime><nb_votes>726</nb_votes><nb_seen>1141</nb_seen><straight_average>8.785099983215332</straight_average><weighted_average>8.834799766540527</weighted_average><bayesian_average>8.813140869140625</bayesian_average></item>\\n<item id=\"5923\"><anime href=\"/encyclopedia/anime.php?id=5923\">Mushi-Shi (TV)</anime><nb_votes>4995</nb_votes><nb_seen>8163</nb_seen><straight_average>8.803199768066406</straight_average><weighted_average>8.79259967803955</weighted_average><bayesian_average>8.789508819580078</bayesian_average></item>\\n<item id=\"6592\"><anime href=\"/encyclopedia/anime.php?id=6592\">Death Note (TV)</anime><nb_votes>12912</nb_votes><nb_seen>22218</nb_seen><straight_average>8.863200187683105</straight_average><weighted_average>8.781299591064453</weighted_average><bayesian_average>8.780112266540527</bayesian_average></item>\\n<item id=\"18952\"><anime href=\"/encyclopedia/anime.php?id=18952\">Made in Abyss (TV)</anime><nb_votes>644</nb_votes><nb_seen>883</nb_seen><straight_average>8.807499885559082</straight_average><weighted_average>8.79539966583252</weighted_average><bayesian_average>8.771754264831543</bayesian_average></item>\\n<item id=\"6113\"><anime href=\"/encyclopedia/anime.php?id=6113\">Maria Watches Over Us 3rd Season (OAV)</anime><nb_votes>726</nb_votes><nb_seen>1044</nb_seen><straight_average>8.7947998046875</straight_average><weighted_average>8.790200233459473</weighted_average><bayesian_average>8.769267082214355</bayesian_average></item>\\n<item id=\"4175\"><anime href=\"/encyclopedia/anime.php?id=4175\">Maria Watches Over Us Season 2: Printemps (TV)</anime><nb_votes>1343</nb_votes><nb_seen>1820</nb_seen><straight_average>8.829500198364258</straight_average><weighted_average>8.760100364685059</weighted_average><bayesian_average>8.7489652633667</bayesian_average></item>\\n<item id=\"6704\"><anime href=\"/encyclopedia/anime.php?id=6704\">Code Geass: Lelouch of the Rebellion (TV)</anime><nb_votes>9183</nb_votes><nb_seen>15214</nb_seen><straight_average>8.854299545288086</straight_average><weighted_average>8.74120044708252</weighted_average><bayesian_average>8.739583969116211</bayesian_average></item>\\n<item id=\"18888\"><anime href=\"/encyclopedia/anime.php?id=18888\">Descending Stories: Showa Genroku Rakugo Shinju (TV)</anime><nb_votes>182</nb_votes><nb_seen>260</nb_seen><straight_average>8.818699836730957</straight_average><weighted_average>8.812000274658203</weighted_average><bayesian_average>8.731019020080566</bayesian_average></item>\\n<item id=\"12398\"><anime href=\"/encyclopedia/anime.php?id=12398\">Bunny Drop (TV)</anime><nb_votes>1801</nb_votes><nb_seen>2667</nb_seen><straight_average>8.789600372314453</straight_average><weighted_average>8.729399681091309</weighted_average><bayesian_average>8.721281051635742</bayesian_average></item>\\n<item id=\"12368\"><anime href=\"/encyclopedia/anime.php?id=12368\">anohana: The Flower We Saw That Day (TV)</anime><nb_votes>3237</nb_votes><nb_seen>4879</nb_seen><straight_average>8.785900115966797</straight_average><weighted_average>8.724900245666504</weighted_average><bayesian_average>8.720386505126953</bayesian_average></item>\\n<item id=\"9210\"><anime href=\"/encyclopedia/anime.php?id=9210\">Maria Watches Over Us 4th Season (TV)</anime><nb_votes>511</nb_votes><nb_seen>722</nb_seen><straight_average>8.747599601745605</straight_average><weighted_average>8.748600006103516</weighted_average><bayesian_average>8.720015525817871</bayesian_average></item>\\n<item id=\"16644\"><anime href=\"/encyclopedia/anime.php?id=16644\">Gintama (TV 4/2015)</anime><nb_votes>151</nb_votes><nb_seen>291</nb_seen><straight_average>8.768199920654297</straight_average><weighted_average>8.811800003051758</weighted_average><bayesian_average>8.715432167053223</bayesian_average></item>\\n<item id=\"3750\"><anime href=\"/encyclopedia/anime.php?id=3750\">Monster (TV)</anime><nb_votes>3472</nb_votes><nb_seen>5782</nb_seen><straight_average>8.76669979095459</straight_average><weighted_average>8.715999603271484</weighted_average><bayesian_average>8.711820602416992</bayesian_average></item>\\n<item id=\"8421\"><anime href=\"/encyclopedia/anime.php?id=8421\">Evangelion: 2.0 You Can (Not) Advance (movie)</anime><nb_votes>2090</nb_votes><nb_seen>3359</nb_seen><straight_average>8.775099754333496</straight_average><weighted_average>8.714599609375</weighted_average><bayesian_average>8.707681655883789</bayesian_average></item>\\n<item id=\"12835\"><anime href=\"/encyclopedia/anime.php?id=12835\">Gintama\\' (TV 2/2011)</anime><nb_votes>432</nb_votes><nb_seen>888</nb_seen><straight_average>8.740699768066406</straight_average><weighted_average>8.739999771118164</weighted_average><bayesian_average>8.706562042236328</bayesian_average></item>\\n<item id=\"15223\"><anime href=\"/encyclopedia/anime.php?id=15223\">Gintama\\' (TV 3/2012)</anime><nb_votes>263</nb_votes><nb_seen>483</nb_seen><straight_average>8.543700218200684</straight_average><weighted_average>8.738800048828125</weighted_average><bayesian_average>8.684865951538086</bayesian_average></item>\\n<item id=\"8495\"><anime href=\"/encyclopedia/anime.php?id=8495\">Ghost in the Shell: Stand Alone Complex 2nd GIG (TV)</anime><nb_votes>2598</nb_votes><nb_seen>4893</nb_seen><straight_average>8.749799728393555</straight_average><weighted_average>8.675299644470215</weighted_average><bayesian_average>8.66990852355957</bayesian_average></item>\\n<item id=\"152\"><anime href=\"/encyclopedia/anime.php?id=152\">Grave of the Fireflies (movie)</anime><nb_votes>4593</nb_votes><nb_seen>6925</nb_seen><straight_average>8.707799911499023</straight_average><weighted_average>8.671600341796875</weighted_average><bayesian_average>8.668554306030273</bayesian_average></item>\\n<item id=\"10580\"><anime href=\"/encyclopedia/anime.php?id=10580\">Cross Game (TV)</anime><nb_votes>688</nb_votes><nb_seen>1060</nb_seen><straight_average>8.780500411987305</straight_average><weighted_average>8.676400184631348</weighted_average><bayesian_average>8.656281471252441</bayesian_average></item>\\n<item id=\"1139\"><anime href=\"/encyclopedia/anime.php?id=1139\">Fighting Spirit (TV)</anime><nb_votes>1628</nb_votes><nb_seen>2824</nb_seen><straight_average>8.746299743652344</straight_average><weighted_average>8.664299964904785</weighted_average><bayesian_average>8.655800819396973</bayesian_average></item>\\n<item id=\"2960\"><anime href=\"/encyclopedia/anime.php?id=2960\">Fullmetal Alchemist (TV)</anime><nb_votes>13436</nb_votes><nb_seen>23627</nb_seen><straight_average>8.728899955749512</straight_average><weighted_average>8.649900436401367</weighted_average><bayesian_average>8.648877143859863</bayesian_average></item>\\n<item id=\"10544\"><anime href=\"/encyclopedia/anime.php?id=10544\">Summer Wars (movie)</anime><nb_votes>3400</nb_votes><nb_seen>4573</nb_seen><straight_average>8.743800163269043</straight_average><weighted_average>8.652299880981445</weighted_average><bayesian_average>8.6482572555542</bayesian_average></item>\\n<item id=\"180\"><anime href=\"/encyclopedia/anime.php?id=180\">Nausica\\xc3\\xa4 of the Valley of the Wind (movie)</anime><nb_votes>5066</nb_votes><nb_seen>7898</nb_seen><straight_average>8.678999900817871</straight_average><weighted_average>8.639800071716309</weighted_average><bayesian_average>8.637113571166992</bayesian_average></item>\\n<item id=\"7010\"><anime href=\"/encyclopedia/anime.php?id=7010\">Nodame Cantabile (TV)</anime><nb_votes>2772</nb_votes><nb_seen>4331</nb_seen><straight_average>8.666299819946289</straight_average><weighted_average>8.641599655151367</weighted_average><bayesian_average>8.636691093444824</bayesian_average></item>\\n<item id=\"6733\"><anime href=\"/encyclopedia/anime.php?id=6733\">Girl Who Leapt Through Time (movie)</anime><nb_votes>5537</nb_votes><nb_seen>7766</nb_seen><straight_average>8.671099662780762</straight_average><weighted_average>8.637100219726562</weighted_average><bayesian_average>8.634647369384766</bayesian_average></item>\\n<item id=\"6696\"><anime href=\"/encyclopedia/anime.php?id=6696\">5 Centimeters Per Second (movie)</anime><nb_votes>5777</nb_votes><nb_seen>8203</nb_seen><straight_average>8.693099975585938</straight_average><weighted_average>8.624199867248535</weighted_average><bayesian_average>8.621875762939453</bayesian_average></item>\\n<item id=\"6698\"><anime href=\"/encyclopedia/anime.php?id=6698\">Gurren Lagann (TV)</anime><nb_votes>6976</nb_votes><nb_seen>11423</nb_seen><straight_average>8.735199928283691</straight_average><weighted_average>8.619600296020508</weighted_average><bayesian_average>8.617682456970215</bayesian_average></item>\\n<item id=\"13262\"><anime href=\"/encyclopedia/anime.php?id=13262\">Hunter \\xc3\\x97 Hunter (TV 2011)</anime><nb_votes>1043</nb_votes><nb_seen>1999</nb_seen><straight_average>8.69890022277832</straight_average><weighted_average>8.622900009155273</weighted_average><bayesian_average>8.610159873962402</bayesian_average></item>\\n<item id=\"7472\"><anime href=\"/encyclopedia/anime.php?id=7472\">Garden of Sinners (movie series)</anime><nb_votes>1702</nb_votes><nb_seen>2700</nb_seen><straight_average>8.7121000289917</straight_average><weighted_average>8.616600036621094</weighted_average><bayesian_average>8.60880184173584</bayesian_average></item>\\n<item id=\"13862\"><anime href=\"/encyclopedia/anime.php?id=13862\">Wolf Children (movie)</anime><nb_votes>1159</nb_votes><nb_seen>1631</nb_seen><straight_average>8.65310001373291</straight_average><weighted_average>8.613100051879883</weighted_average><bayesian_average>8.60172176361084</bayesian_average></item>\\n<item id=\"534\"><anime href=\"/encyclopedia/anime.php?id=534\">My Neighbor Totoro (movie)</anime><nb_votes>4686</nb_votes><nb_seen>7403</nb_seen><straight_average>8.653200149536133</straight_average><weighted_average>8.599699974060059</weighted_average><bayesian_average>8.596898078918457</bayesian_average></item>\\n<item id=\"7492\"><anime href=\"/encyclopedia/anime.php?id=7492\">Baccano! (TV)</anime><nb_votes>4198</nb_votes><nb_seen>6991</nb_seen><straight_average>8.673399925231934</straight_average><weighted_average>8.59119987487793</weighted_average><bayesian_average>8.58809757232666</bayesian_average></item>\\n<item id=\"14996\"><anime href=\"/encyclopedia/anime.php?id=14996\">Gintama: The Final Movie (movie)</anime><nb_votes>166</nb_votes><nb_seen>257</nb_seen><straight_average>8.710800170898438</straight_average><weighted_average>8.653900146484375</weighted_average><bayesian_average>8.576297760009766</bayesian_average></item>\\n<item id=\"6440\"><anime href=\"/encyclopedia/anime.php?id=6440\">Honey and Clover II (TV)</anime><nb_votes>2054</nb_votes><nb_seen>3089</nb_seen><straight_average>8.569100379943848</straight_average><weighted_average>8.580699920654297</weighted_average><bayesian_average>8.57443904876709</bayesian_average></item>\\n<item id=\"21812\"><anime href=\"/encyclopedia/anime.php?id=21812\">Attack on Titan (TV 4/2019)</anime><nb_votes>279</nb_votes><nb_seen>626</nb_seen><straight_average>8.677399635314941</straight_average><weighted_average>8.618800163269043</weighted_average><bayesian_average>8.572779655456543</bayesian_average></item>\\n<item id=\"13600\"><anime href=\"/encyclopedia/anime.php?id=13600\">Natsume\\'s Book of Friends (TV 4)</anime><nb_votes>579</nb_votes><nb_seen>1005</nb_seen><straight_average>8.644200325012207</straight_average><weighted_average>8.590100288391113</weighted_average><bayesian_average>8.568022727966309</bayesian_average></item>\\n<item id=\"10387\"><anime href=\"/encyclopedia/anime.php?id=10387\">Hajime no Ippo: New Challenger (TV)</anime><nb_votes>715</nb_votes><nb_seen>1206</nb_seen><straight_average>8.630800247192383</straight_average><weighted_average>8.576899528503418</weighted_average><bayesian_average>8.55916976928711</bayesian_average></item>\\n<item id=\"6431\"><anime href=\"/encyclopedia/anime.php?id=6431\">Kanon (TV 2/2006)</anime><nb_votes>3643</nb_votes><nb_seen>5693</nb_seen><straight_average>8.641799926757812</straight_average><weighted_average>8.559900283813477</weighted_average><bayesian_average>8.556429862976074</bayesian_average></item></report>'\n"
    }
   ],
   "source": [
    "from lxml import html, etree\n",
    "import requests\n",
    "anime_page = requests.get(\"https://www.animenewsnetwork.com/encyclopedia/reports.xml?id=172\")\n",
    "print(anime_page.content)\n"
   ]
  },
  {
   "cell_type": "code",
   "execution_count": 3,
   "metadata": {
    "tags": []
   },
   "outputs": [
    {
     "output_type": "stream",
     "name": "stdout",
     "text": "b'<report skipped=\"0\" listed=\"50\">\\n<item id=\"2298\"><manga href=\"/encyclopedia/manga.php?id=2298\">Berserk (manga)</manga><nb_votes>1255</nb_votes><nb_seen>2320</nb_seen><straight_average>9.289199829101562</straight_average><weighted_average>9.250699996948242</weighted_average><bayesian_average>9.245918273925781</bayesian_average></item>\\n<item id=\"1511\"><manga href=\"/encyclopedia/manga.php?id=1511\">Monster (manga)</manga><nb_votes>786</nb_votes><nb_seen>1321</nb_seen><straight_average>8.944000244140625</straight_average><weighted_average>9.217900276184082</weighted_average><bayesian_average>9.210445404052734</bayesian_average></item>\\n<item id=\"1264\"><manga href=\"/encyclopedia/manga.php?id=1264\">Nausica\\xc3\\xa4 of the Valley of the Wind (manga)</manga><nb_votes>630</nb_votes><nb_seen>1063</nb_seen><straight_average>9.176199913024902</straight_average><weighted_average>9.211299896240234</weighted_average><bayesian_average>9.202052116394043</bayesian_average></item>\\n<item id=\"6121\"><manga href=\"/encyclopedia/manga.php?id=6121\">Vinland Saga (manga)</manga><nb_votes>239</nb_votes><nb_seen>447</nb_seen><straight_average>9.204999923706055</straight_average><weighted_average>9.17770004272461</weighted_average><bayesian_average>9.154126167297363</bayesian_average></item>\\n<item id=\"3605\"><manga href=\"/encyclopedia/manga.php?id=3605\">Yokohama Kaidashi Kikou (manga)</manga><nb_votes>354</nb_votes><nb_seen>541</nb_seen><straight_average>8.412400245666504</straight_average><weighted_average>9.080599784851074</weighted_average><bayesian_average>9.065683364868164</bayesian_average></item>\\n<item id=\"3424\"><manga href=\"/encyclopedia/manga.php?id=3424\">20th Century Boys (manga)</manga><nb_votes>594</nb_votes><nb_seen>983</nb_seen><straight_average>8.749199867248535</straight_average><weighted_average>9.01669979095459</weighted_average><bayesian_average>9.008197784423828</bayesian_average></item>\\n<item id=\"2565\"><manga href=\"/encyclopedia/manga.php?id=2565\">Fullmetal Alchemist (manga)</manga><nb_votes>1604</nb_votes><nb_seen>3514</nb_seen><straight_average>8.945799827575684</straight_average><weighted_average>8.975000381469727</weighted_average><bayesian_average>8.971941947937012</bayesian_average></item>\\n<item id=\"11\"><manga href=\"/encyclopedia/manga.php?id=11\">Akira (manga)</manga><nb_votes>578</nb_votes><nb_seen>1130</nb_seen><straight_average>8.700699806213379</straight_average><weighted_average>8.934300422668457</weighted_average><bayesian_average>8.926130294799805</bayesian_average></item>\\n<item id=\"2966\"><manga href=\"/encyclopedia/manga.php?id=2966\">Yotsuba&amp;! (manga)</manga><nb_votes>758</nb_votes><nb_seen>1560</nb_seen><straight_average>8.887900352478027</straight_average><weighted_average>8.920900344848633</weighted_average><bayesian_average>8.9147310256958</bayesian_average></item>\\n<item id=\"1595\"><manga href=\"/encyclopedia/manga.php?id=1595\">Vagabond (manga)</manga><nb_votes>345</nb_votes><nb_seen>644</nb_seen><straight_average>8.973899841308594</straight_average><weighted_average>8.877099990844727</weighted_average><bayesian_average>8.864131927490234</bayesian_average></item>\\n<item id=\"1557\"><manga href=\"/encyclopedia/manga.php?id=1557\">GTO (manga)</manga><nb_votes>671</nb_votes><nb_seen>1344</nb_seen><straight_average>8.782400131225586</straight_average><weighted_average>8.85420036315918</weighted_average><bayesian_average>8.847630500793457</bayesian_average></item>\\n<item id=\"4354\"><manga href=\"/encyclopedia/manga.php?id=4354\">Death Note (manga)</manga><nb_votes>2587</nb_votes><nb_seen>4956</nb_seen><straight_average>8.857000350952148</straight_average><weighted_average>8.839699745178223</weighted_average><bayesian_average>8.838010787963867</bayesian_average></item>\\n<item id=\"9205\"><manga href=\"/encyclopedia/manga.php?id=9205\">Goodnight Punpun (manga)</manga><nb_votes>68</nb_votes><nb_seen>144</nb_seen><straight_average>8.941200256347656</straight_average><weighted_average>8.899399757385254</weighted_average><bayesian_average>8.835299491882324</bayesian_average></item>\\n<item id=\"3871\"><manga href=\"/encyclopedia/manga.php?id=3871\">Pluto (manga)</manga><nb_votes>305</nb_votes><nb_seen>483</nb_seen><straight_average>8.822999954223633</straight_average><weighted_average>8.835800170898438</weighted_average><bayesian_average>8.821687698364258</bayesian_average></item>\\n<item id=\"3069\"><manga href=\"/encyclopedia/manga.php?id=3069\">Hajime no Ippo (manga)</manga><nb_votes>172</nb_votes><nb_seen>409</nb_seen><straight_average>8.953499794006348</straight_average><weighted_average>8.846400260925293</weighted_average><bayesian_average>8.821382522583008</bayesian_average></item>\\n<item id=\"4779\"><manga href=\"/encyclopedia/manga.php?id=4779\">Mushishi (manga)</manga><nb_votes>261</nb_votes><nb_seen>557</nb_seen><straight_average>8.831399917602539</straight_average><weighted_average>8.816300392150879</weighted_average><bayesian_average>8.800138473510742</bayesian_average></item>\\n<item id=\"6040\"><manga href=\"/encyclopedia/manga.php?id=6040\">Cross Game (manga)</manga><nb_votes>116</nb_votes><nb_seen>196</nb_seen><straight_average>8.862099647521973</straight_average><weighted_average>8.82610034942627</weighted_average><bayesian_average>8.790083885192871</bayesian_average></item>\\n<item id=\"20344\"><manga href=\"/encyclopedia/manga.php?id=20344\">Kaguya-sama: Love is War (manga)</manga><nb_votes>8</nb_votes><nb_seen>18</nb_seen><straight_average>8.875</straight_average><weighted_average>9.309499740600586</weighted_average><bayesian_average>8.788199424743652</bayesian_average></item>\\n<item id=\"417\"><manga href=\"/encyclopedia/manga.php?id=417\">Phoenix (manga)</manga><nb_votes>69</nb_votes><nb_seen>172</nb_seen><straight_average>8.420299530029297</straight_average><weighted_average>8.835200309753418</weighted_average><bayesian_average>8.775496482849121</bayesian_average></item>\\n<item id=\"5160\"><manga href=\"/encyclopedia/manga.php?id=5160\">REAL (manga)</manga><nb_votes>60</nb_votes><nb_seen>130</nb_seen><straight_average>9.01669979095459</straight_average><weighted_average>8.836999893188477</weighted_average><bayesian_average>8.768787384033203</bayesian_average></item>\\n<item id=\"8751\"><manga href=\"/encyclopedia/manga.php?id=8751\">With the Light: Raising an Autistic Child (manga)</manga><nb_votes>34</nb_votes><nb_seen>70</nb_seen><straight_average>8.941200256347656</straight_average><weighted_average>8.876999855041504</weighted_average><bayesian_average>8.757905006408691</bayesian_average></item>\\n<item id=\"17218\"><manga href=\"/encyclopedia/manga.php?id=17218\">Erased (manga)</manga><nb_votes>27</nb_votes><nb_seen>50</nb_seen><straight_average>9</straight_average><weighted_average>8.90719985961914</weighted_average><bayesian_average>8.757315635681152</bayesian_average></item>\\n<item id=\"1863\"><manga href=\"/encyclopedia/manga.php?id=1863\">Skip Beat! (manga)</manga><nb_votes>391</nb_votes><nb_seen>1068</nb_seen><straight_average>8.890000343322754</straight_average><weighted_average>8.76509952545166</weighted_average><bayesian_average>8.754775047302246</bayesian_average></item>\\n<item id=\"1329\"><manga href=\"/encyclopedia/manga.php?id=1329\">Lone Wolf and Cub (manga, Kazuo Koike)</manga><nb_votes>142</nb_votes><nb_seen>341</nb_seen><straight_average>8.901399612426758</straight_average><weighted_average>8.780099868774414</weighted_average><bayesian_average>8.751757621765137</bayesian_average></item>\\n<item id=\"2335\"><manga href=\"/encyclopedia/manga.php?id=2335\">Fruits Basket (manga)</manga><nb_votes>1616</nb_votes><nb_seen>3735</nb_seen><straight_average>8.71660041809082</straight_average><weighted_average>8.751099586486816</weighted_average><bayesian_average>8.748617172241211</bayesian_average></item>\\n<item id=\"1628\"><manga href=\"/encyclopedia/manga.php?id=1628\">Mobile Suit Gundam: The Origin (manga)</manga><nb_votes>34</nb_votes><nb_seen>112</nb_seen><straight_average>8.882399559020996</straight_average><weighted_average>8.863800048828125</weighted_average><bayesian_average>8.746094703674316</bayesian_average></item>\\n<item id=\"3569\"><manga href=\"/encyclopedia/manga.php?id=3569\">Buddha (manga)</manga><nb_votes>126</nb_votes><nb_seen>248</nb_seen><straight_average>8.33329963684082</straight_average><weighted_average>8.775899887084961</weighted_average><bayesian_average>8.7441987991333</bayesian_average></item>\\n<item id=\"8450\"><manga href=\"/encyclopedia/manga.php?id=8450\">Kanojo no Omoide... (manga)</manga><nb_votes>11</nb_votes><nb_seen>21</nb_seen><straight_average>8.272700309753418</straight_average><weighted_average>9.084500312805176</weighted_average><bayesian_average>8.727459907531738</bayesian_average></item>\\n<item id=\"1520\"><manga href=\"/encyclopedia/manga.php?id=1520\">Sanctuary (manga by R. Ikegami)</manga><nb_votes>83</nb_votes><nb_seen>137</nb_seen><straight_average>8.674699783325195</straight_average><weighted_average>8.7701997756958</weighted_average><bayesian_average>8.723092079162598</bayesian_average></item>\\n<item id=\"1995\"><manga href=\"/encyclopedia/manga.php?id=1995\">Rurouni Kenshin (manga)</manga><nb_votes>1242</nb_votes><nb_seen>2569</nb_seen><straight_average>8.7923002243042</straight_average><weighted_average>8.725199699401855</weighted_average><bayesian_average>8.722054481506348</bayesian_average></item>\\n<item id=\"13515\"><manga href=\"/encyclopedia/manga.php?id=13515\">Drifting Life (manga)</manga><nb_votes>17</nb_votes><nb_seen>31</nb_seen><straight_average>8.411800384521484</straight_average><weighted_average>8.947199821472168</weighted_average><bayesian_average>8.718323707580566</bayesian_average></item>\\n<item id=\"13945\"><manga href=\"/encyclopedia/manga.php?id=13945\">Kids on the Slope (manga)</manga><nb_votes>35</nb_votes><nb_seen>58</nb_seen><straight_average>8.857099533081055</straight_average><weighted_average>8.823599815368652</weighted_average><bayesian_average>8.713035583496094</bayesian_average></item>\\n<item id=\"1998\"><manga href=\"/encyclopedia/manga.php?id=1998\">Glass no Kamen (manga)</manga><nb_votes>36</nb_votes><nb_seen>146</nb_seen><straight_average>8.527799606323242</straight_average><weighted_average>8.818599700927734</weighted_average><bayesian_average>8.711299896240234</bayesian_average></item>\\n<item id=\"8403\"><manga href=\"/encyclopedia/manga.php?id=8403\">Solanin (manga)</manga><nb_votes>195</nb_votes><nb_seen>270</nb_seen><straight_average>8.794899940490723</straight_average><weighted_average>8.729000091552734</weighted_average><bayesian_average>8.709233283996582</bayesian_average></item>\\n<item id=\"1612\"><manga href=\"/encyclopedia/manga.php?id=1612\">Blade of the Immortal (manga)</manga><nb_votes>385</nb_votes><nb_seen>845</nb_seen><straight_average>8.607799530029297</straight_average><weighted_average>8.717900276184082</weighted_average><bayesian_average>8.707901954650879</bayesian_average></item>\\n<item id=\"15892\"><manga href=\"/encyclopedia/manga.php?id=15892\">Silent Voice (manga)</manga><nb_votes>113</nb_votes><nb_seen>182</nb_seen><straight_average>8.761099815368652</straight_average><weighted_average>8.730400085449219</weighted_average><bayesian_average>8.696731567382812</bayesian_average></item>\\n<item id=\"1333\"><manga href=\"/encyclopedia/manga.php?id=1333\">Showa: A History of Japan (manga)</manga><nb_votes>6</nb_votes><nb_seen>11</nb_seen><straight_average>9.33329963684082</straight_average><weighted_average>9.319000244140625</weighted_average><bayesian_average>8.689640045166016</bayesian_average></item>\\n<item id=\"11126\"><manga href=\"/encyclopedia/manga.php?id=11126\">Bride\\'s Story (manga)</manga><nb_votes>68</nb_votes><nb_seen>166</nb_seen><straight_average>8.82349967956543</straight_average><weighted_average>8.73069953918457</weighted_average><bayesian_average>8.675971984863281</bayesian_average></item>\\n<item id=\"5564\"><manga href=\"/encyclopedia/manga.php?id=5564\">Steel Ball Run (manga)</manga><nb_votes>26</nb_votes><nb_seen>68</nb_seen><straight_average>8.46150016784668</straight_average><weighted_average>8.807299613952637</weighted_average><bayesian_average>8.665740013122559</bayesian_average></item>\\n<item id=\"7749\"><manga href=\"/encyclopedia/manga.php?id=7749\">Town of Evening Calm, Country of Cherry Blossoms (manga)</manga><nb_votes>100</nb_votes><nb_seen>129</nb_seen><straight_average>8.760000228881836</straight_average><weighted_average>8.697699546813965</weighted_average><bayesian_average>8.661080360412598</bayesian_average></item>\\n<item id=\"7919\"><manga href=\"/encyclopedia/manga.php?id=7919\">\\xc5\\x8coku: The Inner Chambers (manga)</manga><nb_votes>42</nb_votes><nb_seen>99</nb_seen><straight_average>8.714300155639648</straight_average><weighted_average>8.74470043182373</weighted_average><bayesian_average>8.657821655273438</bayesian_average></item>\\n<item id=\"9635\"><manga href=\"/encyclopedia/manga.php?id=9635\">Children of the Sea (manga)</manga><nb_votes>36</nb_votes><nb_seen>87</nb_seen><straight_average>8.722200393676758</straight_average><weighted_average>8.735600471496582</weighted_average><bayesian_average>8.636600494384766</bayesian_average></item>\\n<item id=\"1323\"><manga href=\"/encyclopedia/manga.php?id=1323\">Message to Adolf (manga)</manga><nb_votes>87</nb_votes><nb_seen>170</nb_seen><straight_average>8.540200233459473</straight_average><weighted_average>8.662400245666504</weighted_average><bayesian_average>8.622101783752441</bayesian_average></item>\\n<item id=\"5891\"><manga href=\"/encyclopedia/manga.php?id=5891\">Heart of Thomas (manga)</manga><nb_votes>30</nb_votes><nb_seen>44</nb_seen><straight_average>8.566699981689453</straight_average><weighted_average>8.73550033569336</weighted_average><bayesian_average>8.619041442871094</bayesian_average></item>\\n<item id=\"2405\"><manga href=\"/encyclopedia/manga.php?id=2405\">Saikano (manga)</manga><nb_votes>239</nb_votes><nb_seen>502</nb_seen><straight_average>8.682000160217285</straight_average><weighted_average>8.630900382995605</weighted_average><bayesian_average>8.616327285766602</bayesian_average></item>\\n<item id=\"5865\"><manga href=\"/encyclopedia/manga.php?id=5865\">Stigma (manga)</manga><nb_votes>41</nb_votes><nb_seen>68</nb_seen><straight_average>8.439000129699707</straight_average><weighted_average>8.688599586486816</weighted_average><bayesian_average>8.604777336120605</bayesian_average></item>\\n<item id=\"16625\"><manga href=\"/encyclopedia/manga.php?id=16625\">Ancient Magus\\' Bride (manga)</manga><nb_votes>28</nb_votes><nb_seen>105</nb_seen><straight_average>8.607099533081055</straight_average><weighted_average>8.725899696350098</weighted_average><bayesian_average>8.603362083435059</bayesian_average></item>\\n<item id=\"4169\"><manga href=\"/encyclopedia/manga.php?id=4169\">Genshiken (manga)</manga><nb_votes>426</nb_votes><nb_seen>894</nb_seen><straight_average>8.650199890136719</straight_average><weighted_average>8.593500137329102</weighted_average><bayesian_average>8.585612297058105</bayesian_average></item>\\n<item id=\"5283\"><manga href=\"/encyclopedia/manga.php?id=5283\">Historie (manga)</manga><nb_votes>54</nb_votes><nb_seen>98</nb_seen><straight_average>8.703700065612793</straight_average><weighted_average>8.644599914550781</weighted_average><bayesian_average>8.582599639892578</bayesian_average></item>\\n<item id=\"6252\"><manga href=\"/encyclopedia/manga.php?id=6252\">Ode to Kirihito (manga)</manga><nb_votes>80</nb_votes><nb_seen>120</nb_seen><straight_average>8.649999618530273</straight_average><weighted_average>8.622400283813477</weighted_average><bayesian_average>8.580647468566895</bayesian_average></item></report>'\n"
    }
   ],
   "source": [
    "from lxml import html, etree\n",
    "import requests\n",
    "manga_page = requests.get(\"https://www.animenewsnetwork.com/encyclopedia/reports.xml?id=173\")\n",
    "print(manga_page.content)"
   ]
  },
  {
   "cell_type": "code",
   "execution_count": 4,
   "metadata": {
    "tags": []
   },
   "outputs": [],
   "source": [
    "import xml.etree.ElementTree as etree\n",
    "\n",
    "tree = etree.parse(\"Anime report1.xml\")\n",
    "\n",
    "root = tree.getroot()\n",
    "\n",
    "columns = [\"anime\", \"nb_votes\", \"nb_seen\", \"straight_average\", \"weighted_average\", \"bayesian_average\"]\n",
    "\n",
    "anime_df = pd.DataFrame(columns = columns)\n",
    "\n",
    "for node in root: \n",
    "\n",
    "    anime = node.find(\"anime\").text if node is not None else None\n",
    "\n",
    "    votes = node.find(\"nb_votes\").text if node is not None else None\n",
    "\n",
    "    viewed = node.find(\"nb_seen\").text if node is not None else None\n",
    "\n",
    "    average = node.find(\"straight_average\").text if node is not None else None\n",
    "\n",
    "    weighted = node.find(\"weighted_average\").text if node is not None else None\n",
    "\n",
    "    bayesian = node.find(\"bayesian_average\").text if node is not None else None\n",
    "\n",
    "    anime_df = anime_df.append(pd.Series([anime, votes, viewed, average, weighted, bayesian], index = columns), ignore_index = True)"
   ]
  },
  {
   "cell_type": "code",
   "execution_count": 5,
   "metadata": {},
   "outputs": [
    {
     "output_type": "execute_result",
     "data": {
      "text/plain": "                                                anime nb_votes nb_seen  \\\n0               Fullmetal Alchemist: Brotherhood (TV)     5815   10858   \n1                                  your name. (movie)     1100    1481   \n2                                    Steins;Gate (TV)     4655    6811   \n3                            Clannad After Story (TV)     5180    8361   \n4             Rurouni Kenshin: Trust & Betrayal (OAV)     6649   10385   \n5        Code Geass: Lelouch of the Rebellion R2 (TV)     7868   12551   \n6                               Spirited Away (movie)    10546   15397   \n7                     Mushishi: The Next Chapter (TV)      512     848   \n8                                   Cowboy Bebop (TV)    12243   21026   \n9                           Princess Mononoke (movie)     9835   15401   \n10                               Silent Voice (movie)      559     764   \n11           Disappearance of Haruhi Suzumiya (movie)     2792    4029   \n12                Legend of the Galactic Heroes (OAV)      726    1141   \n13                                     Mushi-Shi (TV)     4995    8163   \n14                                    Death Note (TV)    12911   22216   \n15                                 Made in Abyss (TV)      644     883   \n16             Maria Watches Over Us 3rd Season (OAV)      726    1044   \n17     Maria Watches Over Us Season 2: Printemps (TV)     1343    1820   \n18          Code Geass: Lelouch of the Rebellion (TV)     9181   15212   \n19  Descending Stories: Showa Genroku Rakugo Shinj...      182     260   \n20                                    Bunny Drop (TV)     1801    2667   \n21           anohana: The Flower We Saw That Day (TV)     3235    4878   \n22              Maria Watches Over Us 4th Season (TV)      511     722   \n23                                Gintama (TV 4/2015)      151     291   \n24                                       Monster (TV)     3472    5781   \n25      Evangelion: 2.0 You Can (Not) Advance (movie)     2090    3359   \n26                               Gintama' (TV 2/2011)      432     888   \n27                               Gintama' (TV 3/2012)      262     482   \n28  Ghost in the Shell: Stand Alone Complex 2nd GI...     2597    4892   \n29                     Grave of the Fireflies (movie)     4593    6925   \n30                                    Cross Game (TV)      688    1060   \n31                               Fighting Spirit (TV)     1628    2824   \n32                           Fullmetal Alchemist (TV)    13436   23626   \n33                                Summer Wars (movie)     3400    4573   \n34         Nausicaä of the Valley of the Wind (movie)     5066    7898   \n35                              Nodame Cantabile (TV)     2772    4331   \n36                Girl Who Leapt Through Time (movie)     5537    7766   \n37                   5 Centimeters Per Second (movie)     5777    8203   \n38                                 Gurren Lagann (TV)     6975   11421   \n39                          Hunter × Hunter (TV 2011)     1043    1997   \n40                   Garden of Sinners (movie series)     1702    2700   \n41                              Wolf Children (movie)     1159    1631   \n42                         My Neighbor Totoro (movie)     4686    7403   \n43                                      Baccano! (TV)     4198    6990   \n44                   Gintama: The Final Movie (movie)      166     257   \n45                           Honey and Clover II (TV)     2053    3089   \n46                        Attack on Titan (TV 4/2019)      279     624   \n47                   Natsume's Book of Friends (TV 4)      579    1005   \n48                Hajime no Ippo: New Challenger (TV)      715    1206   \n49                                  Kanon (TV 2/2006)     3643    5693   \n\n     straight_average   weighted_average   bayesian_average  \n0   9.106100082397461  9.095100402832031  9.091821670532227  \n1   9.104499816894531  9.087200164794922   9.07010269165039  \n2   9.138099670410156  9.059100151062012  9.055098533630371  \n3   8.951000213623047  9.055299758911133  9.051711082458496  \n4   8.923399925231934  8.972299575805664   8.96965217590332  \n5   9.020099639892578  8.932000160217285  8.929823875427246  \n6   8.969799995422363  8.926199913024902  8.924582481384277  \n7   8.824199676513672  8.933699607849121  8.900931358337402  \n8   8.933099746704102  8.895099639892578  8.893735885620117  \n9   8.928099632263184  8.864999771118164    8.8633394241333  \n10  8.856900215148926  8.888799667358398  8.859671592712402  \n11  8.868599891662598  8.861599922180176   8.85578441619873  \n12  8.785099983215332  8.834799766540527  8.813140869140625  \n13  8.803199768066406   8.79259967803955  8.789508819580078  \n14  8.863300323486328  8.781499862670898  8.780312538146973  \n15  8.807499885559082   8.79539966583252  8.771754264831543  \n16    8.7947998046875  8.790200233459473  8.769267082214355  \n17  8.829500198364258  8.760100364685059    8.7489652633667  \n18  8.854399681091309   8.74120044708252  8.739583969116211  \n19  8.818699836730957  8.812000274658203  8.731019020080566  \n20  8.789600372314453  8.729399681091309  8.721281051635742  \n21  8.786100387573242  8.725099563598633  8.720582008361816  \n22  8.747599601745605  8.748600006103516  8.720015525817871  \n23  8.768199920654297  8.811699867248535  8.715338706970215  \n24   8.76669979095459  8.715999603271484  8.711820602416992  \n25  8.775099754333496     8.714599609375  8.707681655883789  \n26  8.740699768066406  8.739999771118164  8.706562042236328  \n27  8.561100006103516  8.741499900817871  8.687250137329102  \n28  8.749300003051758  8.675299644470215  8.669906616210938  \n29  8.707799911499023  8.671600341796875  8.668554306030273  \n30  8.780500411987305  8.676400184631348  8.656281471252441  \n31  8.746299743652344  8.664299964904785  8.655800819396973  \n32  8.728899955749512  8.649900436401367  8.648877143859863  \n33  8.743800163269043  8.652299880981445    8.6482572555542  \n34  8.678999900817871  8.639800071716309  8.637113571166992  \n35  8.666299819946289  8.641599655151367  8.636691093444824  \n36  8.671099662780762  8.637100219726562  8.634647369384766  \n37  8.693099975585938  8.624199867248535  8.621875762939453  \n38  8.735300064086914   8.61970043182373  8.617782592773438  \n39   8.69890022277832  8.622900009155273  8.610159873962402  \n40    8.7121000289917  8.616600036621094   8.60880184173584  \n41   8.65310001373291  8.613100051879883   8.60172176361084  \n42  8.653200149536133  8.599699974060059  8.596898078918457  \n43  8.673399925231934   8.59119987487793   8.58809757232666  \n44  8.710800170898438  8.653900146484375  8.576297760009766  \n45  8.569899559020996  8.581700325012207  8.575430870056152  \n46  8.677399635314941  8.618800163269043  8.572779655456543  \n47  8.644200325012207  8.590100288391113  8.568022727966309  \n48  8.630800247192383  8.576899528503418   8.55916976928711  \n49  8.641799926757812  8.559900283813477  8.556429862976074  ",
      "text/html": "<div>\n<style scoped>\n    .dataframe tbody tr th:only-of-type {\n        vertical-align: middle;\n    }\n\n    .dataframe tbody tr th {\n        vertical-align: top;\n    }\n\n    .dataframe thead th {\n        text-align: right;\n    }\n</style>\n<table border=\"1\" class=\"dataframe\">\n  <thead>\n    <tr style=\"text-align: right;\">\n      <th></th>\n      <th>anime</th>\n      <th>nb_votes</th>\n      <th>nb_seen</th>\n      <th>straight_average</th>\n      <th>weighted_average</th>\n      <th>bayesian_average</th>\n    </tr>\n  </thead>\n  <tbody>\n    <tr>\n      <th>0</th>\n      <td>Fullmetal Alchemist: Brotherhood (TV)</td>\n      <td>5815</td>\n      <td>10858</td>\n      <td>9.106100082397461</td>\n      <td>9.095100402832031</td>\n      <td>9.091821670532227</td>\n    </tr>\n    <tr>\n      <th>1</th>\n      <td>your name. (movie)</td>\n      <td>1100</td>\n      <td>1481</td>\n      <td>9.104499816894531</td>\n      <td>9.087200164794922</td>\n      <td>9.07010269165039</td>\n    </tr>\n    <tr>\n      <th>2</th>\n      <td>Steins;Gate (TV)</td>\n      <td>4655</td>\n      <td>6811</td>\n      <td>9.138099670410156</td>\n      <td>9.059100151062012</td>\n      <td>9.055098533630371</td>\n    </tr>\n    <tr>\n      <th>3</th>\n      <td>Clannad After Story (TV)</td>\n      <td>5180</td>\n      <td>8361</td>\n      <td>8.951000213623047</td>\n      <td>9.055299758911133</td>\n      <td>9.051711082458496</td>\n    </tr>\n    <tr>\n      <th>4</th>\n      <td>Rurouni Kenshin: Trust &amp; Betrayal (OAV)</td>\n      <td>6649</td>\n      <td>10385</td>\n      <td>8.923399925231934</td>\n      <td>8.972299575805664</td>\n      <td>8.96965217590332</td>\n    </tr>\n    <tr>\n      <th>5</th>\n      <td>Code Geass: Lelouch of the Rebellion R2 (TV)</td>\n      <td>7868</td>\n      <td>12551</td>\n      <td>9.020099639892578</td>\n      <td>8.932000160217285</td>\n      <td>8.929823875427246</td>\n    </tr>\n    <tr>\n      <th>6</th>\n      <td>Spirited Away (movie)</td>\n      <td>10546</td>\n      <td>15397</td>\n      <td>8.969799995422363</td>\n      <td>8.926199913024902</td>\n      <td>8.924582481384277</td>\n    </tr>\n    <tr>\n      <th>7</th>\n      <td>Mushishi: The Next Chapter (TV)</td>\n      <td>512</td>\n      <td>848</td>\n      <td>8.824199676513672</td>\n      <td>8.933699607849121</td>\n      <td>8.900931358337402</td>\n    </tr>\n    <tr>\n      <th>8</th>\n      <td>Cowboy Bebop (TV)</td>\n      <td>12243</td>\n      <td>21026</td>\n      <td>8.933099746704102</td>\n      <td>8.895099639892578</td>\n      <td>8.893735885620117</td>\n    </tr>\n    <tr>\n      <th>9</th>\n      <td>Princess Mononoke (movie)</td>\n      <td>9835</td>\n      <td>15401</td>\n      <td>8.928099632263184</td>\n      <td>8.864999771118164</td>\n      <td>8.8633394241333</td>\n    </tr>\n    <tr>\n      <th>10</th>\n      <td>Silent Voice (movie)</td>\n      <td>559</td>\n      <td>764</td>\n      <td>8.856900215148926</td>\n      <td>8.888799667358398</td>\n      <td>8.859671592712402</td>\n    </tr>\n    <tr>\n      <th>11</th>\n      <td>Disappearance of Haruhi Suzumiya (movie)</td>\n      <td>2792</td>\n      <td>4029</td>\n      <td>8.868599891662598</td>\n      <td>8.861599922180176</td>\n      <td>8.85578441619873</td>\n    </tr>\n    <tr>\n      <th>12</th>\n      <td>Legend of the Galactic Heroes (OAV)</td>\n      <td>726</td>\n      <td>1141</td>\n      <td>8.785099983215332</td>\n      <td>8.834799766540527</td>\n      <td>8.813140869140625</td>\n    </tr>\n    <tr>\n      <th>13</th>\n      <td>Mushi-Shi (TV)</td>\n      <td>4995</td>\n      <td>8163</td>\n      <td>8.803199768066406</td>\n      <td>8.79259967803955</td>\n      <td>8.789508819580078</td>\n    </tr>\n    <tr>\n      <th>14</th>\n      <td>Death Note (TV)</td>\n      <td>12911</td>\n      <td>22216</td>\n      <td>8.863300323486328</td>\n      <td>8.781499862670898</td>\n      <td>8.780312538146973</td>\n    </tr>\n    <tr>\n      <th>15</th>\n      <td>Made in Abyss (TV)</td>\n      <td>644</td>\n      <td>883</td>\n      <td>8.807499885559082</td>\n      <td>8.79539966583252</td>\n      <td>8.771754264831543</td>\n    </tr>\n    <tr>\n      <th>16</th>\n      <td>Maria Watches Over Us 3rd Season (OAV)</td>\n      <td>726</td>\n      <td>1044</td>\n      <td>8.7947998046875</td>\n      <td>8.790200233459473</td>\n      <td>8.769267082214355</td>\n    </tr>\n    <tr>\n      <th>17</th>\n      <td>Maria Watches Over Us Season 2: Printemps (TV)</td>\n      <td>1343</td>\n      <td>1820</td>\n      <td>8.829500198364258</td>\n      <td>8.760100364685059</td>\n      <td>8.7489652633667</td>\n    </tr>\n    <tr>\n      <th>18</th>\n      <td>Code Geass: Lelouch of the Rebellion (TV)</td>\n      <td>9181</td>\n      <td>15212</td>\n      <td>8.854399681091309</td>\n      <td>8.74120044708252</td>\n      <td>8.739583969116211</td>\n    </tr>\n    <tr>\n      <th>19</th>\n      <td>Descending Stories: Showa Genroku Rakugo Shinj...</td>\n      <td>182</td>\n      <td>260</td>\n      <td>8.818699836730957</td>\n      <td>8.812000274658203</td>\n      <td>8.731019020080566</td>\n    </tr>\n    <tr>\n      <th>20</th>\n      <td>Bunny Drop (TV)</td>\n      <td>1801</td>\n      <td>2667</td>\n      <td>8.789600372314453</td>\n      <td>8.729399681091309</td>\n      <td>8.721281051635742</td>\n    </tr>\n    <tr>\n      <th>21</th>\n      <td>anohana: The Flower We Saw That Day (TV)</td>\n      <td>3235</td>\n      <td>4878</td>\n      <td>8.786100387573242</td>\n      <td>8.725099563598633</td>\n      <td>8.720582008361816</td>\n    </tr>\n    <tr>\n      <th>22</th>\n      <td>Maria Watches Over Us 4th Season (TV)</td>\n      <td>511</td>\n      <td>722</td>\n      <td>8.747599601745605</td>\n      <td>8.748600006103516</td>\n      <td>8.720015525817871</td>\n    </tr>\n    <tr>\n      <th>23</th>\n      <td>Gintama (TV 4/2015)</td>\n      <td>151</td>\n      <td>291</td>\n      <td>8.768199920654297</td>\n      <td>8.811699867248535</td>\n      <td>8.715338706970215</td>\n    </tr>\n    <tr>\n      <th>24</th>\n      <td>Monster (TV)</td>\n      <td>3472</td>\n      <td>5781</td>\n      <td>8.76669979095459</td>\n      <td>8.715999603271484</td>\n      <td>8.711820602416992</td>\n    </tr>\n    <tr>\n      <th>25</th>\n      <td>Evangelion: 2.0 You Can (Not) Advance (movie)</td>\n      <td>2090</td>\n      <td>3359</td>\n      <td>8.775099754333496</td>\n      <td>8.714599609375</td>\n      <td>8.707681655883789</td>\n    </tr>\n    <tr>\n      <th>26</th>\n      <td>Gintama' (TV 2/2011)</td>\n      <td>432</td>\n      <td>888</td>\n      <td>8.740699768066406</td>\n      <td>8.739999771118164</td>\n      <td>8.706562042236328</td>\n    </tr>\n    <tr>\n      <th>27</th>\n      <td>Gintama' (TV 3/2012)</td>\n      <td>262</td>\n      <td>482</td>\n      <td>8.561100006103516</td>\n      <td>8.741499900817871</td>\n      <td>8.687250137329102</td>\n    </tr>\n    <tr>\n      <th>28</th>\n      <td>Ghost in the Shell: Stand Alone Complex 2nd GI...</td>\n      <td>2597</td>\n      <td>4892</td>\n      <td>8.749300003051758</td>\n      <td>8.675299644470215</td>\n      <td>8.669906616210938</td>\n    </tr>\n    <tr>\n      <th>29</th>\n      <td>Grave of the Fireflies (movie)</td>\n      <td>4593</td>\n      <td>6925</td>\n      <td>8.707799911499023</td>\n      <td>8.671600341796875</td>\n      <td>8.668554306030273</td>\n    </tr>\n    <tr>\n      <th>30</th>\n      <td>Cross Game (TV)</td>\n      <td>688</td>\n      <td>1060</td>\n      <td>8.780500411987305</td>\n      <td>8.676400184631348</td>\n      <td>8.656281471252441</td>\n    </tr>\n    <tr>\n      <th>31</th>\n      <td>Fighting Spirit (TV)</td>\n      <td>1628</td>\n      <td>2824</td>\n      <td>8.746299743652344</td>\n      <td>8.664299964904785</td>\n      <td>8.655800819396973</td>\n    </tr>\n    <tr>\n      <th>32</th>\n      <td>Fullmetal Alchemist (TV)</td>\n      <td>13436</td>\n      <td>23626</td>\n      <td>8.728899955749512</td>\n      <td>8.649900436401367</td>\n      <td>8.648877143859863</td>\n    </tr>\n    <tr>\n      <th>33</th>\n      <td>Summer Wars (movie)</td>\n      <td>3400</td>\n      <td>4573</td>\n      <td>8.743800163269043</td>\n      <td>8.652299880981445</td>\n      <td>8.6482572555542</td>\n    </tr>\n    <tr>\n      <th>34</th>\n      <td>Nausicaä of the Valley of the Wind (movie)</td>\n      <td>5066</td>\n      <td>7898</td>\n      <td>8.678999900817871</td>\n      <td>8.639800071716309</td>\n      <td>8.637113571166992</td>\n    </tr>\n    <tr>\n      <th>35</th>\n      <td>Nodame Cantabile (TV)</td>\n      <td>2772</td>\n      <td>4331</td>\n      <td>8.666299819946289</td>\n      <td>8.641599655151367</td>\n      <td>8.636691093444824</td>\n    </tr>\n    <tr>\n      <th>36</th>\n      <td>Girl Who Leapt Through Time (movie)</td>\n      <td>5537</td>\n      <td>7766</td>\n      <td>8.671099662780762</td>\n      <td>8.637100219726562</td>\n      <td>8.634647369384766</td>\n    </tr>\n    <tr>\n      <th>37</th>\n      <td>5 Centimeters Per Second (movie)</td>\n      <td>5777</td>\n      <td>8203</td>\n      <td>8.693099975585938</td>\n      <td>8.624199867248535</td>\n      <td>8.621875762939453</td>\n    </tr>\n    <tr>\n      <th>38</th>\n      <td>Gurren Lagann (TV)</td>\n      <td>6975</td>\n      <td>11421</td>\n      <td>8.735300064086914</td>\n      <td>8.61970043182373</td>\n      <td>8.617782592773438</td>\n    </tr>\n    <tr>\n      <th>39</th>\n      <td>Hunter × Hunter (TV 2011)</td>\n      <td>1043</td>\n      <td>1997</td>\n      <td>8.69890022277832</td>\n      <td>8.622900009155273</td>\n      <td>8.610159873962402</td>\n    </tr>\n    <tr>\n      <th>40</th>\n      <td>Garden of Sinners (movie series)</td>\n      <td>1702</td>\n      <td>2700</td>\n      <td>8.7121000289917</td>\n      <td>8.616600036621094</td>\n      <td>8.60880184173584</td>\n    </tr>\n    <tr>\n      <th>41</th>\n      <td>Wolf Children (movie)</td>\n      <td>1159</td>\n      <td>1631</td>\n      <td>8.65310001373291</td>\n      <td>8.613100051879883</td>\n      <td>8.60172176361084</td>\n    </tr>\n    <tr>\n      <th>42</th>\n      <td>My Neighbor Totoro (movie)</td>\n      <td>4686</td>\n      <td>7403</td>\n      <td>8.653200149536133</td>\n      <td>8.599699974060059</td>\n      <td>8.596898078918457</td>\n    </tr>\n    <tr>\n      <th>43</th>\n      <td>Baccano! (TV)</td>\n      <td>4198</td>\n      <td>6990</td>\n      <td>8.673399925231934</td>\n      <td>8.59119987487793</td>\n      <td>8.58809757232666</td>\n    </tr>\n    <tr>\n      <th>44</th>\n      <td>Gintama: The Final Movie (movie)</td>\n      <td>166</td>\n      <td>257</td>\n      <td>8.710800170898438</td>\n      <td>8.653900146484375</td>\n      <td>8.576297760009766</td>\n    </tr>\n    <tr>\n      <th>45</th>\n      <td>Honey and Clover II (TV)</td>\n      <td>2053</td>\n      <td>3089</td>\n      <td>8.569899559020996</td>\n      <td>8.581700325012207</td>\n      <td>8.575430870056152</td>\n    </tr>\n    <tr>\n      <th>46</th>\n      <td>Attack on Titan (TV 4/2019)</td>\n      <td>279</td>\n      <td>624</td>\n      <td>8.677399635314941</td>\n      <td>8.618800163269043</td>\n      <td>8.572779655456543</td>\n    </tr>\n    <tr>\n      <th>47</th>\n      <td>Natsume's Book of Friends (TV 4)</td>\n      <td>579</td>\n      <td>1005</td>\n      <td>8.644200325012207</td>\n      <td>8.590100288391113</td>\n      <td>8.568022727966309</td>\n    </tr>\n    <tr>\n      <th>48</th>\n      <td>Hajime no Ippo: New Challenger (TV)</td>\n      <td>715</td>\n      <td>1206</td>\n      <td>8.630800247192383</td>\n      <td>8.576899528503418</td>\n      <td>8.55916976928711</td>\n    </tr>\n    <tr>\n      <th>49</th>\n      <td>Kanon (TV 2/2006)</td>\n      <td>3643</td>\n      <td>5693</td>\n      <td>8.641799926757812</td>\n      <td>8.559900283813477</td>\n      <td>8.556429862976074</td>\n    </tr>\n  </tbody>\n</table>\n</div>"
     },
     "metadata": {},
     "execution_count": 5
    }
   ],
   "source": [
    "anime_df"
   ]
  },
  {
   "cell_type": "code",
   "execution_count": 6,
   "metadata": {},
   "outputs": [],
   "source": [
    "import xml.etree.ElementTree as etree\n",
    "\n",
    "tree = etree.parse(\"Manga report1.xml\")\n",
    "\n",
    "root = tree.getroot()\n",
    "\n",
    "columns = [\"manga\", \"nb_votes\", \"nb_seen\", \"straight_average\", \"weighted_average\", \"bayesian_average\"]\n",
    "\n",
    "manga_df = pd.DataFrame(columns = columns)\n",
    "\n",
    "for node in root: \n",
    "    manga = node.find(\"manga\").text if node is not None else None\n",
    "\n",
    "    votes = node.find(\"nb_votes\").text if node is not None else None\n",
    "\n",
    "    viewed = node.find(\"nb_seen\").text if node is not None else None\n",
    "\n",
    "    average = node.find(\"straight_average\").text if node is not None else None\n",
    "\n",
    "    weighted = node.find(\"weighted_average\").text if node is not None else None\n",
    "\n",
    "    bayesian = node.find(\"bayesian_average\").text if node is not None else None\n",
    "\n",
    "    manga_df = manga_df.append(pd.Series([manga, votes, viewed, average, weighted, bayesian], index = columns), ignore_index = True)"
   ]
  },
  {
   "cell_type": "code",
   "execution_count": 7,
   "metadata": {},
   "outputs": [
    {
     "output_type": "execute_result",
     "data": {
      "text/plain": "                                                manga nb_votes nb_seen  \\\n0                                     Berserk (manga)     1255    2320   \n1                                     Monster (manga)      786    1321   \n2          Nausicaä of the Valley of the Wind (manga)      630    1063   \n3                                Vinland Saga (manga)      239     447   \n4                     Yokohama Kaidashi Kikou (manga)      354     541   \n5                           20th Century Boys (manga)      594     983   \n6                         Fullmetal Alchemist (manga)     1604    3514   \n7                                       Akira (manga)      578    1130   \n8                                   Yotsuba&! (manga)      758    1560   \n9                                    Vagabond (manga)      345     644   \n10                                        GTO (manga)      671    1344   \n11                                 Death Note (manga)     2587    4956   \n12                           Goodnight Punpun (manga)       68     144   \n13                                      Pluto (manga)      305     483   \n14                             Hajime no Ippo (manga)      172     409   \n15                                   Mushishi (manga)      261     557   \n16                                 Cross Game (manga)      116     196   \n17                   Kaguya-sama: Love is War (manga)        8      18   \n18                                    Phoenix (manga)       69     172   \n19                                       REAL (manga)       60     130   \n20  With the Light: Raising an Autistic Child (manga)       34      70   \n21                                     Erased (manga)       27      50   \n22                                 Skip Beat! (manga)      391    1068   \n23             Lone Wolf and Cub (manga, Kazuo Koike)      142     341   \n24                              Fruits Basket (manga)     1616    3735   \n25             Mobile Suit Gundam: The Origin (manga)       34     112   \n26                                     Buddha (manga)      126     248   \n27                        Kanojo no Omoide... (manga)       11      21   \n28                    Sanctuary (manga by R. Ikegami)       83     137   \n29                            Rurouni Kenshin (manga)     1242    2569   \n30                              Drifting Life (manga)       17      31   \n31                          Kids on the Slope (manga)       35      58   \n32                             Glass no Kamen (manga)       36     146   \n33                                    Solanin (manga)      195     270   \n34                      Blade of the Immortal (manga)      385     845   \n35                               Silent Voice (manga)      113     182   \n36                  Showa: A History of Japan (manga)        6      11   \n37                              Bride's Story (manga)       68     166   \n38                             Steel Ball Run (manga)       26      68   \n39  Town of Evening Calm, Country of Cherry Blosso...      100     129   \n40                   Ōoku: The Inner Chambers (manga)       42      99   \n41                        Children of the Sea (manga)       36      87   \n42                           Message to Adolf (manga)       87     170   \n43                            Heart of Thomas (manga)       30      44   \n44                                    Saikano (manga)      239     502   \n45                                     Stigma (manga)       41      68   \n46                       Ancient Magus' Bride (manga)       28     105   \n47                                  Genshiken (manga)      426     894   \n48                                   Historie (manga)       54      98   \n49                            Ode to Kirihito (manga)       80     120   \n\n     straight_average   weighted_average   bayesian_average  \n0   9.289199829101562  9.250699996948242  9.245918273925781  \n1   8.944000244140625  9.217900276184082  9.210445404052734  \n2   9.176199913024902  9.211299896240234  9.202052116394043  \n3   9.204999923706055  9.177800178527832  9.154224395751953  \n4   8.412400245666504  9.080599784851074  9.065683364868164  \n5   8.749199867248535   9.01669979095459  9.008197784423828  \n6   8.945799827575684  8.975000381469727  8.971941947937012  \n7   8.700699806213379  8.934300422668457  8.926130294799805  \n8   8.887900352478027  8.920900344848633    8.9147310256958  \n9   8.973899841308594  8.877099990844727  8.864131927490234  \n10  8.782400131225586   8.85420036315918  8.847630500793457  \n11  8.857000350952148  8.839699745178223  8.838010787963867  \n12  8.941200256347656  8.899399757385254  8.835299491882324  \n13  8.822999954223633  8.835800170898438  8.821687698364258  \n14  8.953499794006348  8.846400260925293  8.821382522583008  \n15  8.831399917602539  8.816300392150879  8.800138473510742  \n16  8.862099647521973   8.82610034942627  8.790083885192871  \n17              8.875  9.309499740600586  8.788199424743652  \n18  8.420299530029297  8.835200309753418  8.775496482849121  \n19   9.01669979095459  8.836899757385254  8.768693923950195  \n20  8.941200256347656   8.87720012664795  8.758084297180176  \n21                  9   8.90719985961914  8.757315635681152  \n22  8.890000343322754   8.76509952545166  8.754775047302246  \n23  8.901399612426758  8.780099868774414  8.751757621765137  \n24   8.71660041809082  8.751099586486816  8.748617172241211  \n25  8.882399559020996   8.86359977722168  8.745915412902832  \n26   8.33329963684082  8.775899887084961    8.7441987991333  \n27  8.272700309753418  9.084500312805176  8.727459907531738  \n28  8.674699783325195    8.7701997756958  8.723092079162598  \n29    8.7923002243042  8.725099563598633  8.721955299377441  \n30  8.411800384521484  8.947199821472168  8.718323707580566  \n31  8.857099533081055  8.823599815368652  8.713035583496094  \n32  8.527799606323242  8.818599700927734  8.711299896240234  \n33  8.794899940490723  8.729000091552734  8.709233283996582  \n34  8.607799530029297  8.717900276184082  8.707901954650879  \n35  8.761099815368652  8.730400085449219  8.696731567382812  \n36   9.33329963684082  9.319000244140625  8.689640045166016  \n37   8.82349967956543   8.73069953918457  8.675971984863281  \n38   8.46150016784668  8.807299613952637  8.665740013122559  \n39  8.760000228881836  8.697799682617188  8.661176681518555  \n40  8.714300155639648   8.74470043182373  8.657821655273438  \n41  8.722200393676758  8.735600471496582  8.636600494384766  \n42  8.540200233459473  8.662400245666504  8.622101783752441  \n43  8.566699981689453   8.73550033569336  8.619041442871094  \n44  8.682000160217285  8.630900382995605  8.616327285766602  \n45  8.439000129699707  8.688599586486816  8.604777336120605  \n46  8.607099533081055  8.725899696350098  8.603362083435059  \n47  8.650199890136719  8.593500137329102  8.585612297058105  \n48  8.703700065612793  8.644599914550781  8.582599639892578  \n49  8.649999618530273    8.6225004196167  8.580742835998535  ",
      "text/html": "<div>\n<style scoped>\n    .dataframe tbody tr th:only-of-type {\n        vertical-align: middle;\n    }\n\n    .dataframe tbody tr th {\n        vertical-align: top;\n    }\n\n    .dataframe thead th {\n        text-align: right;\n    }\n</style>\n<table border=\"1\" class=\"dataframe\">\n  <thead>\n    <tr style=\"text-align: right;\">\n      <th></th>\n      <th>manga</th>\n      <th>nb_votes</th>\n      <th>nb_seen</th>\n      <th>straight_average</th>\n      <th>weighted_average</th>\n      <th>bayesian_average</th>\n    </tr>\n  </thead>\n  <tbody>\n    <tr>\n      <th>0</th>\n      <td>Berserk (manga)</td>\n      <td>1255</td>\n      <td>2320</td>\n      <td>9.289199829101562</td>\n      <td>9.250699996948242</td>\n      <td>9.245918273925781</td>\n    </tr>\n    <tr>\n      <th>1</th>\n      <td>Monster (manga)</td>\n      <td>786</td>\n      <td>1321</td>\n      <td>8.944000244140625</td>\n      <td>9.217900276184082</td>\n      <td>9.210445404052734</td>\n    </tr>\n    <tr>\n      <th>2</th>\n      <td>Nausicaä of the Valley of the Wind (manga)</td>\n      <td>630</td>\n      <td>1063</td>\n      <td>9.176199913024902</td>\n      <td>9.211299896240234</td>\n      <td>9.202052116394043</td>\n    </tr>\n    <tr>\n      <th>3</th>\n      <td>Vinland Saga (manga)</td>\n      <td>239</td>\n      <td>447</td>\n      <td>9.204999923706055</td>\n      <td>9.177800178527832</td>\n      <td>9.154224395751953</td>\n    </tr>\n    <tr>\n      <th>4</th>\n      <td>Yokohama Kaidashi Kikou (manga)</td>\n      <td>354</td>\n      <td>541</td>\n      <td>8.412400245666504</td>\n      <td>9.080599784851074</td>\n      <td>9.065683364868164</td>\n    </tr>\n    <tr>\n      <th>5</th>\n      <td>20th Century Boys (manga)</td>\n      <td>594</td>\n      <td>983</td>\n      <td>8.749199867248535</td>\n      <td>9.01669979095459</td>\n      <td>9.008197784423828</td>\n    </tr>\n    <tr>\n      <th>6</th>\n      <td>Fullmetal Alchemist (manga)</td>\n      <td>1604</td>\n      <td>3514</td>\n      <td>8.945799827575684</td>\n      <td>8.975000381469727</td>\n      <td>8.971941947937012</td>\n    </tr>\n    <tr>\n      <th>7</th>\n      <td>Akira (manga)</td>\n      <td>578</td>\n      <td>1130</td>\n      <td>8.700699806213379</td>\n      <td>8.934300422668457</td>\n      <td>8.926130294799805</td>\n    </tr>\n    <tr>\n      <th>8</th>\n      <td>Yotsuba&amp;! (manga)</td>\n      <td>758</td>\n      <td>1560</td>\n      <td>8.887900352478027</td>\n      <td>8.920900344848633</td>\n      <td>8.9147310256958</td>\n    </tr>\n    <tr>\n      <th>9</th>\n      <td>Vagabond (manga)</td>\n      <td>345</td>\n      <td>644</td>\n      <td>8.973899841308594</td>\n      <td>8.877099990844727</td>\n      <td>8.864131927490234</td>\n    </tr>\n    <tr>\n      <th>10</th>\n      <td>GTO (manga)</td>\n      <td>671</td>\n      <td>1344</td>\n      <td>8.782400131225586</td>\n      <td>8.85420036315918</td>\n      <td>8.847630500793457</td>\n    </tr>\n    <tr>\n      <th>11</th>\n      <td>Death Note (manga)</td>\n      <td>2587</td>\n      <td>4956</td>\n      <td>8.857000350952148</td>\n      <td>8.839699745178223</td>\n      <td>8.838010787963867</td>\n    </tr>\n    <tr>\n      <th>12</th>\n      <td>Goodnight Punpun (manga)</td>\n      <td>68</td>\n      <td>144</td>\n      <td>8.941200256347656</td>\n      <td>8.899399757385254</td>\n      <td>8.835299491882324</td>\n    </tr>\n    <tr>\n      <th>13</th>\n      <td>Pluto (manga)</td>\n      <td>305</td>\n      <td>483</td>\n      <td>8.822999954223633</td>\n      <td>8.835800170898438</td>\n      <td>8.821687698364258</td>\n    </tr>\n    <tr>\n      <th>14</th>\n      <td>Hajime no Ippo (manga)</td>\n      <td>172</td>\n      <td>409</td>\n      <td>8.953499794006348</td>\n      <td>8.846400260925293</td>\n      <td>8.821382522583008</td>\n    </tr>\n    <tr>\n      <th>15</th>\n      <td>Mushishi (manga)</td>\n      <td>261</td>\n      <td>557</td>\n      <td>8.831399917602539</td>\n      <td>8.816300392150879</td>\n      <td>8.800138473510742</td>\n    </tr>\n    <tr>\n      <th>16</th>\n      <td>Cross Game (manga)</td>\n      <td>116</td>\n      <td>196</td>\n      <td>8.862099647521973</td>\n      <td>8.82610034942627</td>\n      <td>8.790083885192871</td>\n    </tr>\n    <tr>\n      <th>17</th>\n      <td>Kaguya-sama: Love is War (manga)</td>\n      <td>8</td>\n      <td>18</td>\n      <td>8.875</td>\n      <td>9.309499740600586</td>\n      <td>8.788199424743652</td>\n    </tr>\n    <tr>\n      <th>18</th>\n      <td>Phoenix (manga)</td>\n      <td>69</td>\n      <td>172</td>\n      <td>8.420299530029297</td>\n      <td>8.835200309753418</td>\n      <td>8.775496482849121</td>\n    </tr>\n    <tr>\n      <th>19</th>\n      <td>REAL (manga)</td>\n      <td>60</td>\n      <td>130</td>\n      <td>9.01669979095459</td>\n      <td>8.836899757385254</td>\n      <td>8.768693923950195</td>\n    </tr>\n    <tr>\n      <th>20</th>\n      <td>With the Light: Raising an Autistic Child (manga)</td>\n      <td>34</td>\n      <td>70</td>\n      <td>8.941200256347656</td>\n      <td>8.87720012664795</td>\n      <td>8.758084297180176</td>\n    </tr>\n    <tr>\n      <th>21</th>\n      <td>Erased (manga)</td>\n      <td>27</td>\n      <td>50</td>\n      <td>9</td>\n      <td>8.90719985961914</td>\n      <td>8.757315635681152</td>\n    </tr>\n    <tr>\n      <th>22</th>\n      <td>Skip Beat! (manga)</td>\n      <td>391</td>\n      <td>1068</td>\n      <td>8.890000343322754</td>\n      <td>8.76509952545166</td>\n      <td>8.754775047302246</td>\n    </tr>\n    <tr>\n      <th>23</th>\n      <td>Lone Wolf and Cub (manga, Kazuo Koike)</td>\n      <td>142</td>\n      <td>341</td>\n      <td>8.901399612426758</td>\n      <td>8.780099868774414</td>\n      <td>8.751757621765137</td>\n    </tr>\n    <tr>\n      <th>24</th>\n      <td>Fruits Basket (manga)</td>\n      <td>1616</td>\n      <td>3735</td>\n      <td>8.71660041809082</td>\n      <td>8.751099586486816</td>\n      <td>8.748617172241211</td>\n    </tr>\n    <tr>\n      <th>25</th>\n      <td>Mobile Suit Gundam: The Origin (manga)</td>\n      <td>34</td>\n      <td>112</td>\n      <td>8.882399559020996</td>\n      <td>8.86359977722168</td>\n      <td>8.745915412902832</td>\n    </tr>\n    <tr>\n      <th>26</th>\n      <td>Buddha (manga)</td>\n      <td>126</td>\n      <td>248</td>\n      <td>8.33329963684082</td>\n      <td>8.775899887084961</td>\n      <td>8.7441987991333</td>\n    </tr>\n    <tr>\n      <th>27</th>\n      <td>Kanojo no Omoide... (manga)</td>\n      <td>11</td>\n      <td>21</td>\n      <td>8.272700309753418</td>\n      <td>9.084500312805176</td>\n      <td>8.727459907531738</td>\n    </tr>\n    <tr>\n      <th>28</th>\n      <td>Sanctuary (manga by R. Ikegami)</td>\n      <td>83</td>\n      <td>137</td>\n      <td>8.674699783325195</td>\n      <td>8.7701997756958</td>\n      <td>8.723092079162598</td>\n    </tr>\n    <tr>\n      <th>29</th>\n      <td>Rurouni Kenshin (manga)</td>\n      <td>1242</td>\n      <td>2569</td>\n      <td>8.7923002243042</td>\n      <td>8.725099563598633</td>\n      <td>8.721955299377441</td>\n    </tr>\n    <tr>\n      <th>30</th>\n      <td>Drifting Life (manga)</td>\n      <td>17</td>\n      <td>31</td>\n      <td>8.411800384521484</td>\n      <td>8.947199821472168</td>\n      <td>8.718323707580566</td>\n    </tr>\n    <tr>\n      <th>31</th>\n      <td>Kids on the Slope (manga)</td>\n      <td>35</td>\n      <td>58</td>\n      <td>8.857099533081055</td>\n      <td>8.823599815368652</td>\n      <td>8.713035583496094</td>\n    </tr>\n    <tr>\n      <th>32</th>\n      <td>Glass no Kamen (manga)</td>\n      <td>36</td>\n      <td>146</td>\n      <td>8.527799606323242</td>\n      <td>8.818599700927734</td>\n      <td>8.711299896240234</td>\n    </tr>\n    <tr>\n      <th>33</th>\n      <td>Solanin (manga)</td>\n      <td>195</td>\n      <td>270</td>\n      <td>8.794899940490723</td>\n      <td>8.729000091552734</td>\n      <td>8.709233283996582</td>\n    </tr>\n    <tr>\n      <th>34</th>\n      <td>Blade of the Immortal (manga)</td>\n      <td>385</td>\n      <td>845</td>\n      <td>8.607799530029297</td>\n      <td>8.717900276184082</td>\n      <td>8.707901954650879</td>\n    </tr>\n    <tr>\n      <th>35</th>\n      <td>Silent Voice (manga)</td>\n      <td>113</td>\n      <td>182</td>\n      <td>8.761099815368652</td>\n      <td>8.730400085449219</td>\n      <td>8.696731567382812</td>\n    </tr>\n    <tr>\n      <th>36</th>\n      <td>Showa: A History of Japan (manga)</td>\n      <td>6</td>\n      <td>11</td>\n      <td>9.33329963684082</td>\n      <td>9.319000244140625</td>\n      <td>8.689640045166016</td>\n    </tr>\n    <tr>\n      <th>37</th>\n      <td>Bride's Story (manga)</td>\n      <td>68</td>\n      <td>166</td>\n      <td>8.82349967956543</td>\n      <td>8.73069953918457</td>\n      <td>8.675971984863281</td>\n    </tr>\n    <tr>\n      <th>38</th>\n      <td>Steel Ball Run (manga)</td>\n      <td>26</td>\n      <td>68</td>\n      <td>8.46150016784668</td>\n      <td>8.807299613952637</td>\n      <td>8.665740013122559</td>\n    </tr>\n    <tr>\n      <th>39</th>\n      <td>Town of Evening Calm, Country of Cherry Blosso...</td>\n      <td>100</td>\n      <td>129</td>\n      <td>8.760000228881836</td>\n      <td>8.697799682617188</td>\n      <td>8.661176681518555</td>\n    </tr>\n    <tr>\n      <th>40</th>\n      <td>Ōoku: The Inner Chambers (manga)</td>\n      <td>42</td>\n      <td>99</td>\n      <td>8.714300155639648</td>\n      <td>8.74470043182373</td>\n      <td>8.657821655273438</td>\n    </tr>\n    <tr>\n      <th>41</th>\n      <td>Children of the Sea (manga)</td>\n      <td>36</td>\n      <td>87</td>\n      <td>8.722200393676758</td>\n      <td>8.735600471496582</td>\n      <td>8.636600494384766</td>\n    </tr>\n    <tr>\n      <th>42</th>\n      <td>Message to Adolf (manga)</td>\n      <td>87</td>\n      <td>170</td>\n      <td>8.540200233459473</td>\n      <td>8.662400245666504</td>\n      <td>8.622101783752441</td>\n    </tr>\n    <tr>\n      <th>43</th>\n      <td>Heart of Thomas (manga)</td>\n      <td>30</td>\n      <td>44</td>\n      <td>8.566699981689453</td>\n      <td>8.73550033569336</td>\n      <td>8.619041442871094</td>\n    </tr>\n    <tr>\n      <th>44</th>\n      <td>Saikano (manga)</td>\n      <td>239</td>\n      <td>502</td>\n      <td>8.682000160217285</td>\n      <td>8.630900382995605</td>\n      <td>8.616327285766602</td>\n    </tr>\n    <tr>\n      <th>45</th>\n      <td>Stigma (manga)</td>\n      <td>41</td>\n      <td>68</td>\n      <td>8.439000129699707</td>\n      <td>8.688599586486816</td>\n      <td>8.604777336120605</td>\n    </tr>\n    <tr>\n      <th>46</th>\n      <td>Ancient Magus' Bride (manga)</td>\n      <td>28</td>\n      <td>105</td>\n      <td>8.607099533081055</td>\n      <td>8.725899696350098</td>\n      <td>8.603362083435059</td>\n    </tr>\n    <tr>\n      <th>47</th>\n      <td>Genshiken (manga)</td>\n      <td>426</td>\n      <td>894</td>\n      <td>8.650199890136719</td>\n      <td>8.593500137329102</td>\n      <td>8.585612297058105</td>\n    </tr>\n    <tr>\n      <th>48</th>\n      <td>Historie (manga)</td>\n      <td>54</td>\n      <td>98</td>\n      <td>8.703700065612793</td>\n      <td>8.644599914550781</td>\n      <td>8.582599639892578</td>\n    </tr>\n    <tr>\n      <th>49</th>\n      <td>Ode to Kirihito (manga)</td>\n      <td>80</td>\n      <td>120</td>\n      <td>8.649999618530273</td>\n      <td>8.6225004196167</td>\n      <td>8.580742835998535</td>\n    </tr>\n  </tbody>\n</table>\n</div>"
     },
     "metadata": {},
     "execution_count": 7
    }
   ],
   "source": [
    "manga_df"
   ]
  },
  {
   "cell_type": "code",
   "execution_count": 8,
   "metadata": {},
   "outputs": [
    {
     "output_type": "execute_result",
     "data": {
      "text/plain": "   anime_id                              name  \\\n0     32281                    Kimi no Na wa.   \n1      5114  Fullmetal Alchemist: Brotherhood   \n2     28977                          Gintama°   \n3      9253                       Steins;Gate   \n4      9969                     Gintama&#039;   \n\n                                               genre   type episodes  rating  \\\n0               Drama, Romance, School, Supernatural  Movie        1    9.37   \n1  Action, Adventure, Drama, Fantasy, Magic, Mili...     TV       64    9.26   \n2  Action, Comedy, Historical, Parody, Samurai, S...     TV       51    9.25   \n3                                   Sci-Fi, Thriller     TV       24    9.17   \n4  Action, Comedy, Historical, Parody, Samurai, S...     TV       51    9.16   \n\n   members  \n0   200630  \n1   793665  \n2   114262  \n3   673572  \n4   151266  ",
      "text/html": "<div>\n<style scoped>\n    .dataframe tbody tr th:only-of-type {\n        vertical-align: middle;\n    }\n\n    .dataframe tbody tr th {\n        vertical-align: top;\n    }\n\n    .dataframe thead th {\n        text-align: right;\n    }\n</style>\n<table border=\"1\" class=\"dataframe\">\n  <thead>\n    <tr style=\"text-align: right;\">\n      <th></th>\n      <th>anime_id</th>\n      <th>name</th>\n      <th>genre</th>\n      <th>type</th>\n      <th>episodes</th>\n      <th>rating</th>\n      <th>members</th>\n    </tr>\n  </thead>\n  <tbody>\n    <tr>\n      <th>0</th>\n      <td>32281</td>\n      <td>Kimi no Na wa.</td>\n      <td>Drama, Romance, School, Supernatural</td>\n      <td>Movie</td>\n      <td>1</td>\n      <td>9.37</td>\n      <td>200630</td>\n    </tr>\n    <tr>\n      <th>1</th>\n      <td>5114</td>\n      <td>Fullmetal Alchemist: Brotherhood</td>\n      <td>Action, Adventure, Drama, Fantasy, Magic, Mili...</td>\n      <td>TV</td>\n      <td>64</td>\n      <td>9.26</td>\n      <td>793665</td>\n    </tr>\n    <tr>\n      <th>2</th>\n      <td>28977</td>\n      <td>Gintama°</td>\n      <td>Action, Comedy, Historical, Parody, Samurai, S...</td>\n      <td>TV</td>\n      <td>51</td>\n      <td>9.25</td>\n      <td>114262</td>\n    </tr>\n    <tr>\n      <th>3</th>\n      <td>9253</td>\n      <td>Steins;Gate</td>\n      <td>Sci-Fi, Thriller</td>\n      <td>TV</td>\n      <td>24</td>\n      <td>9.17</td>\n      <td>673572</td>\n    </tr>\n    <tr>\n      <th>4</th>\n      <td>9969</td>\n      <td>Gintama&amp;#039;</td>\n      <td>Action, Comedy, Historical, Parody, Samurai, S...</td>\n      <td>TV</td>\n      <td>51</td>\n      <td>9.16</td>\n      <td>151266</td>\n    </tr>\n  </tbody>\n</table>\n</div>"
     },
     "metadata": {},
     "execution_count": 8
    }
   ],
   "source": [
    "csv_anime= \"resources/anime.csv\"\n",
    "data_df = pd.read_csv(csv_anime)\n",
    "data_df.head()"
   ]
  },
  {
   "cell_type": "code",
   "execution_count": 9,
   "metadata": {},
   "outputs": [],
   "source": [
    "data_df[\"genre\"] = data_df.genre.astype(str)"
   ]
  },
  {
   "cell_type": "code",
   "execution_count": 10,
   "metadata": {},
   "outputs": [
    {
     "output_type": "execute_result",
     "data": {
      "text/plain": "anime_id      int64\nname         object\ngenre        object\ntype         object\nepisodes     object\nrating      float64\nmembers       int64\ndtype: object"
     },
     "metadata": {},
     "execution_count": 10
    }
   ],
   "source": [
    "data_df.dtypes"
   ]
  },
  {
   "cell_type": "code",
   "execution_count": 11,
   "metadata": {},
   "outputs": [
    {
     "output_type": "execute_result",
     "data": {
      "text/plain": "                                      anime nb_votes nb_seen  \\\n0     Fullmetal Alchemist: Brotherhood (TV)     5815   10858   \n1                        your name. (movie)     1100    1481   \n2                          Steins;Gate (TV)     4655    6811   \n3                  Clannad After Story (TV)     5180    8361   \n4   Rurouni Kenshin: Trust & Betrayal (OAV)     6649   10385   \n..                                      ...      ...     ...   \n95                                      NaN       41      68   \n96                                      NaN       28     105   \n97                                      NaN      426     894   \n98                                      NaN       54      98   \n99                                      NaN       80     120   \n\n     straight_average   weighted_average   bayesian_average  \\\n0   9.106100082397461  9.095100402832031  9.091821670532227   \n1   9.104499816894531  9.087200164794922   9.07010269165039   \n2   9.138099670410156  9.059100151062012  9.055098533630371   \n3   8.951000213623047  9.055299758911133  9.051711082458496   \n4   8.923399925231934  8.972299575805664   8.96965217590332   \n..                ...                ...                ...   \n95  8.439000129699707  8.688599586486816  8.604777336120605   \n96  8.607099533081055  8.725899696350098  8.603362083435059   \n97  8.650199890136719  8.593500137329102  8.585612297058105   \n98  8.703700065612793  8.644599914550781  8.582599639892578   \n99  8.649999618530273    8.6225004196167  8.580742835998535   \n\n                           manga  \n0                            NaN  \n1                            NaN  \n2                            NaN  \n3                            NaN  \n4                            NaN  \n..                           ...  \n95                Stigma (manga)  \n96  Ancient Magus' Bride (manga)  \n97             Genshiken (manga)  \n98              Historie (manga)  \n99       Ode to Kirihito (manga)  \n\n[100 rows x 7 columns]",
      "text/html": "<div>\n<style scoped>\n    .dataframe tbody tr th:only-of-type {\n        vertical-align: middle;\n    }\n\n    .dataframe tbody tr th {\n        vertical-align: top;\n    }\n\n    .dataframe thead th {\n        text-align: right;\n    }\n</style>\n<table border=\"1\" class=\"dataframe\">\n  <thead>\n    <tr style=\"text-align: right;\">\n      <th></th>\n      <th>anime</th>\n      <th>nb_votes</th>\n      <th>nb_seen</th>\n      <th>straight_average</th>\n      <th>weighted_average</th>\n      <th>bayesian_average</th>\n      <th>manga</th>\n    </tr>\n  </thead>\n  <tbody>\n    <tr>\n      <th>0</th>\n      <td>Fullmetal Alchemist: Brotherhood (TV)</td>\n      <td>5815</td>\n      <td>10858</td>\n      <td>9.106100082397461</td>\n      <td>9.095100402832031</td>\n      <td>9.091821670532227</td>\n      <td>NaN</td>\n    </tr>\n    <tr>\n      <th>1</th>\n      <td>your name. (movie)</td>\n      <td>1100</td>\n      <td>1481</td>\n      <td>9.104499816894531</td>\n      <td>9.087200164794922</td>\n      <td>9.07010269165039</td>\n      <td>NaN</td>\n    </tr>\n    <tr>\n      <th>2</th>\n      <td>Steins;Gate (TV)</td>\n      <td>4655</td>\n      <td>6811</td>\n      <td>9.138099670410156</td>\n      <td>9.059100151062012</td>\n      <td>9.055098533630371</td>\n      <td>NaN</td>\n    </tr>\n    <tr>\n      <th>3</th>\n      <td>Clannad After Story (TV)</td>\n      <td>5180</td>\n      <td>8361</td>\n      <td>8.951000213623047</td>\n      <td>9.055299758911133</td>\n      <td>9.051711082458496</td>\n      <td>NaN</td>\n    </tr>\n    <tr>\n      <th>4</th>\n      <td>Rurouni Kenshin: Trust &amp; Betrayal (OAV)</td>\n      <td>6649</td>\n      <td>10385</td>\n      <td>8.923399925231934</td>\n      <td>8.972299575805664</td>\n      <td>8.96965217590332</td>\n      <td>NaN</td>\n    </tr>\n    <tr>\n      <th>...</th>\n      <td>...</td>\n      <td>...</td>\n      <td>...</td>\n      <td>...</td>\n      <td>...</td>\n      <td>...</td>\n      <td>...</td>\n    </tr>\n    <tr>\n      <th>95</th>\n      <td>NaN</td>\n      <td>41</td>\n      <td>68</td>\n      <td>8.439000129699707</td>\n      <td>8.688599586486816</td>\n      <td>8.604777336120605</td>\n      <td>Stigma (manga)</td>\n    </tr>\n    <tr>\n      <th>96</th>\n      <td>NaN</td>\n      <td>28</td>\n      <td>105</td>\n      <td>8.607099533081055</td>\n      <td>8.725899696350098</td>\n      <td>8.603362083435059</td>\n      <td>Ancient Magus' Bride (manga)</td>\n    </tr>\n    <tr>\n      <th>97</th>\n      <td>NaN</td>\n      <td>426</td>\n      <td>894</td>\n      <td>8.650199890136719</td>\n      <td>8.593500137329102</td>\n      <td>8.585612297058105</td>\n      <td>Genshiken (manga)</td>\n    </tr>\n    <tr>\n      <th>98</th>\n      <td>NaN</td>\n      <td>54</td>\n      <td>98</td>\n      <td>8.703700065612793</td>\n      <td>8.644599914550781</td>\n      <td>8.582599639892578</td>\n      <td>Historie (manga)</td>\n    </tr>\n    <tr>\n      <th>99</th>\n      <td>NaN</td>\n      <td>80</td>\n      <td>120</td>\n      <td>8.649999618530273</td>\n      <td>8.6225004196167</td>\n      <td>8.580742835998535</td>\n      <td>Ode to Kirihito (manga)</td>\n    </tr>\n  </tbody>\n</table>\n<p>100 rows × 7 columns</p>\n</div>"
     },
     "metadata": {},
     "execution_count": 11
    }
   ],
   "source": [
    "list_df = anime_df.merge(manga_df, how='outer')\n",
    "list_df\n"
   ]
  },
  {
   "cell_type": "code",
   "execution_count": 12,
   "metadata": {},
   "outputs": [
    {
     "output_type": "execute_result",
     "data": {
      "text/plain": "anime               object\nnb_votes            object\nnb_seen             object\nstraight_average    object\nweighted_average    object\nbayesian_average    object\nmanga               object\ndtype: object"
     },
     "metadata": {},
     "execution_count": 12
    }
   ],
   "source": [
    "list_df.dtypes"
   ]
  },
  {
   "cell_type": "code",
   "execution_count": 13,
   "metadata": {},
   "outputs": [],
   "source": [
    "list_df[\"nb_votes\"] = list_df.nb_votes.astype(float)"
   ]
  },
  {
   "cell_type": "code",
   "execution_count": 14,
   "metadata": {},
   "outputs": [],
   "source": [
    "list_df[\"nb_seen\"] = list_df.nb_seen.astype(float)"
   ]
  },
  {
   "cell_type": "code",
   "execution_count": 15,
   "metadata": {},
   "outputs": [],
   "source": [
    "list_df[\"straight_average\"] = list_df.straight_average.astype(float)"
   ]
  },
  {
   "cell_type": "code",
   "execution_count": 16,
   "metadata": {},
   "outputs": [],
   "source": [
    "list_df[\"weighted_average\"] = list_df.weighted_average.astype(float)"
   ]
  },
  {
   "cell_type": "code",
   "execution_count": 17,
   "metadata": {},
   "outputs": [],
   "source": [
    "list_df[\"bayesian_average\"] = list_df.bayesian_average.astype(float)"
   ]
  },
  {
   "cell_type": "code",
   "execution_count": 18,
   "metadata": {},
   "outputs": [
    {
     "output_type": "execute_result",
     "data": {
      "text/plain": "anime                object\nnb_votes            float64\nnb_seen             float64\nstraight_average    float64\nweighted_average    float64\nbayesian_average    float64\nmanga                object\ndtype: object"
     },
     "metadata": {},
     "execution_count": 18
    }
   ],
   "source": [
    "list_df.dtypes"
   ]
  },
  {
   "cell_type": "code",
   "execution_count": 19,
   "metadata": {},
   "outputs": [
    {
     "output_type": "execute_result",
     "data": {
      "text/plain": "               anime  nb_votes  nb_seen  straight_average  weighted_average  \\\n86               NaN       6.0     11.0            9.3333            9.3190   \n50               NaN    1255.0   2320.0            9.2892            9.2507   \n53               NaN     239.0    447.0            9.2050            9.1778   \n52               NaN     630.0   1063.0            9.1762            9.2113   \n2   Steins;Gate (TV)    4655.0   6811.0            9.1381            9.0591   \n..               ...       ...      ...               ...               ...   \n68               NaN      69.0    172.0            8.4203            8.8352   \n54               NaN     354.0    541.0            8.4124            9.0806   \n80               NaN      17.0     31.0            8.4118            8.9472   \n76               NaN     126.0    248.0            8.3333            8.7759   \n77               NaN      11.0     21.0            8.2727            9.0845   \n\n    bayesian_average                                       manga  \n86          8.689640           Showa: A History of Japan (manga)  \n50          9.245918                             Berserk (manga)  \n53          9.154224                        Vinland Saga (manga)  \n52          9.202052  Nausicaä of the Valley of the Wind (manga)  \n2           9.055099                                         NaN  \n..               ...                                         ...  \n68          8.775496                             Phoenix (manga)  \n54          9.065683             Yokohama Kaidashi Kikou (manga)  \n80          8.718324                       Drifting Life (manga)  \n76          8.744199                              Buddha (manga)  \n77          8.727460                 Kanojo no Omoide... (manga)  \n\n[100 rows x 7 columns]",
      "text/html": "<div>\n<style scoped>\n    .dataframe tbody tr th:only-of-type {\n        vertical-align: middle;\n    }\n\n    .dataframe tbody tr th {\n        vertical-align: top;\n    }\n\n    .dataframe thead th {\n        text-align: right;\n    }\n</style>\n<table border=\"1\" class=\"dataframe\">\n  <thead>\n    <tr style=\"text-align: right;\">\n      <th></th>\n      <th>anime</th>\n      <th>nb_votes</th>\n      <th>nb_seen</th>\n      <th>straight_average</th>\n      <th>weighted_average</th>\n      <th>bayesian_average</th>\n      <th>manga</th>\n    </tr>\n  </thead>\n  <tbody>\n    <tr>\n      <th>86</th>\n      <td>NaN</td>\n      <td>6.0</td>\n      <td>11.0</td>\n      <td>9.3333</td>\n      <td>9.3190</td>\n      <td>8.689640</td>\n      <td>Showa: A History of Japan (manga)</td>\n    </tr>\n    <tr>\n      <th>50</th>\n      <td>NaN</td>\n      <td>1255.0</td>\n      <td>2320.0</td>\n      <td>9.2892</td>\n      <td>9.2507</td>\n      <td>9.245918</td>\n      <td>Berserk (manga)</td>\n    </tr>\n    <tr>\n      <th>53</th>\n      <td>NaN</td>\n      <td>239.0</td>\n      <td>447.0</td>\n      <td>9.2050</td>\n      <td>9.1778</td>\n      <td>9.154224</td>\n      <td>Vinland Saga (manga)</td>\n    </tr>\n    <tr>\n      <th>52</th>\n      <td>NaN</td>\n      <td>630.0</td>\n      <td>1063.0</td>\n      <td>9.1762</td>\n      <td>9.2113</td>\n      <td>9.202052</td>\n      <td>Nausicaä of the Valley of the Wind (manga)</td>\n    </tr>\n    <tr>\n      <th>2</th>\n      <td>Steins;Gate (TV)</td>\n      <td>4655.0</td>\n      <td>6811.0</td>\n      <td>9.1381</td>\n      <td>9.0591</td>\n      <td>9.055099</td>\n      <td>NaN</td>\n    </tr>\n    <tr>\n      <th>...</th>\n      <td>...</td>\n      <td>...</td>\n      <td>...</td>\n      <td>...</td>\n      <td>...</td>\n      <td>...</td>\n      <td>...</td>\n    </tr>\n    <tr>\n      <th>68</th>\n      <td>NaN</td>\n      <td>69.0</td>\n      <td>172.0</td>\n      <td>8.4203</td>\n      <td>8.8352</td>\n      <td>8.775496</td>\n      <td>Phoenix (manga)</td>\n    </tr>\n    <tr>\n      <th>54</th>\n      <td>NaN</td>\n      <td>354.0</td>\n      <td>541.0</td>\n      <td>8.4124</td>\n      <td>9.0806</td>\n      <td>9.065683</td>\n      <td>Yokohama Kaidashi Kikou (manga)</td>\n    </tr>\n    <tr>\n      <th>80</th>\n      <td>NaN</td>\n      <td>17.0</td>\n      <td>31.0</td>\n      <td>8.4118</td>\n      <td>8.9472</td>\n      <td>8.718324</td>\n      <td>Drifting Life (manga)</td>\n    </tr>\n    <tr>\n      <th>76</th>\n      <td>NaN</td>\n      <td>126.0</td>\n      <td>248.0</td>\n      <td>8.3333</td>\n      <td>8.7759</td>\n      <td>8.744199</td>\n      <td>Buddha (manga)</td>\n    </tr>\n    <tr>\n      <th>77</th>\n      <td>NaN</td>\n      <td>11.0</td>\n      <td>21.0</td>\n      <td>8.2727</td>\n      <td>9.0845</td>\n      <td>8.727460</td>\n      <td>Kanojo no Omoide... (manga)</td>\n    </tr>\n  </tbody>\n</table>\n<p>100 rows × 7 columns</p>\n</div>"
     },
     "metadata": {},
     "execution_count": 19
    }
   ],
   "source": [
    "list_df.sort_values(by=['straight_average'], inplace=True, ascending=False)\n",
    "list_df"
   ]
  },
  {
   "cell_type": "code",
   "execution_count": 20,
   "metadata": {},
   "outputs": [
    {
     "output_type": "execute_result",
     "data": {
      "text/plain": "               anime                                       manga  nb_votes  \\\n86               NaN           Showa: A History of Japan (manga)       6.0   \n50               NaN                             Berserk (manga)    1255.0   \n53               NaN                        Vinland Saga (manga)     239.0   \n52               NaN  Nausicaä of the Valley of the Wind (manga)     630.0   \n2   Steins;Gate (TV)                                         NaN    4655.0   \n..               ...                                         ...       ...   \n68               NaN                             Phoenix (manga)      69.0   \n54               NaN             Yokohama Kaidashi Kikou (manga)     354.0   \n80               NaN                       Drifting Life (manga)      17.0   \n76               NaN                              Buddha (manga)     126.0   \n77               NaN                 Kanojo no Omoide... (manga)      11.0   \n\n    nb_seen  straight_average  weighted_average  bayesian_average  \n86     11.0            9.3333            9.3190          8.689640  \n50   2320.0            9.2892            9.2507          9.245918  \n53    447.0            9.2050            9.1778          9.154224  \n52   1063.0            9.1762            9.2113          9.202052  \n2    6811.0            9.1381            9.0591          9.055099  \n..      ...               ...               ...               ...  \n68    172.0            8.4203            8.8352          8.775496  \n54    541.0            8.4124            9.0806          9.065683  \n80     31.0            8.4118            8.9472          8.718324  \n76    248.0            8.3333            8.7759          8.744199  \n77     21.0            8.2727            9.0845          8.727460  \n\n[100 rows x 7 columns]",
      "text/html": "<div>\n<style scoped>\n    .dataframe tbody tr th:only-of-type {\n        vertical-align: middle;\n    }\n\n    .dataframe tbody tr th {\n        vertical-align: top;\n    }\n\n    .dataframe thead th {\n        text-align: right;\n    }\n</style>\n<table border=\"1\" class=\"dataframe\">\n  <thead>\n    <tr style=\"text-align: right;\">\n      <th></th>\n      <th>anime</th>\n      <th>manga</th>\n      <th>nb_votes</th>\n      <th>nb_seen</th>\n      <th>straight_average</th>\n      <th>weighted_average</th>\n      <th>bayesian_average</th>\n    </tr>\n  </thead>\n  <tbody>\n    <tr>\n      <th>86</th>\n      <td>NaN</td>\n      <td>Showa: A History of Japan (manga)</td>\n      <td>6.0</td>\n      <td>11.0</td>\n      <td>9.3333</td>\n      <td>9.3190</td>\n      <td>8.689640</td>\n    </tr>\n    <tr>\n      <th>50</th>\n      <td>NaN</td>\n      <td>Berserk (manga)</td>\n      <td>1255.0</td>\n      <td>2320.0</td>\n      <td>9.2892</td>\n      <td>9.2507</td>\n      <td>9.245918</td>\n    </tr>\n    <tr>\n      <th>53</th>\n      <td>NaN</td>\n      <td>Vinland Saga (manga)</td>\n      <td>239.0</td>\n      <td>447.0</td>\n      <td>9.2050</td>\n      <td>9.1778</td>\n      <td>9.154224</td>\n    </tr>\n    <tr>\n      <th>52</th>\n      <td>NaN</td>\n      <td>Nausicaä of the Valley of the Wind (manga)</td>\n      <td>630.0</td>\n      <td>1063.0</td>\n      <td>9.1762</td>\n      <td>9.2113</td>\n      <td>9.202052</td>\n    </tr>\n    <tr>\n      <th>2</th>\n      <td>Steins;Gate (TV)</td>\n      <td>NaN</td>\n      <td>4655.0</td>\n      <td>6811.0</td>\n      <td>9.1381</td>\n      <td>9.0591</td>\n      <td>9.055099</td>\n    </tr>\n    <tr>\n      <th>...</th>\n      <td>...</td>\n      <td>...</td>\n      <td>...</td>\n      <td>...</td>\n      <td>...</td>\n      <td>...</td>\n      <td>...</td>\n    </tr>\n    <tr>\n      <th>68</th>\n      <td>NaN</td>\n      <td>Phoenix (manga)</td>\n      <td>69.0</td>\n      <td>172.0</td>\n      <td>8.4203</td>\n      <td>8.8352</td>\n      <td>8.775496</td>\n    </tr>\n    <tr>\n      <th>54</th>\n      <td>NaN</td>\n      <td>Yokohama Kaidashi Kikou (manga)</td>\n      <td>354.0</td>\n      <td>541.0</td>\n      <td>8.4124</td>\n      <td>9.0806</td>\n      <td>9.065683</td>\n    </tr>\n    <tr>\n      <th>80</th>\n      <td>NaN</td>\n      <td>Drifting Life (manga)</td>\n      <td>17.0</td>\n      <td>31.0</td>\n      <td>8.4118</td>\n      <td>8.9472</td>\n      <td>8.718324</td>\n    </tr>\n    <tr>\n      <th>76</th>\n      <td>NaN</td>\n      <td>Buddha (manga)</td>\n      <td>126.0</td>\n      <td>248.0</td>\n      <td>8.3333</td>\n      <td>8.7759</td>\n      <td>8.744199</td>\n    </tr>\n    <tr>\n      <th>77</th>\n      <td>NaN</td>\n      <td>Kanojo no Omoide... (manga)</td>\n      <td>11.0</td>\n      <td>21.0</td>\n      <td>8.2727</td>\n      <td>9.0845</td>\n      <td>8.727460</td>\n    </tr>\n  </tbody>\n</table>\n<p>100 rows × 7 columns</p>\n</div>"
     },
     "metadata": {},
     "execution_count": 20
    }
   ],
   "source": [
    "list_df2= list_df[['anime', 'manga', 'nb_votes', 'nb_seen', 'straight_average', 'weighted_average', 'bayesian_average']]\n",
    "list_df2"
   ]
  },
  {
   "cell_type": "code",
   "execution_count": 21,
   "metadata": {},
   "outputs": [
    {
     "output_type": "execute_result",
     "data": {
      "text/plain": "                        anime                              manga  nb_votes  \\\n32   Fullmetal Alchemist (TV)                                NaN   13436.0   \n14            Death Note (TV)                                NaN   12911.0   \n8           Cowboy Bebop (TV)                                NaN   12243.0   \n9   Princess Mononoke (movie)                                NaN    9835.0   \n6       Spirited Away (movie)                                NaN   10546.0   \n..                        ...                                ...       ...   \n93                        NaN            Heart of Thomas (manga)      30.0   \n80                        NaN              Drifting Life (manga)      17.0   \n77                        NaN        Kanojo no Omoide... (manga)      11.0   \n67                        NaN   Kaguya-sama: Love is War (manga)       8.0   \n86                        NaN  Showa: A History of Japan (manga)       6.0   \n\n    nb_seen  straight_average  weighted_average  bayesian_average  \n32  23626.0            8.7289            8.6499          8.648877  \n14  22216.0            8.8633            8.7815          8.780313  \n8   21026.0            8.9331            8.8951          8.893736  \n9   15401.0            8.9281            8.8650          8.863339  \n6   15397.0            8.9698            8.9262          8.924582  \n..      ...               ...               ...               ...  \n93     44.0            8.5667            8.7355          8.619041  \n80     31.0            8.4118            8.9472          8.718324  \n77     21.0            8.2727            9.0845          8.727460  \n67     18.0            8.8750            9.3095          8.788199  \n86     11.0            9.3333            9.3190          8.689640  \n\n[100 rows x 7 columns]",
      "text/html": "<div>\n<style scoped>\n    .dataframe tbody tr th:only-of-type {\n        vertical-align: middle;\n    }\n\n    .dataframe tbody tr th {\n        vertical-align: top;\n    }\n\n    .dataframe thead th {\n        text-align: right;\n    }\n</style>\n<table border=\"1\" class=\"dataframe\">\n  <thead>\n    <tr style=\"text-align: right;\">\n      <th></th>\n      <th>anime</th>\n      <th>manga</th>\n      <th>nb_votes</th>\n      <th>nb_seen</th>\n      <th>straight_average</th>\n      <th>weighted_average</th>\n      <th>bayesian_average</th>\n    </tr>\n  </thead>\n  <tbody>\n    <tr>\n      <th>32</th>\n      <td>Fullmetal Alchemist (TV)</td>\n      <td>NaN</td>\n      <td>13436.0</td>\n      <td>23626.0</td>\n      <td>8.7289</td>\n      <td>8.6499</td>\n      <td>8.648877</td>\n    </tr>\n    <tr>\n      <th>14</th>\n      <td>Death Note (TV)</td>\n      <td>NaN</td>\n      <td>12911.0</td>\n      <td>22216.0</td>\n      <td>8.8633</td>\n      <td>8.7815</td>\n      <td>8.780313</td>\n    </tr>\n    <tr>\n      <th>8</th>\n      <td>Cowboy Bebop (TV)</td>\n      <td>NaN</td>\n      <td>12243.0</td>\n      <td>21026.0</td>\n      <td>8.9331</td>\n      <td>8.8951</td>\n      <td>8.893736</td>\n    </tr>\n    <tr>\n      <th>9</th>\n      <td>Princess Mononoke (movie)</td>\n      <td>NaN</td>\n      <td>9835.0</td>\n      <td>15401.0</td>\n      <td>8.9281</td>\n      <td>8.8650</td>\n      <td>8.863339</td>\n    </tr>\n    <tr>\n      <th>6</th>\n      <td>Spirited Away (movie)</td>\n      <td>NaN</td>\n      <td>10546.0</td>\n      <td>15397.0</td>\n      <td>8.9698</td>\n      <td>8.9262</td>\n      <td>8.924582</td>\n    </tr>\n    <tr>\n      <th>...</th>\n      <td>...</td>\n      <td>...</td>\n      <td>...</td>\n      <td>...</td>\n      <td>...</td>\n      <td>...</td>\n      <td>...</td>\n    </tr>\n    <tr>\n      <th>93</th>\n      <td>NaN</td>\n      <td>Heart of Thomas (manga)</td>\n      <td>30.0</td>\n      <td>44.0</td>\n      <td>8.5667</td>\n      <td>8.7355</td>\n      <td>8.619041</td>\n    </tr>\n    <tr>\n      <th>80</th>\n      <td>NaN</td>\n      <td>Drifting Life (manga)</td>\n      <td>17.0</td>\n      <td>31.0</td>\n      <td>8.4118</td>\n      <td>8.9472</td>\n      <td>8.718324</td>\n    </tr>\n    <tr>\n      <th>77</th>\n      <td>NaN</td>\n      <td>Kanojo no Omoide... (manga)</td>\n      <td>11.0</td>\n      <td>21.0</td>\n      <td>8.2727</td>\n      <td>9.0845</td>\n      <td>8.727460</td>\n    </tr>\n    <tr>\n      <th>67</th>\n      <td>NaN</td>\n      <td>Kaguya-sama: Love is War (manga)</td>\n      <td>8.0</td>\n      <td>18.0</td>\n      <td>8.8750</td>\n      <td>9.3095</td>\n      <td>8.788199</td>\n    </tr>\n    <tr>\n      <th>86</th>\n      <td>NaN</td>\n      <td>Showa: A History of Japan (manga)</td>\n      <td>6.0</td>\n      <td>11.0</td>\n      <td>9.3333</td>\n      <td>9.3190</td>\n      <td>8.689640</td>\n    </tr>\n  </tbody>\n</table>\n<p>100 rows × 7 columns</p>\n</div>"
     },
     "metadata": {},
     "execution_count": 21
    }
   ],
   "source": [
    "list_df2.sort_values(by=['nb_seen', 'straight_average'], inplace=True, ascending=False)\n",
    "list_df2"
   ]
  },
  {
   "cell_type": "code",
   "execution_count": 22,
   "metadata": {},
   "outputs": [],
   "source": [
    ">>> list_df2.to_html('Mergedlist.html')"
   ]
  },
  {
   "cell_type": "code",
   "execution_count": 23,
   "metadata": {},
   "outputs": [],
   "source": [
    "anime_df2=anime_df"
   ]
  },
  {
   "cell_type": "code",
   "execution_count": 24,
   "metadata": {},
   "outputs": [],
   "source": [
    "anime_df2[\"nb_votes\"] = anime_df2.nb_votes.astype(float)\n",
    "anime_df2[\"nb_seen\"] = anime_df2.nb_seen.astype(float)\n",
    "anime_df2[\"straight_average\"] = anime_df2.straight_average.astype(float)"
   ]
  },
  {
   "cell_type": "code",
   "execution_count": 25,
   "metadata": {},
   "outputs": [
    {
     "output_type": "display_data",
     "data": {
      "application/vnd.plotly.v1+json": {
       "config": {
        "plotlyServerURL": "https://plot.ly"
       },
       "data": [
        {
         "branchvalues": "total",
         "customdata": [
          [
           8203,
           5777,
           8.693099975585938
          ],
          [
           624,
           279,
           8.677399635314941
          ],
          [
           6990,
           4198,
           8.673399925231934
          ],
          [
           2667,
           1801,
           8.789600372314453
          ],
          [
           8361,
           5180,
           8.951000213623047
          ],
          [
           15212,
           9181,
           8.854399681091309
          ],
          [
           12551,
           7868,
           9.020099639892578
          ],
          [
           21026,
           12243,
           8.933099746704102
          ],
          [
           1060,
           688,
           8.780500411987305
          ],
          [
           22216,
           12911,
           8.863300323486328
          ],
          [
           260,
           182,
           8.818699836730957
          ],
          [
           4029,
           2792,
           8.868599891662598
          ],
          [
           3359,
           2090,
           8.775099754333496
          ],
          [
           2824,
           1628,
           8.746299743652344
          ],
          [
           23626,
           13436,
           8.728899955749512
          ],
          [
           10858,
           5815,
           9.106100082397461
          ],
          [
           2700,
           1702,
           8.7121000289917
          ],
          [
           4892,
           2597,
           8.749300003051758
          ],
          [
           291,
           151,
           8.768199920654297
          ],
          [
           888,
           432,
           8.740699768066406
          ],
          [
           482,
           262,
           8.561100006103516
          ],
          [
           257,
           166,
           8.710800170898438
          ],
          [
           7766,
           5537,
           8.671099662780762
          ],
          [
           6925,
           4593,
           8.707799911499023
          ],
          [
           11421,
           6975,
           8.735300064086914
          ],
          [
           1206,
           715,
           8.630800247192383
          ],
          [
           3089,
           2053,
           8.569899559020996
          ],
          [
           1997,
           1043,
           8.69890022277832
          ],
          [
           5693,
           3643,
           8.641799926757812
          ],
          [
           1141,
           726,
           8.785099983215332
          ],
          [
           883,
           644,
           8.807499885559082
          ],
          [
           1044,
           726,
           8.7947998046875
          ],
          [
           722,
           511,
           8.747599601745605
          ],
          [
           1820,
           1343,
           8.829500198364258
          ],
          [
           5781,
           3472,
           8.76669979095459
          ],
          [
           8163,
           4995,
           8.803199768066406
          ],
          [
           848,
           512,
           8.824199676513672
          ],
          [
           7403,
           4686,
           8.653200149536133
          ],
          [
           1005,
           579,
           8.644200325012207
          ],
          [
           7898,
           5066,
           8.678999900817871
          ],
          [
           4331,
           2772,
           8.666299819946289
          ],
          [
           15401,
           9835,
           8.928099632263184
          ],
          [
           10385,
           6649,
           8.923399925231934
          ],
          [
           764,
           559,
           8.856900215148926
          ],
          [
           15397,
           10546,
           8.969799995422363
          ],
          [
           6811,
           4655,
           9.138099670410156
          ],
          [
           4573,
           3400,
           8.743800163269043
          ],
          [
           1631,
           1159,
           8.65310001373291
          ],
          [
           4878,
           3235,
           8.786100387573242
          ],
          [
           1481,
           1100,
           9.104499816894531
          ]
         ],
         "domain": {
          "x": [
           0,
           1
          ],
          "y": [
           0,
           1
          ]
         },
         "hovertemplate": "labels=%{label}<br>nb_seen=%{customdata[0]}<br>parent=%{parent}<br>id=%{id}<br>nb_votes=%{customdata[1]}<br>straight_average=%{color}<extra></extra>",
         "ids": [
          "5 Centimeters Per Second (movie)",
          "Attack on Titan (TV 4/2019)",
          "Baccano! (TV)",
          "Bunny Drop (TV)",
          "Clannad After Story (TV)",
          "Code Geass: Lelouch of the Rebellion (TV)",
          "Code Geass: Lelouch of the Rebellion R2 (TV)",
          "Cowboy Bebop (TV)",
          "Cross Game (TV)",
          "Death Note (TV)",
          "Descending Stories: Showa Genroku Rakugo Shinju (TV)",
          "Disappearance of Haruhi Suzumiya (movie)",
          "Evangelion: 2.0 You Can (Not) Advance (movie)",
          "Fighting Spirit (TV)",
          "Fullmetal Alchemist (TV)",
          "Fullmetal Alchemist: Brotherhood (TV)",
          "Garden of Sinners (movie series)",
          "Ghost in the Shell: Stand Alone Complex 2nd GIG (TV)",
          "Gintama (TV 4/2015)",
          "Gintama' (TV 2/2011)",
          "Gintama' (TV 3/2012)",
          "Gintama: The Final Movie (movie)",
          "Girl Who Leapt Through Time (movie)",
          "Grave of the Fireflies (movie)",
          "Gurren Lagann (TV)",
          "Hajime no Ippo: New Challenger (TV)",
          "Honey and Clover II (TV)",
          "Hunter × Hunter (TV 2011)",
          "Kanon (TV 2/2006)",
          "Legend of the Galactic Heroes (OAV)",
          "Made in Abyss (TV)",
          "Maria Watches Over Us 3rd Season (OAV)",
          "Maria Watches Over Us 4th Season (TV)",
          "Maria Watches Over Us Season 2: Printemps (TV)",
          "Monster (TV)",
          "Mushi-Shi (TV)",
          "Mushishi: The Next Chapter (TV)",
          "My Neighbor Totoro (movie)",
          "Natsume's Book of Friends (TV 4)",
          "Nausicaä of the Valley of the Wind (movie)",
          "Nodame Cantabile (TV)",
          "Princess Mononoke (movie)",
          "Rurouni Kenshin: Trust & Betrayal (OAV)",
          "Silent Voice (movie)",
          "Spirited Away (movie)",
          "Steins;Gate (TV)",
          "Summer Wars (movie)",
          "Wolf Children (movie)",
          "anohana: The Flower We Saw That Day (TV)",
          "your name. (movie)"
         ],
         "labels": [
          "5 Centimeters Per Second (movie)",
          "Attack on Titan (TV 4/2019)",
          "Baccano! (TV)",
          "Bunny Drop (TV)",
          "Clannad After Story (TV)",
          "Code Geass: Lelouch of the Rebellion (TV)",
          "Code Geass: Lelouch of the Rebellion R2 (TV)",
          "Cowboy Bebop (TV)",
          "Cross Game (TV)",
          "Death Note (TV)",
          "Descending Stories: Showa Genroku Rakugo Shinju (TV)",
          "Disappearance of Haruhi Suzumiya (movie)",
          "Evangelion: 2.0 You Can (Not) Advance (movie)",
          "Fighting Spirit (TV)",
          "Fullmetal Alchemist (TV)",
          "Fullmetal Alchemist: Brotherhood (TV)",
          "Garden of Sinners (movie series)",
          "Ghost in the Shell: Stand Alone Complex 2nd GIG (TV)",
          "Gintama (TV 4/2015)",
          "Gintama' (TV 2/2011)",
          "Gintama' (TV 3/2012)",
          "Gintama: The Final Movie (movie)",
          "Girl Who Leapt Through Time (movie)",
          "Grave of the Fireflies (movie)",
          "Gurren Lagann (TV)",
          "Hajime no Ippo: New Challenger (TV)",
          "Honey and Clover II (TV)",
          "Hunter × Hunter (TV 2011)",
          "Kanon (TV 2/2006)",
          "Legend of the Galactic Heroes (OAV)",
          "Made in Abyss (TV)",
          "Maria Watches Over Us 3rd Season (OAV)",
          "Maria Watches Over Us 4th Season (TV)",
          "Maria Watches Over Us Season 2: Printemps (TV)",
          "Monster (TV)",
          "Mushi-Shi (TV)",
          "Mushishi: The Next Chapter (TV)",
          "My Neighbor Totoro (movie)",
          "Natsume's Book of Friends (TV 4)",
          "Nausicaä of the Valley of the Wind (movie)",
          "Nodame Cantabile (TV)",
          "Princess Mononoke (movie)",
          "Rurouni Kenshin: Trust & Betrayal (OAV)",
          "Silent Voice (movie)",
          "Spirited Away (movie)",
          "Steins;Gate (TV)",
          "Summer Wars (movie)",
          "Wolf Children (movie)",
          "anohana: The Flower We Saw That Day (TV)",
          "your name. (movie)"
         ],
         "marker": {
          "coloraxis": "coloraxis",
          "colors": [
           8.693099975585938,
           8.677399635314941,
           8.673399925231934,
           8.789600372314453,
           8.951000213623047,
           8.854399681091309,
           9.020099639892578,
           8.933099746704102,
           8.780500411987305,
           8.863300323486328,
           8.818699836730957,
           8.868599891662598,
           8.775099754333496,
           8.746299743652344,
           8.728899955749512,
           9.106100082397461,
           8.7121000289917,
           8.749300003051758,
           8.768199920654297,
           8.740699768066406,
           8.561100006103516,
           8.710800170898438,
           8.671099662780762,
           8.707799911499023,
           8.735300064086914,
           8.630800247192383,
           8.569899559020996,
           8.69890022277832,
           8.641799926757812,
           8.785099983215332,
           8.807499885559082,
           8.7947998046875,
           8.747599601745605,
           8.829500198364258,
           8.76669979095459,
           8.803199768066406,
           8.824199676513672,
           8.653200149536133,
           8.644200325012207,
           8.678999900817871,
           8.666299819946289,
           8.928099632263184,
           8.923399925231934,
           8.856900215148926,
           8.969799995422363,
           9.138099670410156,
           8.743800163269043,
           8.65310001373291,
           8.786100387573242,
           9.104499816894531
          ]
         },
         "name": "",
         "parents": [
          "",
          "",
          "",
          "",
          "",
          "",
          "",
          "",
          "",
          "",
          "",
          "",
          "",
          "",
          "",
          "",
          "",
          "",
          "",
          "",
          "",
          "",
          "",
          "",
          "",
          "",
          "",
          "",
          "",
          "",
          "",
          "",
          "",
          "",
          "",
          "",
          "",
          "",
          "",
          "",
          "",
          "",
          "",
          "",
          "",
          "",
          "",
          "",
          "",
          ""
         ],
         "type": "treemap",
         "values": [
          8203,
          624,
          6990,
          2667,
          8361,
          15212,
          12551,
          21026,
          1060,
          22216,
          260,
          4029,
          3359,
          2824,
          23626,
          10858,
          2700,
          4892,
          291,
          888,
          482,
          257,
          7766,
          6925,
          11421,
          1206,
          3089,
          1997,
          5693,
          1141,
          883,
          1044,
          722,
          1820,
          5781,
          8163,
          848,
          7403,
          1005,
          7898,
          4331,
          15401,
          10385,
          764,
          15397,
          6811,
          4573,
          1631,
          4878,
          1481
         ]
        }
       ],
       "layout": {
        "coloraxis": {
         "cmid": 8.785649948120117,
         "colorbar": {
          "title": {
           "text": "straight_average"
          }
         },
         "colorscale": [
          [
           0,
           "rgb(103,0,31)"
          ],
          [
           0.1,
           "rgb(178,24,43)"
          ],
          [
           0.2,
           "rgb(214,96,77)"
          ],
          [
           0.3,
           "rgb(244,165,130)"
          ],
          [
           0.4,
           "rgb(253,219,199)"
          ],
          [
           0.5,
           "rgb(247,247,247)"
          ],
          [
           0.6,
           "rgb(209,229,240)"
          ],
          [
           0.7,
           "rgb(146,197,222)"
          ],
          [
           0.8,
           "rgb(67,147,195)"
          ],
          [
           0.9,
           "rgb(33,102,172)"
          ],
          [
           1,
           "rgb(5,48,97)"
          ]
         ]
        },
        "legend": {
         "tracegroupgap": 0
        },
        "margin": {
         "t": 60
        },
        "template": {
         "data": {
          "bar": [
           {
            "error_x": {
             "color": "#2a3f5f"
            },
            "error_y": {
             "color": "#2a3f5f"
            },
            "marker": {
             "line": {
              "color": "#E5ECF6",
              "width": 0.5
             }
            },
            "type": "bar"
           }
          ],
          "barpolar": [
           {
            "marker": {
             "line": {
              "color": "#E5ECF6",
              "width": 0.5
             }
            },
            "type": "barpolar"
           }
          ],
          "carpet": [
           {
            "aaxis": {
             "endlinecolor": "#2a3f5f",
             "gridcolor": "white",
             "linecolor": "white",
             "minorgridcolor": "white",
             "startlinecolor": "#2a3f5f"
            },
            "baxis": {
             "endlinecolor": "#2a3f5f",
             "gridcolor": "white",
             "linecolor": "white",
             "minorgridcolor": "white",
             "startlinecolor": "#2a3f5f"
            },
            "type": "carpet"
           }
          ],
          "choropleth": [
           {
            "colorbar": {
             "outlinewidth": 0,
             "ticks": ""
            },
            "type": "choropleth"
           }
          ],
          "contour": [
           {
            "colorbar": {
             "outlinewidth": 0,
             "ticks": ""
            },
            "colorscale": [
             [
              0,
              "#0d0887"
             ],
             [
              0.1111111111111111,
              "#46039f"
             ],
             [
              0.2222222222222222,
              "#7201a8"
             ],
             [
              0.3333333333333333,
              "#9c179e"
             ],
             [
              0.4444444444444444,
              "#bd3786"
             ],
             [
              0.5555555555555556,
              "#d8576b"
             ],
             [
              0.6666666666666666,
              "#ed7953"
             ],
             [
              0.7777777777777778,
              "#fb9f3a"
             ],
             [
              0.8888888888888888,
              "#fdca26"
             ],
             [
              1,
              "#f0f921"
             ]
            ],
            "type": "contour"
           }
          ],
          "contourcarpet": [
           {
            "colorbar": {
             "outlinewidth": 0,
             "ticks": ""
            },
            "type": "contourcarpet"
           }
          ],
          "heatmap": [
           {
            "colorbar": {
             "outlinewidth": 0,
             "ticks": ""
            },
            "colorscale": [
             [
              0,
              "#0d0887"
             ],
             [
              0.1111111111111111,
              "#46039f"
             ],
             [
              0.2222222222222222,
              "#7201a8"
             ],
             [
              0.3333333333333333,
              "#9c179e"
             ],
             [
              0.4444444444444444,
              "#bd3786"
             ],
             [
              0.5555555555555556,
              "#d8576b"
             ],
             [
              0.6666666666666666,
              "#ed7953"
             ],
             [
              0.7777777777777778,
              "#fb9f3a"
             ],
             [
              0.8888888888888888,
              "#fdca26"
             ],
             [
              1,
              "#f0f921"
             ]
            ],
            "type": "heatmap"
           }
          ],
          "heatmapgl": [
           {
            "colorbar": {
             "outlinewidth": 0,
             "ticks": ""
            },
            "colorscale": [
             [
              0,
              "#0d0887"
             ],
             [
              0.1111111111111111,
              "#46039f"
             ],
             [
              0.2222222222222222,
              "#7201a8"
             ],
             [
              0.3333333333333333,
              "#9c179e"
             ],
             [
              0.4444444444444444,
              "#bd3786"
             ],
             [
              0.5555555555555556,
              "#d8576b"
             ],
             [
              0.6666666666666666,
              "#ed7953"
             ],
             [
              0.7777777777777778,
              "#fb9f3a"
             ],
             [
              0.8888888888888888,
              "#fdca26"
             ],
             [
              1,
              "#f0f921"
             ]
            ],
            "type": "heatmapgl"
           }
          ],
          "histogram": [
           {
            "marker": {
             "colorbar": {
              "outlinewidth": 0,
              "ticks": ""
             }
            },
            "type": "histogram"
           }
          ],
          "histogram2d": [
           {
            "colorbar": {
             "outlinewidth": 0,
             "ticks": ""
            },
            "colorscale": [
             [
              0,
              "#0d0887"
             ],
             [
              0.1111111111111111,
              "#46039f"
             ],
             [
              0.2222222222222222,
              "#7201a8"
             ],
             [
              0.3333333333333333,
              "#9c179e"
             ],
             [
              0.4444444444444444,
              "#bd3786"
             ],
             [
              0.5555555555555556,
              "#d8576b"
             ],
             [
              0.6666666666666666,
              "#ed7953"
             ],
             [
              0.7777777777777778,
              "#fb9f3a"
             ],
             [
              0.8888888888888888,
              "#fdca26"
             ],
             [
              1,
              "#f0f921"
             ]
            ],
            "type": "histogram2d"
           }
          ],
          "histogram2dcontour": [
           {
            "colorbar": {
             "outlinewidth": 0,
             "ticks": ""
            },
            "colorscale": [
             [
              0,
              "#0d0887"
             ],
             [
              0.1111111111111111,
              "#46039f"
             ],
             [
              0.2222222222222222,
              "#7201a8"
             ],
             [
              0.3333333333333333,
              "#9c179e"
             ],
             [
              0.4444444444444444,
              "#bd3786"
             ],
             [
              0.5555555555555556,
              "#d8576b"
             ],
             [
              0.6666666666666666,
              "#ed7953"
             ],
             [
              0.7777777777777778,
              "#fb9f3a"
             ],
             [
              0.8888888888888888,
              "#fdca26"
             ],
             [
              1,
              "#f0f921"
             ]
            ],
            "type": "histogram2dcontour"
           }
          ],
          "mesh3d": [
           {
            "colorbar": {
             "outlinewidth": 0,
             "ticks": ""
            },
            "type": "mesh3d"
           }
          ],
          "parcoords": [
           {
            "line": {
             "colorbar": {
              "outlinewidth": 0,
              "ticks": ""
             }
            },
            "type": "parcoords"
           }
          ],
          "pie": [
           {
            "automargin": true,
            "type": "pie"
           }
          ],
          "scatter": [
           {
            "marker": {
             "colorbar": {
              "outlinewidth": 0,
              "ticks": ""
             }
            },
            "type": "scatter"
           }
          ],
          "scatter3d": [
           {
            "line": {
             "colorbar": {
              "outlinewidth": 0,
              "ticks": ""
             }
            },
            "marker": {
             "colorbar": {
              "outlinewidth": 0,
              "ticks": ""
             }
            },
            "type": "scatter3d"
           }
          ],
          "scattercarpet": [
           {
            "marker": {
             "colorbar": {
              "outlinewidth": 0,
              "ticks": ""
             }
            },
            "type": "scattercarpet"
           }
          ],
          "scattergeo": [
           {
            "marker": {
             "colorbar": {
              "outlinewidth": 0,
              "ticks": ""
             }
            },
            "type": "scattergeo"
           }
          ],
          "scattergl": [
           {
            "marker": {
             "colorbar": {
              "outlinewidth": 0,
              "ticks": ""
             }
            },
            "type": "scattergl"
           }
          ],
          "scattermapbox": [
           {
            "marker": {
             "colorbar": {
              "outlinewidth": 0,
              "ticks": ""
             }
            },
            "type": "scattermapbox"
           }
          ],
          "scatterpolar": [
           {
            "marker": {
             "colorbar": {
              "outlinewidth": 0,
              "ticks": ""
             }
            },
            "type": "scatterpolar"
           }
          ],
          "scatterpolargl": [
           {
            "marker": {
             "colorbar": {
              "outlinewidth": 0,
              "ticks": ""
             }
            },
            "type": "scatterpolargl"
           }
          ],
          "scatterternary": [
           {
            "marker": {
             "colorbar": {
              "outlinewidth": 0,
              "ticks": ""
             }
            },
            "type": "scatterternary"
           }
          ],
          "surface": [
           {
            "colorbar": {
             "outlinewidth": 0,
             "ticks": ""
            },
            "colorscale": [
             [
              0,
              "#0d0887"
             ],
             [
              0.1111111111111111,
              "#46039f"
             ],
             [
              0.2222222222222222,
              "#7201a8"
             ],
             [
              0.3333333333333333,
              "#9c179e"
             ],
             [
              0.4444444444444444,
              "#bd3786"
             ],
             [
              0.5555555555555556,
              "#d8576b"
             ],
             [
              0.6666666666666666,
              "#ed7953"
             ],
             [
              0.7777777777777778,
              "#fb9f3a"
             ],
             [
              0.8888888888888888,
              "#fdca26"
             ],
             [
              1,
              "#f0f921"
             ]
            ],
            "type": "surface"
           }
          ],
          "table": [
           {
            "cells": {
             "fill": {
              "color": "#EBF0F8"
             },
             "line": {
              "color": "white"
             }
            },
            "header": {
             "fill": {
              "color": "#C8D4E3"
             },
             "line": {
              "color": "white"
             }
            },
            "type": "table"
           }
          ]
         },
         "layout": {
          "annotationdefaults": {
           "arrowcolor": "#2a3f5f",
           "arrowhead": 0,
           "arrowwidth": 1
          },
          "coloraxis": {
           "colorbar": {
            "outlinewidth": 0,
            "ticks": ""
           }
          },
          "colorscale": {
           "diverging": [
            [
             0,
             "#8e0152"
            ],
            [
             0.1,
             "#c51b7d"
            ],
            [
             0.2,
             "#de77ae"
            ],
            [
             0.3,
             "#f1b6da"
            ],
            [
             0.4,
             "#fde0ef"
            ],
            [
             0.5,
             "#f7f7f7"
            ],
            [
             0.6,
             "#e6f5d0"
            ],
            [
             0.7,
             "#b8e186"
            ],
            [
             0.8,
             "#7fbc41"
            ],
            [
             0.9,
             "#4d9221"
            ],
            [
             1,
             "#276419"
            ]
           ],
           "sequential": [
            [
             0,
             "#0d0887"
            ],
            [
             0.1111111111111111,
             "#46039f"
            ],
            [
             0.2222222222222222,
             "#7201a8"
            ],
            [
             0.3333333333333333,
             "#9c179e"
            ],
            [
             0.4444444444444444,
             "#bd3786"
            ],
            [
             0.5555555555555556,
             "#d8576b"
            ],
            [
             0.6666666666666666,
             "#ed7953"
            ],
            [
             0.7777777777777778,
             "#fb9f3a"
            ],
            [
             0.8888888888888888,
             "#fdca26"
            ],
            [
             1,
             "#f0f921"
            ]
           ],
           "sequentialminus": [
            [
             0,
             "#0d0887"
            ],
            [
             0.1111111111111111,
             "#46039f"
            ],
            [
             0.2222222222222222,
             "#7201a8"
            ],
            [
             0.3333333333333333,
             "#9c179e"
            ],
            [
             0.4444444444444444,
             "#bd3786"
            ],
            [
             0.5555555555555556,
             "#d8576b"
            ],
            [
             0.6666666666666666,
             "#ed7953"
            ],
            [
             0.7777777777777778,
             "#fb9f3a"
            ],
            [
             0.8888888888888888,
             "#fdca26"
            ],
            [
             1,
             "#f0f921"
            ]
           ]
          },
          "colorway": [
           "#636efa",
           "#EF553B",
           "#00cc96",
           "#ab63fa",
           "#FFA15A",
           "#19d3f3",
           "#FF6692",
           "#B6E880",
           "#FF97FF",
           "#FECB52"
          ],
          "font": {
           "color": "#2a3f5f"
          },
          "geo": {
           "bgcolor": "white",
           "lakecolor": "white",
           "landcolor": "#E5ECF6",
           "showlakes": true,
           "showland": true,
           "subunitcolor": "white"
          },
          "hoverlabel": {
           "align": "left"
          },
          "hovermode": "closest",
          "mapbox": {
           "style": "light"
          },
          "paper_bgcolor": "white",
          "plot_bgcolor": "#E5ECF6",
          "polar": {
           "angularaxis": {
            "gridcolor": "white",
            "linecolor": "white",
            "ticks": ""
           },
           "bgcolor": "#E5ECF6",
           "radialaxis": {
            "gridcolor": "white",
            "linecolor": "white",
            "ticks": ""
           }
          },
          "scene": {
           "xaxis": {
            "backgroundcolor": "#E5ECF6",
            "gridcolor": "white",
            "gridwidth": 2,
            "linecolor": "white",
            "showbackground": true,
            "ticks": "",
            "zerolinecolor": "white"
           },
           "yaxis": {
            "backgroundcolor": "#E5ECF6",
            "gridcolor": "white",
            "gridwidth": 2,
            "linecolor": "white",
            "showbackground": true,
            "ticks": "",
            "zerolinecolor": "white"
           },
           "zaxis": {
            "backgroundcolor": "#E5ECF6",
            "gridcolor": "white",
            "gridwidth": 2,
            "linecolor": "white",
            "showbackground": true,
            "ticks": "",
            "zerolinecolor": "white"
           }
          },
          "shapedefaults": {
           "line": {
            "color": "#2a3f5f"
           }
          },
          "ternary": {
           "aaxis": {
            "gridcolor": "white",
            "linecolor": "white",
            "ticks": ""
           },
           "baxis": {
            "gridcolor": "white",
            "linecolor": "white",
            "ticks": ""
           },
           "bgcolor": "#E5ECF6",
           "caxis": {
            "gridcolor": "white",
            "linecolor": "white",
            "ticks": ""
           }
          },
          "title": {
           "x": 0.05
          },
          "xaxis": {
           "automargin": true,
           "gridcolor": "white",
           "linecolor": "white",
           "ticks": "",
           "title": {
            "standoff": 15
           },
           "zerolinecolor": "white",
           "zerolinewidth": 2
          },
          "yaxis": {
           "automargin": true,
           "gridcolor": "white",
           "linecolor": "white",
           "ticks": "",
           "title": {
            "standoff": 15
           },
           "zerolinecolor": "white",
           "zerolinewidth": 2
          }
         }
        }
       }
      }
     },
     "metadata": {}
    }
   ],
   "source": [
    "import plotly.express as px\n",
    "import numpy as np\n",
    "\n",
    "fig = px.treemap(anime_df2, path=['anime'], values='nb_seen',\n",
    "                  color='straight_average', hover_data=['nb_seen', 'nb_votes'],\n",
    "                  color_continuous_scale='RdBu',\n",
    "                  color_continuous_midpoint=np.average(anime_df2['straight_average']))\n",
    "fig.show()\n",
    "fig.write_html('anime treemap.html', auto_open=True)\n"
   ]
  },
  {
   "cell_type": "code",
   "execution_count": 26,
   "metadata": {},
   "outputs": [],
   "source": [
    "manga_df2=manga_df"
   ]
  },
  {
   "cell_type": "code",
   "execution_count": 27,
   "metadata": {},
   "outputs": [],
   "source": [
    "manga_df2[\"nb_votes\"] = manga_df2.nb_votes.astype(float)\n",
    "manga_df2[\"nb_seen\"] = manga_df2.nb_seen.astype(float)\n",
    "manga_df2[\"straight_average\"] = manga_df2.straight_average.astype(float)"
   ]
  },
  {
   "cell_type": "code",
   "execution_count": 28,
   "metadata": {},
   "outputs": [
    {
     "output_type": "display_data",
     "data": {
      "application/vnd.plotly.v1+json": {
       "config": {
        "plotlyServerURL": "https://plot.ly"
       },
       "data": [
        {
         "branchvalues": "total",
         "customdata": [
          [
           983,
           594,
           8.749199867248535
          ],
          [
           1130,
           578,
           8.700699806213379
          ],
          [
           105,
           28,
           8.607099533081055
          ],
          [
           2320,
           1255,
           9.289199829101562
          ],
          [
           845,
           385,
           8.607799530029297
          ],
          [
           166,
           68,
           8.82349967956543
          ],
          [
           248,
           126,
           8.33329963684082
          ],
          [
           87,
           36,
           8.722200393676758
          ],
          [
           196,
           116,
           8.862099647521973
          ],
          [
           4956,
           2587,
           8.857000350952148
          ],
          [
           31,
           17,
           8.411800384521484
          ],
          [
           50,
           27,
           9
          ],
          [
           3735,
           1616,
           8.71660041809082
          ],
          [
           3514,
           1604,
           8.945799827575684
          ],
          [
           1344,
           671,
           8.782400131225586
          ],
          [
           894,
           426,
           8.650199890136719
          ],
          [
           146,
           36,
           8.527799606323242
          ],
          [
           144,
           68,
           8.941200256347656
          ],
          [
           409,
           172,
           8.953499794006348
          ],
          [
           44,
           30,
           8.566699981689453
          ],
          [
           98,
           54,
           8.703700065612793
          ],
          [
           18,
           8,
           8.875
          ],
          [
           21,
           11,
           8.272700309753418
          ],
          [
           58,
           35,
           8.857099533081055
          ],
          [
           341,
           142,
           8.901399612426758
          ],
          [
           170,
           87,
           8.540200233459473
          ],
          [
           112,
           34,
           8.882399559020996
          ],
          [
           1321,
           786,
           8.944000244140625
          ],
          [
           557,
           261,
           8.831399917602539
          ],
          [
           1063,
           630,
           9.176199913024902
          ],
          [
           120,
           80,
           8.649999618530273
          ],
          [
           172,
           69,
           8.420299530029297
          ],
          [
           483,
           305,
           8.822999954223633
          ],
          [
           130,
           60,
           9.01669979095459
          ],
          [
           2569,
           1242,
           8.7923002243042
          ],
          [
           502,
           239,
           8.682000160217285
          ],
          [
           137,
           83,
           8.674699783325195
          ],
          [
           11,
           6,
           9.33329963684082
          ],
          [
           182,
           113,
           8.761099815368652
          ],
          [
           1068,
           391,
           8.890000343322754
          ],
          [
           270,
           195,
           8.794899940490723
          ],
          [
           68,
           26,
           8.46150016784668
          ],
          [
           68,
           41,
           8.439000129699707
          ],
          [
           129,
           100,
           8.760000228881836
          ],
          [
           644,
           345,
           8.973899841308594
          ],
          [
           447,
           239,
           9.204999923706055
          ],
          [
           70,
           34,
           8.941200256347656
          ],
          [
           541,
           354,
           8.412400245666504
          ],
          [
           1560,
           758,
           8.887900352478027
          ],
          [
           99,
           42,
           8.714300155639648
          ]
         ],
         "domain": {
          "x": [
           0,
           1
          ],
          "y": [
           0,
           1
          ]
         },
         "hovertemplate": "labels=%{label}<br>nb_seen=%{customdata[0]}<br>parent=%{parent}<br>id=%{id}<br>nb_votes=%{customdata[1]}<br>straight_average=%{color}<extra></extra>",
         "ids": [
          "20th Century Boys (manga)",
          "Akira (manga)",
          "Ancient Magus' Bride (manga)",
          "Berserk (manga)",
          "Blade of the Immortal (manga)",
          "Bride's Story (manga)",
          "Buddha (manga)",
          "Children of the Sea (manga)",
          "Cross Game (manga)",
          "Death Note (manga)",
          "Drifting Life (manga)",
          "Erased (manga)",
          "Fruits Basket (manga)",
          "Fullmetal Alchemist (manga)",
          "GTO (manga)",
          "Genshiken (manga)",
          "Glass no Kamen (manga)",
          "Goodnight Punpun (manga)",
          "Hajime no Ippo (manga)",
          "Heart of Thomas (manga)",
          "Historie (manga)",
          "Kaguya-sama: Love is War (manga)",
          "Kanojo no Omoide... (manga)",
          "Kids on the Slope (manga)",
          "Lone Wolf and Cub (manga, Kazuo Koike)",
          "Message to Adolf (manga)",
          "Mobile Suit Gundam: The Origin (manga)",
          "Monster (manga)",
          "Mushishi (manga)",
          "Nausicaä of the Valley of the Wind (manga)",
          "Ode to Kirihito (manga)",
          "Phoenix (manga)",
          "Pluto (manga)",
          "REAL (manga)",
          "Rurouni Kenshin (manga)",
          "Saikano (manga)",
          "Sanctuary (manga by R. Ikegami)",
          "Showa: A History of Japan (manga)",
          "Silent Voice (manga)",
          "Skip Beat! (manga)",
          "Solanin (manga)",
          "Steel Ball Run (manga)",
          "Stigma (manga)",
          "Town of Evening Calm, Country of Cherry Blossoms (manga)",
          "Vagabond (manga)",
          "Vinland Saga (manga)",
          "With the Light: Raising an Autistic Child (manga)",
          "Yokohama Kaidashi Kikou (manga)",
          "Yotsuba&! (manga)",
          "Ōoku: The Inner Chambers (manga)"
         ],
         "labels": [
          "20th Century Boys (manga)",
          "Akira (manga)",
          "Ancient Magus' Bride (manga)",
          "Berserk (manga)",
          "Blade of the Immortal (manga)",
          "Bride's Story (manga)",
          "Buddha (manga)",
          "Children of the Sea (manga)",
          "Cross Game (manga)",
          "Death Note (manga)",
          "Drifting Life (manga)",
          "Erased (manga)",
          "Fruits Basket (manga)",
          "Fullmetal Alchemist (manga)",
          "GTO (manga)",
          "Genshiken (manga)",
          "Glass no Kamen (manga)",
          "Goodnight Punpun (manga)",
          "Hajime no Ippo (manga)",
          "Heart of Thomas (manga)",
          "Historie (manga)",
          "Kaguya-sama: Love is War (manga)",
          "Kanojo no Omoide... (manga)",
          "Kids on the Slope (manga)",
          "Lone Wolf and Cub (manga, Kazuo Koike)",
          "Message to Adolf (manga)",
          "Mobile Suit Gundam: The Origin (manga)",
          "Monster (manga)",
          "Mushishi (manga)",
          "Nausicaä of the Valley of the Wind (manga)",
          "Ode to Kirihito (manga)",
          "Phoenix (manga)",
          "Pluto (manga)",
          "REAL (manga)",
          "Rurouni Kenshin (manga)",
          "Saikano (manga)",
          "Sanctuary (manga by R. Ikegami)",
          "Showa: A History of Japan (manga)",
          "Silent Voice (manga)",
          "Skip Beat! (manga)",
          "Solanin (manga)",
          "Steel Ball Run (manga)",
          "Stigma (manga)",
          "Town of Evening Calm, Country of Cherry Blossoms (manga)",
          "Vagabond (manga)",
          "Vinland Saga (manga)",
          "With the Light: Raising an Autistic Child (manga)",
          "Yokohama Kaidashi Kikou (manga)",
          "Yotsuba&! (manga)",
          "Ōoku: The Inner Chambers (manga)"
         ],
         "marker": {
          "coloraxis": "coloraxis",
          "colors": [
           8.749199867248535,
           8.700699806213379,
           8.607099533081055,
           9.289199829101562,
           8.607799530029297,
           8.82349967956543,
           8.33329963684082,
           8.722200393676758,
           8.862099647521973,
           8.857000350952148,
           8.411800384521484,
           9,
           8.71660041809082,
           8.945799827575684,
           8.782400131225586,
           8.650199890136719,
           8.527799606323242,
           8.941200256347656,
           8.953499794006348,
           8.566699981689453,
           8.703700065612793,
           8.875,
           8.272700309753418,
           8.857099533081055,
           8.901399612426758,
           8.540200233459473,
           8.882399559020996,
           8.944000244140625,
           8.831399917602539,
           9.176199913024902,
           8.649999618530273,
           8.420299530029297,
           8.822999954223633,
           9.01669979095459,
           8.7923002243042,
           8.682000160217285,
           8.674699783325195,
           9.33329963684082,
           8.761099815368652,
           8.890000343322754,
           8.794899940490723,
           8.46150016784668,
           8.439000129699707,
           8.760000228881836,
           8.973899841308594,
           9.204999923706055,
           8.941200256347656,
           8.412400245666504,
           8.887900352478027,
           8.714300155639648
          ]
         },
         "name": "",
         "parents": [
          "",
          "",
          "",
          "",
          "",
          "",
          "",
          "",
          "",
          "",
          "",
          "",
          "",
          "",
          "",
          "",
          "",
          "",
          "",
          "",
          "",
          "",
          "",
          "",
          "",
          "",
          "",
          "",
          "",
          "",
          "",
          "",
          "",
          "",
          "",
          "",
          "",
          "",
          "",
          "",
          "",
          "",
          "",
          "",
          "",
          "",
          "",
          "",
          "",
          ""
         ],
         "type": "treemap",
         "values": [
          983,
          1130,
          105,
          2320,
          845,
          166,
          248,
          87,
          196,
          4956,
          31,
          50,
          3735,
          3514,
          1344,
          894,
          146,
          144,
          409,
          44,
          98,
          18,
          21,
          58,
          341,
          170,
          112,
          1321,
          557,
          1063,
          120,
          172,
          483,
          130,
          2569,
          502,
          137,
          11,
          182,
          1068,
          270,
          68,
          68,
          129,
          644,
          447,
          70,
          541,
          1560,
          99
         ]
        }
       ],
       "layout": {
        "coloraxis": {
         "cmid": 8.785649948120117,
         "colorbar": {
          "title": {
           "text": "straight_average"
          }
         },
         "colorscale": [
          [
           0,
           "rgb(103,0,31)"
          ],
          [
           0.1,
           "rgb(178,24,43)"
          ],
          [
           0.2,
           "rgb(214,96,77)"
          ],
          [
           0.3,
           "rgb(244,165,130)"
          ],
          [
           0.4,
           "rgb(253,219,199)"
          ],
          [
           0.5,
           "rgb(247,247,247)"
          ],
          [
           0.6,
           "rgb(209,229,240)"
          ],
          [
           0.7,
           "rgb(146,197,222)"
          ],
          [
           0.8,
           "rgb(67,147,195)"
          ],
          [
           0.9,
           "rgb(33,102,172)"
          ],
          [
           1,
           "rgb(5,48,97)"
          ]
         ]
        },
        "legend": {
         "tracegroupgap": 0
        },
        "margin": {
         "t": 60
        },
        "template": {
         "data": {
          "bar": [
           {
            "error_x": {
             "color": "#2a3f5f"
            },
            "error_y": {
             "color": "#2a3f5f"
            },
            "marker": {
             "line": {
              "color": "#E5ECF6",
              "width": 0.5
             }
            },
            "type": "bar"
           }
          ],
          "barpolar": [
           {
            "marker": {
             "line": {
              "color": "#E5ECF6",
              "width": 0.5
             }
            },
            "type": "barpolar"
           }
          ],
          "carpet": [
           {
            "aaxis": {
             "endlinecolor": "#2a3f5f",
             "gridcolor": "white",
             "linecolor": "white",
             "minorgridcolor": "white",
             "startlinecolor": "#2a3f5f"
            },
            "baxis": {
             "endlinecolor": "#2a3f5f",
             "gridcolor": "white",
             "linecolor": "white",
             "minorgridcolor": "white",
             "startlinecolor": "#2a3f5f"
            },
            "type": "carpet"
           }
          ],
          "choropleth": [
           {
            "colorbar": {
             "outlinewidth": 0,
             "ticks": ""
            },
            "type": "choropleth"
           }
          ],
          "contour": [
           {
            "colorbar": {
             "outlinewidth": 0,
             "ticks": ""
            },
            "colorscale": [
             [
              0,
              "#0d0887"
             ],
             [
              0.1111111111111111,
              "#46039f"
             ],
             [
              0.2222222222222222,
              "#7201a8"
             ],
             [
              0.3333333333333333,
              "#9c179e"
             ],
             [
              0.4444444444444444,
              "#bd3786"
             ],
             [
              0.5555555555555556,
              "#d8576b"
             ],
             [
              0.6666666666666666,
              "#ed7953"
             ],
             [
              0.7777777777777778,
              "#fb9f3a"
             ],
             [
              0.8888888888888888,
              "#fdca26"
             ],
             [
              1,
              "#f0f921"
             ]
            ],
            "type": "contour"
           }
          ],
          "contourcarpet": [
           {
            "colorbar": {
             "outlinewidth": 0,
             "ticks": ""
            },
            "type": "contourcarpet"
           }
          ],
          "heatmap": [
           {
            "colorbar": {
             "outlinewidth": 0,
             "ticks": ""
            },
            "colorscale": [
             [
              0,
              "#0d0887"
             ],
             [
              0.1111111111111111,
              "#46039f"
             ],
             [
              0.2222222222222222,
              "#7201a8"
             ],
             [
              0.3333333333333333,
              "#9c179e"
             ],
             [
              0.4444444444444444,
              "#bd3786"
             ],
             [
              0.5555555555555556,
              "#d8576b"
             ],
             [
              0.6666666666666666,
              "#ed7953"
             ],
             [
              0.7777777777777778,
              "#fb9f3a"
             ],
             [
              0.8888888888888888,
              "#fdca26"
             ],
             [
              1,
              "#f0f921"
             ]
            ],
            "type": "heatmap"
           }
          ],
          "heatmapgl": [
           {
            "colorbar": {
             "outlinewidth": 0,
             "ticks": ""
            },
            "colorscale": [
             [
              0,
              "#0d0887"
             ],
             [
              0.1111111111111111,
              "#46039f"
             ],
             [
              0.2222222222222222,
              "#7201a8"
             ],
             [
              0.3333333333333333,
              "#9c179e"
             ],
             [
              0.4444444444444444,
              "#bd3786"
             ],
             [
              0.5555555555555556,
              "#d8576b"
             ],
             [
              0.6666666666666666,
              "#ed7953"
             ],
             [
              0.7777777777777778,
              "#fb9f3a"
             ],
             [
              0.8888888888888888,
              "#fdca26"
             ],
             [
              1,
              "#f0f921"
             ]
            ],
            "type": "heatmapgl"
           }
          ],
          "histogram": [
           {
            "marker": {
             "colorbar": {
              "outlinewidth": 0,
              "ticks": ""
             }
            },
            "type": "histogram"
           }
          ],
          "histogram2d": [
           {
            "colorbar": {
             "outlinewidth": 0,
             "ticks": ""
            },
            "colorscale": [
             [
              0,
              "#0d0887"
             ],
             [
              0.1111111111111111,
              "#46039f"
             ],
             [
              0.2222222222222222,
              "#7201a8"
             ],
             [
              0.3333333333333333,
              "#9c179e"
             ],
             [
              0.4444444444444444,
              "#bd3786"
             ],
             [
              0.5555555555555556,
              "#d8576b"
             ],
             [
              0.6666666666666666,
              "#ed7953"
             ],
             [
              0.7777777777777778,
              "#fb9f3a"
             ],
             [
              0.8888888888888888,
              "#fdca26"
             ],
             [
              1,
              "#f0f921"
             ]
            ],
            "type": "histogram2d"
           }
          ],
          "histogram2dcontour": [
           {
            "colorbar": {
             "outlinewidth": 0,
             "ticks": ""
            },
            "colorscale": [
             [
              0,
              "#0d0887"
             ],
             [
              0.1111111111111111,
              "#46039f"
             ],
             [
              0.2222222222222222,
              "#7201a8"
             ],
             [
              0.3333333333333333,
              "#9c179e"
             ],
             [
              0.4444444444444444,
              "#bd3786"
             ],
             [
              0.5555555555555556,
              "#d8576b"
             ],
             [
              0.6666666666666666,
              "#ed7953"
             ],
             [
              0.7777777777777778,
              "#fb9f3a"
             ],
             [
              0.8888888888888888,
              "#fdca26"
             ],
             [
              1,
              "#f0f921"
             ]
            ],
            "type": "histogram2dcontour"
           }
          ],
          "mesh3d": [
           {
            "colorbar": {
             "outlinewidth": 0,
             "ticks": ""
            },
            "type": "mesh3d"
           }
          ],
          "parcoords": [
           {
            "line": {
             "colorbar": {
              "outlinewidth": 0,
              "ticks": ""
             }
            },
            "type": "parcoords"
           }
          ],
          "pie": [
           {
            "automargin": true,
            "type": "pie"
           }
          ],
          "scatter": [
           {
            "marker": {
             "colorbar": {
              "outlinewidth": 0,
              "ticks": ""
             }
            },
            "type": "scatter"
           }
          ],
          "scatter3d": [
           {
            "line": {
             "colorbar": {
              "outlinewidth": 0,
              "ticks": ""
             }
            },
            "marker": {
             "colorbar": {
              "outlinewidth": 0,
              "ticks": ""
             }
            },
            "type": "scatter3d"
           }
          ],
          "scattercarpet": [
           {
            "marker": {
             "colorbar": {
              "outlinewidth": 0,
              "ticks": ""
             }
            },
            "type": "scattercarpet"
           }
          ],
          "scattergeo": [
           {
            "marker": {
             "colorbar": {
              "outlinewidth": 0,
              "ticks": ""
             }
            },
            "type": "scattergeo"
           }
          ],
          "scattergl": [
           {
            "marker": {
             "colorbar": {
              "outlinewidth": 0,
              "ticks": ""
             }
            },
            "type": "scattergl"
           }
          ],
          "scattermapbox": [
           {
            "marker": {
             "colorbar": {
              "outlinewidth": 0,
              "ticks": ""
             }
            },
            "type": "scattermapbox"
           }
          ],
          "scatterpolar": [
           {
            "marker": {
             "colorbar": {
              "outlinewidth": 0,
              "ticks": ""
             }
            },
            "type": "scatterpolar"
           }
          ],
          "scatterpolargl": [
           {
            "marker": {
             "colorbar": {
              "outlinewidth": 0,
              "ticks": ""
             }
            },
            "type": "scatterpolargl"
           }
          ],
          "scatterternary": [
           {
            "marker": {
             "colorbar": {
              "outlinewidth": 0,
              "ticks": ""
             }
            },
            "type": "scatterternary"
           }
          ],
          "surface": [
           {
            "colorbar": {
             "outlinewidth": 0,
             "ticks": ""
            },
            "colorscale": [
             [
              0,
              "#0d0887"
             ],
             [
              0.1111111111111111,
              "#46039f"
             ],
             [
              0.2222222222222222,
              "#7201a8"
             ],
             [
              0.3333333333333333,
              "#9c179e"
             ],
             [
              0.4444444444444444,
              "#bd3786"
             ],
             [
              0.5555555555555556,
              "#d8576b"
             ],
             [
              0.6666666666666666,
              "#ed7953"
             ],
             [
              0.7777777777777778,
              "#fb9f3a"
             ],
             [
              0.8888888888888888,
              "#fdca26"
             ],
             [
              1,
              "#f0f921"
             ]
            ],
            "type": "surface"
           }
          ],
          "table": [
           {
            "cells": {
             "fill": {
              "color": "#EBF0F8"
             },
             "line": {
              "color": "white"
             }
            },
            "header": {
             "fill": {
              "color": "#C8D4E3"
             },
             "line": {
              "color": "white"
             }
            },
            "type": "table"
           }
          ]
         },
         "layout": {
          "annotationdefaults": {
           "arrowcolor": "#2a3f5f",
           "arrowhead": 0,
           "arrowwidth": 1
          },
          "coloraxis": {
           "colorbar": {
            "outlinewidth": 0,
            "ticks": ""
           }
          },
          "colorscale": {
           "diverging": [
            [
             0,
             "#8e0152"
            ],
            [
             0.1,
             "#c51b7d"
            ],
            [
             0.2,
             "#de77ae"
            ],
            [
             0.3,
             "#f1b6da"
            ],
            [
             0.4,
             "#fde0ef"
            ],
            [
             0.5,
             "#f7f7f7"
            ],
            [
             0.6,
             "#e6f5d0"
            ],
            [
             0.7,
             "#b8e186"
            ],
            [
             0.8,
             "#7fbc41"
            ],
            [
             0.9,
             "#4d9221"
            ],
            [
             1,
             "#276419"
            ]
           ],
           "sequential": [
            [
             0,
             "#0d0887"
            ],
            [
             0.1111111111111111,
             "#46039f"
            ],
            [
             0.2222222222222222,
             "#7201a8"
            ],
            [
             0.3333333333333333,
             "#9c179e"
            ],
            [
             0.4444444444444444,
             "#bd3786"
            ],
            [
             0.5555555555555556,
             "#d8576b"
            ],
            [
             0.6666666666666666,
             "#ed7953"
            ],
            [
             0.7777777777777778,
             "#fb9f3a"
            ],
            [
             0.8888888888888888,
             "#fdca26"
            ],
            [
             1,
             "#f0f921"
            ]
           ],
           "sequentialminus": [
            [
             0,
             "#0d0887"
            ],
            [
             0.1111111111111111,
             "#46039f"
            ],
            [
             0.2222222222222222,
             "#7201a8"
            ],
            [
             0.3333333333333333,
             "#9c179e"
            ],
            [
             0.4444444444444444,
             "#bd3786"
            ],
            [
             0.5555555555555556,
             "#d8576b"
            ],
            [
             0.6666666666666666,
             "#ed7953"
            ],
            [
             0.7777777777777778,
             "#fb9f3a"
            ],
            [
             0.8888888888888888,
             "#fdca26"
            ],
            [
             1,
             "#f0f921"
            ]
           ]
          },
          "colorway": [
           "#636efa",
           "#EF553B",
           "#00cc96",
           "#ab63fa",
           "#FFA15A",
           "#19d3f3",
           "#FF6692",
           "#B6E880",
           "#FF97FF",
           "#FECB52"
          ],
          "font": {
           "color": "#2a3f5f"
          },
          "geo": {
           "bgcolor": "white",
           "lakecolor": "white",
           "landcolor": "#E5ECF6",
           "showlakes": true,
           "showland": true,
           "subunitcolor": "white"
          },
          "hoverlabel": {
           "align": "left"
          },
          "hovermode": "closest",
          "mapbox": {
           "style": "light"
          },
          "paper_bgcolor": "white",
          "plot_bgcolor": "#E5ECF6",
          "polar": {
           "angularaxis": {
            "gridcolor": "white",
            "linecolor": "white",
            "ticks": ""
           },
           "bgcolor": "#E5ECF6",
           "radialaxis": {
            "gridcolor": "white",
            "linecolor": "white",
            "ticks": ""
           }
          },
          "scene": {
           "xaxis": {
            "backgroundcolor": "#E5ECF6",
            "gridcolor": "white",
            "gridwidth": 2,
            "linecolor": "white",
            "showbackground": true,
            "ticks": "",
            "zerolinecolor": "white"
           },
           "yaxis": {
            "backgroundcolor": "#E5ECF6",
            "gridcolor": "white",
            "gridwidth": 2,
            "linecolor": "white",
            "showbackground": true,
            "ticks": "",
            "zerolinecolor": "white"
           },
           "zaxis": {
            "backgroundcolor": "#E5ECF6",
            "gridcolor": "white",
            "gridwidth": 2,
            "linecolor": "white",
            "showbackground": true,
            "ticks": "",
            "zerolinecolor": "white"
           }
          },
          "shapedefaults": {
           "line": {
            "color": "#2a3f5f"
           }
          },
          "ternary": {
           "aaxis": {
            "gridcolor": "white",
            "linecolor": "white",
            "ticks": ""
           },
           "baxis": {
            "gridcolor": "white",
            "linecolor": "white",
            "ticks": ""
           },
           "bgcolor": "#E5ECF6",
           "caxis": {
            "gridcolor": "white",
            "linecolor": "white",
            "ticks": ""
           }
          },
          "title": {
           "x": 0.05
          },
          "xaxis": {
           "automargin": true,
           "gridcolor": "white",
           "linecolor": "white",
           "ticks": "",
           "title": {
            "standoff": 15
           },
           "zerolinecolor": "white",
           "zerolinewidth": 2
          },
          "yaxis": {
           "automargin": true,
           "gridcolor": "white",
           "linecolor": "white",
           "ticks": "",
           "title": {
            "standoff": 15
           },
           "zerolinecolor": "white",
           "zerolinewidth": 2
          }
         }
        }
       }
      }
     },
     "metadata": {}
    }
   ],
   "source": [
    "fig = px.treemap(manga_df2, path=['manga'], values='nb_seen',\n",
    "                  color='straight_average', hover_data=['nb_seen', 'nb_votes'],\n",
    "                  color_continuous_scale='RdBu',\n",
    "                  color_continuous_midpoint=np.average(anime_df2['straight_average']))\n",
    "fig.show()\n",
    "fig.write_html('manga treemap.html', auto_open=True)"
   ]
  },
  {
   "cell_type": "code",
   "execution_count": 29,
   "metadata": {
    "tags": []
   },
   "outputs": [
    {
     "output_type": "stream",
     "name": "stdout",
     "text": "There are 307131 words in the combination of all review.\n"
    },
    {
     "output_type": "display_data",
     "data": {
      "text/plain": "<Figure size 432x288 with 1 Axes>",
      "image/svg+xml": "<?xml version=\"1.0\" encoding=\"utf-8\" standalone=\"no\"?>\r\n<!DOCTYPE svg PUBLIC \"-//W3C//DTD SVG 1.1//EN\"\r\n  \"http://www.w3.org/Graphics/SVG/1.1/DTD/svg11.dtd\">\r\n<!-- Created with matplotlib (https://matplotlib.org/) -->\r\n<svg height=\"181.8pt\" version=\"1.1\" viewBox=\"0 0 349.2 181.8\" width=\"349.2pt\" xmlns=\"http://www.w3.org/2000/svg\" xmlns:xlink=\"http://www.w3.org/1999/xlink\">\r\n <defs>\r\n  <style type=\"text/css\">\r\n*{stroke-linecap:butt;stroke-linejoin:round;}\r\n  </style>\r\n </defs>\r\n <g id=\"figure_1\">\r\n  <g id=\"patch_1\">\r\n   <path d=\"M 0 181.8 \r\nL 349.2 181.8 \r\nL 349.2 0 \r\nL 0 0 \r\nz\r\n\" style=\"fill:none;\"/>\r\n  </g>\r\n  <g id=\"axes_1\">\r\n   <g clip-path=\"url(#p282ddb9879)\">\r\n    <image height=\"168\" id=\"imaged5bfd86bdd\" transform=\"scale(1 -1)translate(0 -168)\" width=\"335\" x=\"7.2\" xlink:href=\"data:image/png;base64,\r\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\" y=\"-6.6\"/>\r\n   </g>\r\n  </g>\r\n </g>\r\n <defs>\r\n  <clipPath id=\"p282ddb9879\">\r\n   <rect height=\"167.4\" width=\"334.8\" x=\"7.2\" y=\"7.2\"/>\r\n  </clipPath>\r\n </defs>\r\n</svg>\r\n",
      "image/png": "[encoded data removed]"
     },
     "metadata": {
      "needs_background": "light"
     }
    }
   ],
   "source": [
    "from os import path\n",
    "from PIL import Image\n",
    "from wordcloud import WordCloud, STOPWORDS, ImageColorGenerator\n",
    "\n",
    "text = \" \".join(review for review in data_df.genre)\n",
    "print (\"There are {} words in the combination of all review.\".format(len(text)))\n",
    "\n",
    "# Create and generate a word cloud image:\n",
    "wordcloud = WordCloud().generate(text)\n",
    "\n",
    "# Display the generated image:\n",
    "plt.imshow(wordcloud, interpolation='bilinear')\n",
    "plt.axis(\"off\")\n",
    "#fig= plt.figure(figsize=(100,100))\n",
    "plt.savefig(\"Word_Cloud.png\", format=\"png\")\n",
    "plt.show()\n"
   ]
  },
  {
   "cell_type": "code",
   "execution_count": 30,
   "metadata": {},
   "outputs": [
    {
     "output_type": "display_data",
     "data": {
      "text/plain": "<Figure size 432x288 with 1 Axes>",
      "image/svg+xml": "<?xml version=\"1.0\" encoding=\"utf-8\" standalone=\"no\"?>\r\n<!DOCTYPE svg PUBLIC \"-//W3C//DTD SVG 1.1//EN\"\r\n  \"http://www.w3.org/Graphics/SVG/1.1/DTD/svg11.dtd\">\r\n<!-- Created with matplotlib (https://matplotlib.org/) -->\r\n<svg height=\"181.8pt\" version=\"1.1\" viewBox=\"0 0 349.2 181.8\" width=\"349.2pt\" xmlns=\"http://www.w3.org/2000/svg\" xmlns:xlink=\"http://www.w3.org/1999/xlink\">\r\n <defs>\r\n  <style type=\"text/css\">\r\n*{stroke-linecap:butt;stroke-linejoin:round;}\r\n  </style>\r\n </defs>\r\n <g id=\"figure_1\">\r\n  <g id=\"patch_1\">\r\n   <path d=\"M 0 181.8 \r\nL 349.2 181.8 \r\nL 349.2 0 \r\nL 0 0 \r\nz\r\n\" style=\"fill:none;\"/>\r\n  </g>\r\n  <g id=\"axes_1\">\r\n   <g clip-path=\"url(#p26a5395c6a)\">\r\n    <image height=\"168\" id=\"image0da962533d\" transform=\"scale(1 -1)translate(0 -168)\" width=\"335\" x=\"7.2\" xlink:href=\"data:image/png;base64,\r\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\" y=\"-6.6\"/>\r\n   </g>\r\n  </g>\r\n </g>\r\n <defs>\r\n  <clipPath id=\"p26a5395c6a\">\r\n   <rect height=\"167.4\" width=\"334.8\" x=\"7.2\" y=\"7.2\"/>\r\n  </clipPath>\r\n </defs>\r\n</svg>\r\n",
      "image/png": "[encoded data removed]"
     },
     "metadata": {
      "needs_background": "light"
     }
    }
   ],
   "source": [
    "wordcloud = WordCloud(max_font_size=50, max_words=100, background_color=\"white\").generate(text)\n",
    "plt.figure()\n",
    "plt.imshow(wordcloud, interpolation=\"bilinear\")\n",
    "plt.axis(\"off\")\n",
    "plt.show()"
   ]
  },
  {
   "cell_type": "code",
   "execution_count": 31,
   "metadata": {},
   "outputs": [],
   "source": [
    "#ETL Challenge process background\n",
    "#1.\tI downloaded the top 50 anime and manga titles from animenewsnetwork\n",
    "#a.\t\"https://www.animenewsnetwork.com/encyclopedia/reports.xml?id=172\"\n",
    "#b.\t\"https://www.animenewsnetwork.com/encyclopedia/reports.xml?id=173\")\n",
    "#2.\tUsing the xml.etree.Elementree module I converted both XMLs to Dataframes\n",
    "#3.\tUsing panda df.merge, I outer merged both converted Dataframes into one list_df Dataframe\n",
    "#4.\tI then used dtypes to determine the type of each column\n",
    "#5.\tFor all columns which had numerical values I converted the columns from objects to float64 types\n",
    "#6.\tNext I moved the Manga name column from the end next to the Anime name column\n",
    "#7.\tFinally I sorted the final Dataframe by nb_seen first and straight_average second, to ensure that any potential outliers are not being used for the top anime and manga categories\n",
    "#8. I also made two plotly treemaps, one for anime and for manga, the treemap allows you to see the information for the top 50 animes and the top 50 mangas in order visually.  They were exported in html format to allow for them to be added to the webpage we created\n",
    "#9.  I created a wordcloud using the genre information within the .csv file to visually demostrate what genre's categories are the most popular (note: there are over 300k words used in the .csv document)\n"
   ]
  }
 ]
}